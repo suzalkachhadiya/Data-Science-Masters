{
 "cells": [
  {
   "cell_type": "markdown",
   "id": "f80ef1d5",
   "metadata": {},
   "source": [
    "# 1] What are the Probability Mass Function (PMF) and Probability Density Function (PDF)? Explain with an example."
   ]
  },
  {
   "cell_type": "markdown",
   "id": "22aa8de2",
   "metadata": {},
   "source": [
    "### =>  It shows distribution of discrete data.\n",
    "### => If p(X=x) is probability mass function then it must be satisfy the following condition:\n",
    "### 1} p(x)>=0\n",
    "### 2} Σp(x) = 1\n",
    "### \n",
    "### => no. of heads  when 3 coins are tosed."
   ]
  },
  {
   "cell_type": "markdown",
   "id": "7e3440e2",
   "metadata": {},
   "source": [
    "### => It shows distribution of continuous data.\n",
    "### => if f(x) is probability distribution function then it must be satisfy the following condition:\n",
    "### 1} f(x)>=0 , -inf < x < inf\n",
    "### 2} integration -inf to inf f(x)dx = 1\n",
    "### \n",
    "### =>  f(x)=x^2, 0<x<1        and          f(x)=0, otherwise"
   ]
  },
  {
   "cell_type": "markdown",
   "id": "f7ebe41b",
   "metadata": {},
   "source": [
    "# 2] What is Cumulative Density Function (CDF)? Explain with an example. Why CDF is used?"
   ]
  },
  {
   "cell_type": "markdown",
   "id": "0c7a6715",
   "metadata": {},
   "source": [
    "### => A Cumulative Density Function (CDF) is a statistical function that represents the cumulative distribution of a continuous random variable. The CDF gives the probability that the value of a random variable will be less than or equal to a given point.\n",
    "\n",
    "### => Mathematically, the CDF is defined as:\n",
    "\n",
    "### => F(x) = P(X ≤ x)\n",
    "\n",
    "### => where X is the random variable and F(x) is the probability that X is less than or equal to x.\n",
    "### \n",
    "### => For example, let's say we have a continuous random variable X that represents the height of adult males in a certain population. The CDF of X would give us the probability that a randomly selected male is shorter than or equal to a given height x.\n",
    "### \n",
    "### => CDFs are commonly used in statistics because they provide a way to summarize the distribution of a random variable in a concise and interpretable way. They can also be used to calculate probabilities and percentiles, and to compare different distributions."
   ]
  },
  {
   "cell_type": "markdown",
   "id": "5d539147",
   "metadata": {},
   "source": [
    "# 3] What are some examples of situations where the normal distribution might be used as a model? Explain how the parameters of the normal distribution relate to the shape of the distribution."
   ]
  },
  {
   "cell_type": "markdown",
   "id": "4c73839a",
   "metadata": {},
   "source": [
    "## 1) Heights of people in a population: \n",
    "### => It is a common assumption that human heights follow a normal distribution, with a mean around 5'7\" (170 cm) and a standard deviation of about 3 inches (7.6 cm).\n",
    "\n",
    "## 2) Scores on standardized tests: \n",
    "### => Standardized tests, such as the SAT or GRE, are designed to have a normal distribution of scores with a mean of around 500-600 and a standard deviation of around 100 points.\n",
    "\n",
    "## 3) Errors in measurements:\n",
    "### => Errors in measurements often follow a normal distribution, which allows scientists to use statistical tools to analyze and make predictions based on the data.\n",
    "### \n",
    "### => The parameters of the normal distribution are the mean (μ) and the standard deviation (σ). The mean determines the center of the distribution, while the standard deviation determines the spread of the distribution. Specifically, the larger the standard deviation, the wider the distribution and the flatter the curve. Conversely, the smaller the standard deviation, the narrower the distribution and the taller the curve. The shape of the normal distribution is symmetrical, with the highest point (peak) at the mean, and the curve gradually tapering off in both directions."
   ]
  },
  {
   "cell_type": "markdown",
   "id": "2c9646f6",
   "metadata": {},
   "source": [
    "# 4] Explain the importance of Normal Distribution. Give a few real-life examples of Normal Distribution."
   ]
  },
  {
   "cell_type": "markdown",
   "id": "da79fd18",
   "metadata": {},
   "source": [
    "## Importance\n",
    "## 1) Universality:\n",
    "### => The normal distribution can be used to model many natural phenomena, making it a universal tool in science and engineering.\n",
    "\n",
    "## 2) Simplicity: \n",
    "### => The normal distribution is straightforward to understand and use, making it an essential tool in data analysis and modeling.\n",
    "\n",
    "## 3)Central Limit Theorem: \n",
    "### => The normal distribution is a fundamental concept in the Central Limit Theorem, which states that the sum or average of a large number of independent, identically distributed random variables will converge to a normal distribution.\n",
    "## \n",
    "## Examples\n",
    "## 1) Test scores: \n",
    "### => In educational settings, test scores often follow a normal distribution, with most students scoring around the mean score, and a few students scoring very high or very low.\n",
    "## 2) IQ scores: \n",
    "### => Intelligence quotient (IQ) scores are often assumed to follow a normal distribution, with most people having an average IQ score and very few people having a very high or very low IQ score."
   ]
  },
  {
   "cell_type": "markdown",
   "id": "032d2344",
   "metadata": {},
   "source": [
    "# 5] What is Bernaulli Distribution? Give an Example. What is the difference between Bernoulli Distribution and Binomial Distribution?"
   ]
  },
  {
   "cell_type": "markdown",
   "id": "d5a568a5",
   "metadata": {},
   "source": [
    "### => The Bernoulli distribution is a discrete probability distribution that models the outcome of a single Bernoulli trial or experiment that can only have two possible outcomes, usually labeled as success (with probability p) and failure (with probability q = 1 - p). It is named after the Swiss mathematician Jacob Bernoulli, who first used it in the early 18th century to study the probability of coin flips.\n",
    "### \n",
    "### => The difference between the Bernoulli distribution and the Binomial distribution is that the Bernoulli distribution models a single Bernoulli trial, while the Binomial distribution models the number of successes in a fixed number of independent Bernoulli trials. In other words, the Bernoulli distribution is a special case of the Binomial distribution with n = 1."
   ]
  },
  {
   "cell_type": "markdown",
   "id": "f41238fc",
   "metadata": {},
   "source": [
    "# 6] Consider a dataset with a mean of 50 and a standard deviation of 10. If we assume that the dataset is normally distributed, what is the probability that a randomly selected observation will be greater than 60? Use the appropriate formula and show your calculations."
   ]
  },
  {
   "cell_type": "markdown",
   "id": "1fa7afe8",
   "metadata": {},
   "source": [
    "### => z value = 60 - 50 / 10\n",
    "### => z value = 1\n",
    "### => value from table = 0.8413\n",
    "### => for > 1 \n",
    "### => ans = 1 - 0.8413 = 0.1587"
   ]
  },
  {
   "cell_type": "markdown",
   "id": "22d60009",
   "metadata": {},
   "source": [
    "# 7] Explain uniform Distribution with an example."
   ]
  },
  {
   "cell_type": "markdown",
   "id": "907b42d7",
   "metadata": {},
   "source": [
    "### => The uniform distribution is a continuous probability distribution that models random variables where all values in a given range are equally likely. It is also known as the rectangular distribution because the probability density function is constant over the interval.\n",
    "### \n",
    "### => The probability density function (PDF) of the uniform distribution is defined as:\n",
    "### => f(x) = 1/(b-a), for a ≤ x ≤ b\n",
    "### \n",
    "### => For example, if we are considering a random variable that can take on values between 0 and 1 with equal probability, then the uniform distribution can be used to model this situation. The probability density function for this case is f(x) = 1, for 0 ≤ x ≤ 1, and zero elsewhere."
   ]
  },
  {
   "cell_type": "markdown",
   "id": "9f077179",
   "metadata": {},
   "source": [
    "# 8] What is the z score? State the importance of the z score."
   ]
  },
  {
   "cell_type": "markdown",
   "id": "c94c35dc",
   "metadata": {},
   "source": [
    "### => The z-score, also known as the standard score, is a measure of how many standard deviations a given data point is away from the mean of a distribution. It is a dimensionless quantity, meaning that it does not depend on the units of measurement used for the data.\n",
    "\n",
    "### => The formula for calculating the z-score of a data point x in a distribution with mean μ and standard deviation σ is:\n",
    "\n",
    "### => z = (x - μ) / σ\n",
    "### \n",
    "### => The importance of the z-score is that it allows us to compare and standardize data that are measured in different units or have different distributions. By converting data to z-scores, we can compare data from different distributions on the same scale, and we can also identify outliers and extreme values that are far away from the mean."
   ]
  },
  {
   "cell_type": "markdown",
   "id": "c9fe7253",
   "metadata": {},
   "source": [
    "# 9] What is Central Limit Theorem? State the significance of the Central Limit Theorem."
   ]
  },
  {
   "cell_type": "markdown",
   "id": "e332e3e6",
   "metadata": {},
   "source": [
    "### => The Central Limit Theorem states that if we have a sample of n independent and identically distributed random variables with mean μ and standard deviation σ, then the distribution of the sample mean (or sum) will approach a normal distribution with mean μ and standard deviation σ / sqrt(n), as n approaches infinity.\n",
    "### \n",
    "### =>The significance of the Central Limit Theorem is that it provides a way to estimate the population mean and standard deviation, even when we do not know the underlying population distribution. It also allows us to make inferences and draw conclusions about the population based on a sample of data, which is important in many fields of study, including finance, economics, engineering, and biology."
   ]
  },
  {
   "cell_type": "markdown",
   "id": "7fa91d15",
   "metadata": {},
   "source": [
    "# 10] State the assumptions of the Central Limit Theorem."
   ]
  },
  {
   "cell_type": "markdown",
   "id": "5a8e9cf6",
   "metadata": {},
   "source": [
    "## 1) Independence: \n",
    "### => The observations or data values in the sample must be independent of each other. In other words, the value of one observation should not affect the value of another observation.\n",
    "\n",
    "## 2) Sample size: \n",
    "### => The sample size should be sufficiently large. Although there is no fixed rule for how large the sample size needs to be, a general guideline is that the sample size should be at least 30.\n",
    "\n",
    "## 3) Identical distribution: \n",
    "### => The sample should be drawn from a population with an identical distribution. The mean and variance of the population should be finite.\n",
    "\n",
    "## 4) Random sampling:\n",
    "### => The sample should be selected randomly from the population. This means that each observation in the population should have an equal chance of being selected for the sample."
   ]
  }
 ],
 "metadata": {
  "kernelspec": {
   "display_name": "Python 3 (ipykernel)",
   "language": "python",
   "name": "python3"
  },
  "language_info": {
   "codemirror_mode": {
    "name": "ipython",
    "version": 3
   },
   "file_extension": ".py",
   "mimetype": "text/x-python",
   "name": "python",
   "nbconvert_exporter": "python",
   "pygments_lexer": "ipython3",
   "version": "3.9.13"
  }
 },
 "nbformat": 4,
 "nbformat_minor": 5
}
