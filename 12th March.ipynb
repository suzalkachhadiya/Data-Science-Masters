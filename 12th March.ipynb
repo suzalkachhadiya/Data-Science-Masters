{
 "cells": [
  {
   "cell_type": "markdown",
   "id": "c0ace8e0",
   "metadata": {},
   "source": [
    "# 1] Calculate the 95% confidence interval for a sample of data with a mean of 50 and a standard deviation of 5 using Python. Interpret the results."
   ]
  },
  {
   "cell_type": "code",
   "execution_count": 1,
   "id": "ecf0850d",
   "metadata": {},
   "outputs": [],
   "source": [
    "import math\n",
    "def CI(mean,SD,alpha=1.96,sample_size=30):\n",
    "    return (mean-(alpha*SD)/math.sqrt(sample_size),mean+(alpha*SD)/math.sqrt(sample_size))"
   ]
  },
  {
   "cell_type": "code",
   "execution_count": 2,
   "id": "c9bee825",
   "metadata": {},
   "outputs": [
    {
     "data": {
      "text/plain": [
       "(48.21077297881646, 51.78922702118354)"
      ]
     },
     "execution_count": 2,
     "metadata": {},
     "output_type": "execute_result"
    }
   ],
   "source": [
    "Q1_ans=CI(50,5)\n",
    "Q1_ans"
   ]
  },
  {
   "cell_type": "markdown",
   "id": "b6d8c850",
   "metadata": {},
   "source": [
    "# 2] Conduct a chi-square goodness of fit test to determine if the distribution of colors of M&Ms in a bag matches the expected distribution of 20% blue, 20% orange, 20% green, 10% yellow, 10% red, and 20% brown. Use Python to perform the test with a significance level of 0.05."
   ]
  },
  {
   "cell_type": "code",
   "execution_count": 3,
   "id": "e72983d6",
   "metadata": {},
   "outputs": [],
   "source": [
    "import scipy.stats as stat\n",
    "import numpy as np"
   ]
  },
  {
   "cell_type": "code",
   "execution_count": 4,
   "id": "5462253d",
   "metadata": {},
   "outputs": [
    {
     "name": "stdout",
     "output_type": "stream",
     "text": [
      " 0.0825 \n",
      " 0.9998990272254895\n"
     ]
    }
   ],
   "source": [
    "# M&M'S PEANUT: 23% cyan blue, 23% orange, 15% green, 15% bright yellow, 12% red, 12% brown\n",
    "# M&M'S KIDS MINIS: 25% cyan blue, 25% orange, 12% green, 13% bright yellow, 12% red, 13% brown. \n",
    "# M&M'S DARK: 17% cyan blue, 16% orange, 16% green, 17% bright yellow, 17% red, 17% brown.\n",
    "\n",
    "expected_data=[0.2, 0.2, 0.2, 0.1, 0.1, 0.2]\n",
    "observed_data_peanut=[0.23, 0.23, 0.15, 0.15, 0.12, 0.12]\n",
    "\n",
    "chi_square_test_stats,p_value=stat.chisquare(observed_data_peanut,expected_data)\n",
    "print(\"\",chi_square_test_stats,\"\\n\",p_value)"
   ]
  },
  {
   "cell_type": "code",
   "execution_count": 5,
   "id": "01c05403",
   "metadata": {},
   "outputs": [
    {
     "data": {
      "text/plain": [
       "11.070497693516351"
      ]
     },
     "execution_count": 5,
     "metadata": {},
     "output_type": "execute_result"
    }
   ],
   "source": [
    "significance=0.05\n",
    "dof=len(observed_data_peanut)-1\n",
    "critical_value=stat.chi2.ppf(1-significance,dof)\n",
    "critical_value"
   ]
  },
  {
   "cell_type": "code",
   "execution_count": 6,
   "id": "5b8c80d1",
   "metadata": {},
   "outputs": [
    {
     "name": "stdout",
     "output_type": "stream",
     "text": [
      "Accept the null hypothesis: the distribution of colors of M&Ms in a bag matches the expected distribution\n"
     ]
    }
   ],
   "source": [
    "if chi_square_test_stats>critical_value:\n",
    "    print(\"Reject the null hypothesis: the distribution of colors of M&Ms in a bag matches the expected distribution\")\n",
    "else:print(\"Accept the null hypothesis: the distribution of colors of M&Ms in a bag matches the expected distribution\")"
   ]
  },
  {
   "cell_type": "markdown",
   "id": "9ef06ffd",
   "metadata": {},
   "source": [
    "# 3] Use Python to calculate the chi-square statistic and p-value for a contingency table with the following data: \n",
    "# Group A    Group B\n",
    "\n",
    "# Outcome 1 20 15\n",
    "# Outcome 2 10 25\n",
    "# Outcome 3 15 20\n",
    "# Interpret the results of the test."
   ]
  },
  {
   "cell_type": "code",
   "execution_count": 7,
   "id": "76b0fc87",
   "metadata": {},
   "outputs": [
    {
     "name": "stdout",
     "output_type": "stream",
     "text": [
      "Chi-square statistic: 5.833333333333334\n",
      "p-value: 0.05411376622282158\n"
     ]
    }
   ],
   "source": [
    "from scipy.stats import chi2_contingency\n",
    "\n",
    "contingency_table = [[20, 15], [10, 25], [15, 20]]\n",
    "chi2_stat, Q3_p_value,Q3_dof,Q3_expected = chi2_contingency(contingency_table)\n",
    "\n",
    "print(\"Chi-square statistic:\", chi2_stat)\n",
    "print(\"p-value:\", Q3_p_value)"
   ]
  },
  {
   "cell_type": "markdown",
   "id": "03e3715e",
   "metadata": {},
   "source": [
    "# 4] A study of the prevalence of smoking in a population of 500 individuals found that 60 individuals smoked. Use Python to calculate the 95% confidence interval for the true proportion of individuals in the population who smoke."
   ]
  },
  {
   "cell_type": "code",
   "execution_count": 8,
   "id": "e7ee5cd2",
   "metadata": {},
   "outputs": [
    {
     "name": "stdout",
     "output_type": "stream",
     "text": [
      "(0.09151586546865079, 0.1484841345313492)\n"
     ]
    }
   ],
   "source": [
    "import math\n",
    "size=500\n",
    "p=60/500\n",
    "z_value=1.96\n",
    "standard_error=math.sqrt((p*(1-p))/size)\n",
    "lower_bound=p-(z_value*standard_error)\n",
    "upper_bound=p+(z_value*standard_error)\n",
    "print((lower_bound,upper_bound))"
   ]
  },
  {
   "cell_type": "markdown",
   "id": "04d4cef7",
   "metadata": {},
   "source": [
    "# 5] Calculate the 90% confidence interval for a sample of data with a mean of 75 and a standard deviation of 12 using Python. Interpret the results."
   ]
  },
  {
   "cell_type": "code",
   "execution_count": 9,
   "id": "72849433",
   "metadata": {},
   "outputs": [
    {
     "data": {
      "text/plain": [
       "(71.39598557161601, 78.60401442838399)"
      ]
     },
     "execution_count": 9,
     "metadata": {},
     "output_type": "execute_result"
    }
   ],
   "source": [
    "Q5_ans=CI(75,12,1.645)\n",
    "Q5_ans"
   ]
  },
  {
   "cell_type": "markdown",
   "id": "2f38c554",
   "metadata": {},
   "source": [
    "# 6] Use Python to plot the chi-square distribution with 10 degrees of freedom. Label the axes and shade the area corresponding to a chi-square statistic of 15."
   ]
  },
  {
   "cell_type": "code",
   "execution_count": 10,
   "id": "857603a6",
   "metadata": {},
   "outputs": [],
   "source": [
    "import matplotlib.pyplot as plt\n",
    "import seaborn as sns\n",
    "from scipy.stats import chi2"
   ]
  },
  {
   "cell_type": "code",
   "execution_count": 11,
   "id": "43f78a7c",
   "metadata": {},
   "outputs": [],
   "source": [
    "df = 10\n",
    "x = np.linspace(chi2.ppf(0.01, df), chi2.ppf(0.99, df), 100)\n"
   ]
  },
  {
   "cell_type": "code",
   "execution_count": 12,
   "id": "7004dd10",
   "metadata": {},
   "outputs": [
    {
     "name": "stderr",
     "output_type": "stream",
     "text": [
      "No artists with labels found to put in legend.  Note that artists whose label start with an underscore are ignored when legend() is called with no argument.\n"
     ]
    },
    {
     "data": {
      "image/png": "[encoded data removed]",
      "text/plain": [
       "<Figure size 640x480 with 1 Axes>"
      ]
     },
     "metadata": {},
     "output_type": "display_data"
    }
   ],
   "source": [
    "fig, ax = plt.subplots()\n",
    "\n",
    "ax.plot(x, chi2.pdf(x, df), 'r-', lw=3)\n",
    "\n",
    "# Shade the area corresponding to chi2 = 15\n",
    "x_shade = np.linspace(chi2.ppf(0.01, df), chi2.ppf(0.95, df), 100)\n",
    "ax.fill_between(x_shade, chi2.pdf(x_shade, df), 0, color='green')\n",
    "\n",
    "\n",
    "ax.set_xlabel('x')\n",
    "ax.set_ylabel('Probability density')\n",
    "\n",
    "ax.legend(loc='best', frameon=False)\n",
    "plt.show()"
   ]
  },
  {
   "cell_type": "markdown",
   "id": "b3f79022",
   "metadata": {},
   "source": [
    "# 7] A random sample of 1000 people was asked if they preferred Coke or Pepsi. Of the sample, 520 preferred Coke. Calculate a 99% confidence interval for the true proportion of people in the population who prefer Coke."
   ]
  },
  {
   "cell_type": "code",
   "execution_count": 13,
   "id": "ab7ac475",
   "metadata": {},
   "outputs": [
    {
     "name": "stdout",
     "output_type": "stream",
     "text": [
      "(0.48903448111204983, 0.5509655188879502)\n"
     ]
    }
   ],
   "source": [
    "Q7_size=1000\n",
    "Q7_p=520/1000\n",
    "Q7_z_value=1.96\n",
    "Q7_standard_error=math.sqrt((Q7_p*(1-Q7_p))/Q7_size)\n",
    "Q7_lower_bound=Q7_p-(Q7_z_value*Q7_standard_error)\n",
    "Q7_upper_bound=Q7_p+(Q7_z_value*Q7_standard_error)\n",
    "print((Q7_lower_bound,Q7_upper_bound))"
   ]
  },
  {
   "cell_type": "markdown",
   "id": "d0be13d9",
   "metadata": {},
   "source": [
    "# 8] A researcher hypothesizes that a coin is biased towards tails. They flip the coin 100 times and observe 45 tails. Conduct a chi-square goodness of fit test to determine if the observed frequencies match the expected frequencies of a fair coin. Use a significance level of 0.05.\n",
    "\n"
   ]
  },
  {
   "cell_type": "code",
   "execution_count": 14,
   "id": "6e3f9fec",
   "metadata": {},
   "outputs": [
    {
     "name": "stdout",
     "output_type": "stream",
     "text": [
      "Accept the null hypothesis:   Coin is biased towards tails. \n"
     ]
    }
   ],
   "source": [
    "Q8_expected_data=[51,49]  # expected is minimum 51 tail for being biased towards tails.\n",
    "Q8_observed_data=[45,55]\n",
    "\n",
    "Q8_chi_square_test_stats,Q8_p_value=stat.chisquare(Q8_observed_data,Q8_expected_data)\n",
    "\n",
    "Q8_significance=0.05\n",
    "Q8_dof=len(Q8_observed_data)-1\n",
    "Q8_critical_value=stat.chi2.ppf(1-significance,Q8_dof)\n",
    "\n",
    "if chi_square_test_stats>critical_value:\n",
    "    print(\"Reject the null hypothesis:   Coin is biased towards tails.\")\n",
    "else:\n",
    "    print(\"Accept the null hypothesis:   Coin is biased towards tails. \")"
   ]
  },
  {
   "cell_type": "markdown",
   "id": "0e24ccb6",
   "metadata": {},
   "source": [
    "# 9] A study was conducted to determine if there is an association between smoking status (smoker or non-smoker) and lung cancer diagnosis (yes or no). The results are shown in the contingency table below. Conduct a chi-square test for independence to determine if there is a significant association between smoking status and lung cancer diagnosis.\n",
    "# Lung Cancer: Yes       Lung Cancer: No\n",
    "\n",
    "# Smoker 60 140\n",
    "# Non-smoker 30 170\n",
    "# Use a significance level of 0.05."
   ]
  },
  {
   "cell_type": "code",
   "execution_count": 15,
   "id": "cb45bd07",
   "metadata": {},
   "outputs": [
    {
     "name": "stdout",
     "output_type": "stream",
     "text": [
      "Reject the null hypothesis: there is not a significant association between smoking status and lung cancer diagnosis\n"
     ]
    }
   ],
   "source": [
    "Q9_observed_data=[60,140,30,170]\n",
    "Q9_expected_data=[45,105,45,105]\n",
    "\n",
    "Q9_chi_square_test_stats=0\n",
    "for i in range(4):\n",
    "    Q9_chi_square_test_stats=Q9_chi_square_test_stats+(((Q9_observed_data[i]-Q9_expected_data[i])**2)/Q9_expected_data[i])\n",
    "Q9_dof=(2-1)*(2-1)\n",
    "Q9_significance=0.05\n",
    "\n",
    "Q9_critical_value=stat.chi2.ppf(1-Q9_significance,Q9_dof)\n",
    "\n",
    "if Q9_chi_square_test_stats>Q9_critical_value:\n",
    "    print(\"Reject the null hypothesis: there is not a significant association between smoking status and lung cancer diagnosis\")\n",
    "else:\n",
    "    print(\"Accept the null hypothesis: there is a significant association between smoking status and lung cancer diagnosis.\")"
   ]
  },
  {
   "cell_type": "markdown",
   "id": "8a8ff370",
   "metadata": {},
   "source": [
    "# 10] A study was conducted to determine if the proportion of people who prefer milk chocolate, dark chocolate, or white chocolate is different in the U.S. versus the U.K. A random sample of 500 people from the U.S. and a random sample of 500 people from the U.K. were surveyed. The results are shown in the contingency table below. Conduct a chi-square test for independence to determine if there is a significant  association between chocolate preference and country of origin.\n",
    "# Milk Chocolate Dark Chocolate White Chocolate\n",
    "\n",
    "# U.S. (n=500) 200 150 150\n",
    "# U.K. (n=500) 225 175 100"
   ]
  },
  {
   "cell_type": "code",
   "execution_count": 16,
   "id": "3227038e",
   "metadata": {},
   "outputs": [
    {
     "name": "stdout",
     "output_type": "stream",
     "text": [
      "Reject the null hypothesis: there is not a significant association between chocolate preference and country of origin\n"
     ]
    }
   ],
   "source": [
    "Q10_observed_data=[200,150,150,225,175,100]\n",
    "Q10_expected_data=[212.5,162.5,175,212.5,162.5,175]\n",
    "\n",
    "Q10_chi_square_test_stats=0\n",
    "for i in range(6):\n",
    "    Q10_chi_square_test_stats=Q10_chi_square_test_stats+(((Q10_observed_data[i]-Q10_expected_data[i])**2)/Q10_expected_data[i])\n",
    "Q10_dof=(2-1)*(3-1)\n",
    "Q10_significance=0.05\n",
    "\n",
    "Q10_critical_value=stat.chi2.ppf(1-Q10_significance,Q10_dof)\n",
    "\n",
    "if Q10_chi_square_test_stats>Q10_critical_value:\n",
    "    print(\"Reject the null hypothesis: there is not a significant association between chocolate preference and country of origin\")\n",
    "else:\n",
    "    print(\"Accept the null hypothesis: there is a significant association between chocolate preference and country of origin\")\n"
   ]
  },
  {
   "cell_type": "markdown",
   "id": "499a1ec2",
   "metadata": {},
   "source": [
    "# 11] A random sample of 30 people was selected from a population with an unknown mean and standard deviation. The sample mean was found to be 72 and the sample standard deviation was found to be 10. Conduct a hypothesis test to determine if the population mean is significantly different from 70. Use a significance level of 0.05."
   ]
  },
  {
   "cell_type": "markdown",
   "id": "ced4e797",
   "metadata": {},
   "source": [
    "### null ypothesis: there is no significant difference. mean = 70\n",
    "### alternate hypothesis: there is significant difference. mean is not = 70\n",
    "### => t_stats=(70 - 72) / (10 / sqrt(30))\n",
    "### => t_stats= -1.09\n",
    "### table_value = 2.045\n",
    "### \n",
    "### => we accept the null hypothesis."
   ]
  }
 ],
 "metadata": {
  "kernelspec": {
   "display_name": "Python 3 (ipykernel)",
   "language": "python",
   "name": "python3"
  },
  "language_info": {
   "codemirror_mode": {
    "name": "ipython",
    "version": 3
   },
   "file_extension": ".py",
   "mimetype": "text/x-python",
   "name": "python",
   "nbconvert_exporter": "python",
   "pygments_lexer": "ipython3",
   "version": "3.9.13"
  }
 },
 "nbformat": 4,
 "nbformat_minor": 5
}
