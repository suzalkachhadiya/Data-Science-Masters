{
 "cells": [
  {
   "cell_type": "markdown",
   "id": "b289cf0d",
   "metadata": {},
   "source": [
    "# 1] What is the Probability density function?"
   ]
  },
  {
   "cell_type": "markdown",
   "id": "07f64b96",
   "metadata": {},
   "source": [
    "### => It shows distribution of continuous data.\n",
    "### => if f(x) is probability distribution function then it must be satisfy the following condition:\n",
    "### 1} f(x)>=0 , -inf < x < inf\n",
    "### 2} integration -inf to inf f(x)dx = 1"
   ]
  },
  {
   "cell_type": "markdown",
   "id": "6ec78254",
   "metadata": {},
   "source": [
    "# 2] What are the types of Probability distribution?"
   ]
  },
  {
   "cell_type": "markdown",
   "id": "a73c6e72",
   "metadata": {},
   "source": [
    "## 1) Normal distribution\n",
    "## 2) Bernouli distribution\n",
    "## 3) Bionomial distribution\n",
    "## 4) Poission distribution\n",
    "## 5) Power law distribution\n",
    "## 6) Log normal distribution"
   ]
  },
  {
   "cell_type": "markdown",
   "id": "1e07aa07",
   "metadata": {},
   "source": [
    "# 3] Write a Python function to calculate the probability density function of a normal distribution with given mean and standard deviation at a given point."
   ]
  },
  {
   "cell_type": "code",
   "execution_count": 1,
   "id": "0497018b",
   "metadata": {},
   "outputs": [],
   "source": [
    "import math\n",
    "\n",
    "def normal_pdf(x, mean, std_dev):\n",
    "    exponent = -(x - mean)**2 / (2 * std_dev**2)\n",
    "    coefficient = 1 / (std_dev * math.sqrt(2 * math.pi))\n",
    "    pdf = coefficient * math.exp(exponent)\n",
    "    return pdf\n"
   ]
  },
  {
   "cell_type": "code",
   "execution_count": 5,
   "id": "b0d96e36",
   "metadata": {},
   "outputs": [
    {
     "data": {
      "text/plain": [
       "1.4867195147342977e-06"
      ]
     },
     "execution_count": 5,
     "metadata": {},
     "output_type": "execute_result"
    }
   ],
   "source": [
    "normal_pdf(5,0,1)"
   ]
  },
  {
   "cell_type": "markdown",
   "id": "e8e29880",
   "metadata": {},
   "source": [
    "# 4] What are the properties of Binomial distribution? Give two examples of events where binomial distribution can be applied."
   ]
  },
  {
   "cell_type": "markdown",
   "id": "d61b1746",
   "metadata": {},
   "source": [
    "### => probability of binomial distribution is defined by:\n",
    "###                             [{n! / (n-x)! * x!} * (p**x) * q**(n-x)]\n",
    "### \n",
    "### => p+q=1\n",
    "### => Mean = np\n",
    "### => Variance = npq"
   ]
  },
  {
   "cell_type": "markdown",
   "id": "5d28e888",
   "metadata": {},
   "source": [
    "## 1) tossing a coin \n",
    "## 2) rolling a dice"
   ]
  },
  {
   "cell_type": "markdown",
   "id": "264b14c1",
   "metadata": {},
   "source": [
    "# 5] Generate a random sample of size 1000 from a binomial distribution with probability of success 0.4 and plot a histogram of the results using matplotlib."
   ]
  },
  {
   "cell_type": "code",
   "execution_count": 17,
   "id": "7dfaa77b",
   "metadata": {},
   "outputs": [
    {
     "data": {
      "image/png": "[encoded data removed]",
      "text/plain": [
       "<Figure size 640x480 with 1 Axes>"
      ]
     },
     "metadata": {},
     "output_type": "display_data"
    }
   ],
   "source": [
    "import numpy as np\n",
    "import matplotlib.pyplot as plt\n",
    "\n",
    "Q5sample = np.random.binomial(n=1, p=0.4,size=1000)\n",
    "plt.hist(Q5sample)\n",
    "plt.show()"
   ]
  },
  {
   "cell_type": "markdown",
   "id": "3f00f201",
   "metadata": {},
   "source": [
    "# 6] Write a Python function to calculate the cumulative distribution function of a Poisson distribution with given mean at a given point."
   ]
  },
  {
   "cell_type": "code",
   "execution_count": 31,
   "id": "2a991edb",
   "metadata": {},
   "outputs": [],
   "source": [
    "def poission_cdf(x,mean):\n",
    "    ans=0\n",
    "    i=0\n",
    "    while i<=(math.floor(x)):\n",
    "        ans=ans+((mean**i)/math.factorial(i))\n",
    "        i=i+1\n",
    "    return ans*(2.71828182846**(-mean))"
   ]
  },
  {
   "cell_type": "code",
   "execution_count": 36,
   "id": "703585e7",
   "metadata": {},
   "outputs": [
    {
     "data": {
      "text/plain": [
       "0.7357588823426262"
      ]
     },
     "execution_count": 36,
     "metadata": {},
     "output_type": "execute_result"
    }
   ],
   "source": [
    "poission_cdf(1,1)"
   ]
  },
  {
   "cell_type": "markdown",
   "id": "c41a7f2f",
   "metadata": {},
   "source": [
    "# 7] How Binomial distribution different from Poisson distribution?"
   ]
  },
  {
   "cell_type": "markdown",
   "id": "57e40673",
   "metadata": {},
   "source": [
    "### => poisson distribution is applicable when no. of trials is very large and probability of success is very small.\n",
    "### => Binomial distribution describes the distribution of binary data from a finite sample. Thus it gives the probability of getting r events out of n trials. Poisson distribution describes the distribution of binary data from an infinite sample. Thus it gives the probability of getting r events in a population"
   ]
  },
  {
   "cell_type": "markdown",
   "id": "139da777",
   "metadata": {},
   "source": [
    "# 8] Generate a random sample of size 1000 from a Poisson distribution with mean 5 and calculate the sample mean and variance."
   ]
  },
  {
   "cell_type": "code",
   "execution_count": 40,
   "id": "64ed8b8e",
   "metadata": {},
   "outputs": [
    {
     "name": "stdout",
     "output_type": "stream",
     "text": [
      "5.046\n",
      "5.189884\n"
     ]
    }
   ],
   "source": [
    "Q8sample=np.random.poisson(lam=5,size=1000)\n",
    "print(np.mean(Q8sample))\n",
    "print(np.var(Q8sample))"
   ]
  },
  {
   "cell_type": "markdown",
   "id": "95f36ea8",
   "metadata": {},
   "source": [
    "# 9] How mean and variance are related in Binomial distribution and Poisson distribution?"
   ]
  },
  {
   "cell_type": "markdown",
   "id": "abd11ee5",
   "metadata": {},
   "source": [
    "## for binomial distribution\n",
    "### => Mean = np\n",
    "### => Variance = npq"
   ]
  },
  {
   "cell_type": "markdown",
   "id": "e9302f89",
   "metadata": {},
   "source": [
    "## for poisson distribution\n",
    "### => Mean = λ\n",
    "### => Variance = λ"
   ]
  },
  {
   "cell_type": "markdown",
   "id": "7f7b146f",
   "metadata": {},
   "source": [
    "# 10] In normal distribution with respect to mean position, where does the least frequent data appear?"
   ]
  },
  {
   "cell_type": "markdown",
   "id": "701f2740",
   "metadata": {},
   "source": [
    "### => At the left endpoint of graph as well as right endpoint of graph."
   ]
  }
 ],
 "metadata": {
  "kernelspec": {
   "display_name": "Python 3 (ipykernel)",
   "language": "python",
   "name": "python3"
  },
  "language_info": {
   "codemirror_mode": {
    "name": "ipython",
    "version": 3
   },
   "file_extension": ".py",
   "mimetype": "text/x-python",
   "name": "python",
   "nbconvert_exporter": "python",
   "pygments_lexer": "ipython3",
   "version": "3.9.13"
  }
 },
 "nbformat": 4,
 "nbformat_minor": 5
}
