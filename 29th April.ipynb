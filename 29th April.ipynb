{
 "cells": [
  {
   "cell_type": "markdown",
   "id": "1cda4297-06b9-4a5f-93c4-70aa4f8bbe35",
   "metadata": {},
   "source": [
    "# 1] Explain the basic concept of clustering and give examples of applications where clustering is useful.\n"
   ]
  },
  {
   "cell_type": "markdown",
   "id": "05778500-f97e-47d9-9b80-4cb18c5f0a5e",
   "metadata": {},
   "source": [
    "\n",
    "### => Clustering is an unsupervised machine learning technique that groups data points together based on similarity. The goal of clustering is to find groups such that data points within a group are more similar to each other than data points in different groups. Some key applications and examples of clustering include:\n",
    "\n",
    "## 1) Customer segmentation -\n",
    "### => Clustering algorithms can be used to segment customers into groups based on common attributes like demographics, interests, behavior etc. This allows businesses to develop targeted marketing campaigns for each customer segment.\n",
    "## 2) Document clustering -\n",
    "### => Clustering algorithms can group documents or articles by topic. This is useful for search engines and recommendation systems to return relevant results.\n",
    "## 3) Image segmentation -\n",
    "### => Clustering can be used to segment images into distinct regions and objects. This is helpful for computer vision tasks like object recognition.\n",
    "## 4) Anomaly detection -\n",
    "### => Clustering helps identify data points that are outliers and don't fit well into other clusters. These anomalies may indicate fraud, errors or rare events needing investigation.\n",
    "## 5) Market basket analysis -\n",
    "### => Identifying groups of products that tend to be purchased together using clustering. This allows retailers to do targeted promotions.\n",
    "## 6) Biological data analysis -\n",
    "### => Clustering genetic marker data to detect family lineages and relationships. It is also used to find categories of genes with similar expression patterns."
   ]
  },
  {
   "cell_type": "markdown",
   "id": "b390ccd1-aebd-4778-b8a2-b7e09b4aea41",
   "metadata": {},
   "source": [
    "# 2] What is DBSCAN and how does it differ from other clustering algorithms such as k-means and hierarchical clustering?\n"
   ]
  },
  {
   "cell_type": "markdown",
   "id": "a69c395a-f9a4-4819-974e-fd823c9fe36c",
   "metadata": {},
   "source": [
    "### => DBSCAN (Density-Based Spatial Clustering of Applications with Noise) is a density-based clustering algorithm that is fundamentally different from k-means and hierarchical clustering. Some key differences:\n",
    "\n",
    "- DBSCAN does not require specifying the number of clusters like k-means. Itgroups points together based on density reachability.\n",
    "- It can find arbitrary shaped clusters unlike k-means which assumes spherical cluster shapes.\n",
    "- It can identify noise points that don't belong to any cluster. k-means would assign these points to some cluster.\n",
    "- DBSCAN only needs two parameters - minPoints and eps. k-means needs the number of clusters k.\n",
    "- DBSCAN clustering is based on core point, reachability and density connectivity. k-means is based on minimizing intra-cluster variance.\n",
    "- Hierarchical clustering creates a hierarchy of clusters in a tree-like dendrogram. DBSCAN doesn't have a hierarchical structure.\n",
    "- DBSCAN has a run time complexity of O(nlogn) which is lower than hierarchical clustering's O(n^3).\n",
    "- DBSCAN is susceptible to changes in density unlike hierarchical clustering which is consistent."
   ]
  },
  {
   "cell_type": "markdown",
   "id": "7247b922-f9e4-437a-a976-6608219f27a2",
   "metadata": {},
   "source": [
    "# 3] How do you determine the optimal values for the epsilon and minimum points parameters in DBSCAN clustering?"
   ]
  },
  {
   "cell_type": "markdown",
   "id": "19f2d324-f5f0-4b20-a922-04883fde0542",
   "metadata": {},
   "source": [
    "## 1) Visual inspection:\n",
    "### => Plot the data and observe at what distance points remain dense vs sparse. Use domain knowledge to help choose appropriate eps value that defines neighborhood.\n",
    "## 2) K-dist graph:\n",
    "### => Plot a graph of distance to kth nearest neighbor for each point and look for an \"elbow\" in the curve. The x-value at this elbow can beChoosen as eps.\n",
    "## 3) Grid search: \n",
    "### => Try DBSCAN with a range of eps and minPoints values. Evaluate each model with metrics like silhouette score. Choose the parameters with best score.\n",
    "## 4) Rule of thumb: \n",
    "### => As a rule of thumb, eps can be set based on the k-dist graph elbow, and minPoints can be set as dimensions+1.\n",
    "## 5) Optimizing metrics: \n",
    "### => Optimize DBSCAN parameters by maximizing metrics like Silhouette coefficient that measure model consistency. Can use hyperparameter tuning.\n",
    "## 6) Density-based techniques:\n",
    "### => Use concepts from statistics like mean/median absolute deviation of k-dist graph to estimate optimal density parameters.\n",
    "## 7) Automated methods: \n",
    "### => Some automated techniques like OPTICS can aide eps selection. Algorithms like HDBSCAN can empirically select parameters."
   ]
  },
  {
   "cell_type": "markdown",
   "id": "fcba2586-423d-4393-85f1-c8d332172a61",
   "metadata": {},
   "source": [
    "# 4] How does DBSCAN clustering handle outliers in a dataset?\n"
   ]
  },
  {
   "cell_type": "markdown",
   "id": "1c49333e-12fc-4211-acc7-4bc346426a75",
   "metadata": {},
   "source": [
    "## 1) Density Reachability:\n",
    "### => DBSCAN defines clusters based on density reachability - a point is directly density reachable from another point if it is within the eps neighborhood and contains at least minPoints.\n",
    "## 2) Core Points:\n",
    "### => Points that have at least minPoints number of points within its eps neighborhood are defined as core points. These form the basis of clusters.\n",
    "## 3) Border Points: \n",
    "### => Points that are within the neighborhood of a core point but do not qualify as core points themselves are called border points. They are at the edges of a cluster.\n",
    "## 4) Noise Points:\n",
    "### => Points that are neither core points nor border points because they do not have sufficient neighbors are classified as noise points or outliers by DBSCAN.\n",
    "## 5) Unclassified:\n",
    "### => All noise points remain unassigned to any cluster and are marked as outliers.\n",
    "## 6) Clustering:\n",
    "### => DBSCAN recursively expands clusters from core points by absorbing border points that are density reachable. Only core and border points form part of the clusters.\n",
    "## 7) Single-Link Effect:\n",
    "### => DBSCAN is robust to outliers because the noise points cannot distort clusters due to the minPoints condition, avoiding single-link effect."
   ]
  },
  {
   "cell_type": "markdown",
   "id": "6e338463-5544-4804-941c-56f174e9f8a2",
   "metadata": {},
   "source": [
    "# 5] How does DBSCAN clustering differ from k-means clustering?\n"
   ]
  },
  {
   "cell_type": "markdown",
   "id": "10d56eed-36f4-4a7e-9c34-e3141fcadebe",
   "metadata": {},
   "source": [
    "## 1) Clustering Method:\n",
    "\n",
    "### => DBSCAN is a density-based clustering algorithm, it forms clusters based on density connectivity of points using eps and minPoints parameters.\n",
    "### => K-means is centroid-based, it forms k clusters by minimizing intra-cluster variance between points and cluster centroids.\n",
    "## 2) Number of Clusters:\n",
    "\n",
    "### => DBSCAN does not require setting the number of clusters a priori. The number of clusters depends on data distribution and eps, minPoints params.\n",
    "### => K-means requires pre-defining the number of clusters k to be generated. Value of k needs to be provided beforehand.\n",
    "## 3) Cluster Shapes:\n",
    "\n",
    "### => DBSCAN can detect arbitrary shaped clusters based on density of points. It can find non-linear, elongated and oddly shaped clusters.\n",
    "### => K-means tends to find convex, spherical clusters of similar size and density as it optimizes distance from cluster centroids.\n",
    "## 4) Sensitivity:\n",
    "\n",
    "### => DBSCAN is sensitive to the eps and minPoints parameter values which affect cluster formation. Difficult to choose optimal parameters.\n",
    "### => K-means is relatively insensitive to initialization, converges fast to local optima based on statistical properties.\n",
    "## 5) Scalability:\n",
    "\n",
    "### => DBSCAN has a run time complexity of O(nlogn) allowing it to scale better than other algorithms. Faster for large datasets.\n",
    "### => K-means has a linear complexity O(nkt) allowing it to scale well for large data.\n",
    "### => However, DBSCAN cannot be parallelized easily due to sequential cluster expansion.\n",
    "## 6) Outliers:\n",
    "\n",
    "### => DBSCAN is robust to outliers and is able to explicitly identify and exclude outliers as noise points rather than assigning them to clusters.\n",
    "### => K-means is non-robust and assigns outliers to the nearest cluster, distorting the clusters. Needs outlier removal as preprocessing.\n",
    "## 7) Usability:\n",
    "\n",
    "### => DBSCAN is harder to tune given its eps and minPoints dependencies. Performs best with spatial data.\n",
    "### => K-means is simpler to implement, understand and can be used in more general cases like feature extraction."
   ]
  },
  {
   "cell_type": "markdown",
   "id": "4ab2436f-5631-484d-af0e-2882623958a8",
   "metadata": {},
   "source": [
    "# 6] Can DBSCAN clustering be applied to datasets with high dimensional feature spaces? If so, what are some potential challenges?\n"
   ]
  },
  {
   "cell_type": "markdown",
   "id": "362852a6-ab60-452d-a08e-2c514f8d880b",
   "metadata": {},
   "source": [
    "## 1) Curse of dimensionality:\n",
    "### => In high dimensions, the concept of density and distance becomes less meaningful as the volume of the space grows very rapidly. This makes it harder for DBSCAN to distinguish between core, border and noise points.\n",
    "## 2) Distance concentration:\n",
    "### => As dimensionality increases, distance to nearest neighbors converges. This causes difficulty in distinguishing between nearest and farthest neighbors for density estimation.\n",
    "## 3) Parameter selection:\n",
    "### => - eps and minPoints parameters become even harder to set meaningfully in high dimensions. The values need to be set high enough to find meaningful clusters.\n",
    "## 4) Efficiency:\n",
    "### => Computing nearest neighbors and eps neighborhoods becomes computationally expensive in high dimensions. Requires using specialized data structures like KDtrees.\n",
    "## 5) Irrelevant features: \n",
    "### => - High dimensions mean more irrelevant or redundant features exist that can obscure separation between clusters. Feature selection becomes critical.\n",
    "## 6) Sparse clusters: \n",
    "### => - High dimensional spaces are sparse and clusters may not exhibit density-based separation which DBSCAN relies on.\n",
    "## 7) Subspace clustering: \n",
    "### => - Relevant clusters may only exist in subspaces formed by a subset of features. DBSCAN tends to find hyper-spherical clusters."
   ]
  },
  {
   "cell_type": "markdown",
   "id": "34117ff1-9ae6-4422-b73f-913225b1c80c",
   "metadata": {},
   "source": [
    "# 7] How does DBSCAN clustering handle clusters with varying densities?\n"
   ]
  },
  {
   "cell_type": "markdown",
   "id": "de8f9c1c-a795-48cd-adcc-ba2d07ee607f",
   "metadata": {},
   "source": [
    "## 1) Density Variance Challenge:\n",
    "\n",
    "### => DBSCAN assumes clusters are defined by a single density threshold eps and minPoints. This becomes problematic for clusters with widely different densities.\n",
    "### => A large eps may merge low and high density clusters. A small eps may fragment high density clusters. Hard to choose one threshold.\n",
    "### => Border points from high density clusters may get absorbed into low density clusters if density varies significantly.\n",
    "## 2) Solutions:\n",
    "\n",
    "### HDBSCAN\n",
    "- Improves on DBSCAN by transforming the space to make clusters more density homogeneous. Also generates a hierarchy of clusterings.\n",
    "### GDBSCAN\n",
    "- Generalized DBSCAN uses multiple eps values matched to local density. Varying eps better matches cluster density.\n",
    "### OPTICS\n",
    "- Generates an augmented ordering of points representing density-based clustering structure. Can then extract varying density clusters.\n",
    "### Pre-processing\n",
    "- Standardization and transformations like PCA can help align clusters to similar densities.\n",
    "### Weighted Distance\n",
    "- Use distance metrics incorporating density weights to account for density variance.\n",
    "### Sub-space clustering\n",
    "- Project data into subspaces where density separation is enhanced between clusters.\n",
    "### Ensemble clustering\n",
    "- Use consensus from multiple DBSCAN runs with different params to improve clustering."
   ]
  },
  {
   "cell_type": "markdown",
   "id": "4a9b5c39-a314-4396-9519-6f2aa268f274",
   "metadata": {},
   "source": [
    "# 8] What are some common evaluation metrics used to assess the quality of DBSCAN clustering results?\n"
   ]
  },
  {
   "cell_type": "markdown",
   "id": "2780f96b-f8d9-4186-a50d-9eefbd9b48a5",
   "metadata": {},
   "source": [
    "## 1) Silhouette Coefficient \n",
    "### => Measures how close a point is to its own cluster vs other clusters. Values range from -1 to 1, with higher values indicating better clustering.\n",
    "## 2) Davies-Bouldin Index \n",
    "### => Ratio of within-cluster scatter to between-cluster separation. Lower values indicate better clustering.\n",
    "## 3) Calinski-Harabasz Index \n",
    "### => Ratio of between-cluster dispersion to within-cluster dispersion. Higher values imply better clustering.\n",
    "## 4) Dunn Index \n",
    "### => Ratio between the smallest distance between clusters and largest intra-cluster distance. Higher is better.\n",
    "## 5) SD Validity Index \n",
    "### => Ratio of average scattering for clusters to separation between clusters. Lower values are better.\n",
    "## 6) SSD Index \n",
    "### => Measures sum of squared differences between points and cluster centroids. Lower SSD indicates compact, separated clusters.\n",
    "## 7) Silhouette Plot \n",
    "### => Visual assessment of clustering result by plotting silhouette coefficient per data point. Shows which points are poorly clustered.\n",
    "## 8) Stability \n",
    "### => Perturb data and redo clustering to measure stability of original clusters using Jaccard index or variation of information.\n",
    "## 9) Noise Percentage \n",
    "### => Percentage of points labeled as noise or outliers can indicate overfitting. Lower % is usually better."
   ]
  },
  {
   "cell_type": "markdown",
   "id": "57026b71-b332-4fa7-86e7-2a7d4be6de99",
   "metadata": {},
   "source": [
    "# 9] Can DBSCAN clustering be used for semi-supervised learning tasks?\n"
   ]
  },
  {
   "cell_type": "markdown",
   "id": "3b1cbbfd-eb26-40d1-bd95-082721f92e46",
   "metadata": {},
   "source": [
    "### => Yes, DBSCAN clustering can be utilized for semi-supervised learning in the following ways:\n",
    "\n",
    "## Bootstrapping labels \n",
    "### => The clusters identified by DBSCAN can be used to assign initial labels to unlabeled data. These bootstrapped labels can then be propagated to the whole dataset using algorithms like label propagation.\n",
    "\n",
    "## Pre-training \n",
    "### => DBSCAN can be used as a pre-training step for neural networks when limited labeled data is available. The embeddings learned by clustering can help initialize the model.\n",
    "\n",
    "## Regularization \n",
    "### => The cluster structure found by DBSCAN can be used to define a regularization term in the loss function to encourage semi-supervised models to respect these intrinsic data clusters.\n",
    "\n",
    "## Post-processing \n",
    "### => DBSCAN can post-process the outputs of a semi-supervised model to refine the decision boundaries and label ambiguities based on the identified clusters.\n",
    "\n",
    "## Outlier detection \n",
    "### => DBSCAN inherently detects outliers as noise. These outliers can be filtered to improve model robustness when learning with sparse labeled data.\n",
    "\n",
    "## Active learning \n",
    "### => DBSCAN clustering can smartly select representative and informative query points for active learning of the unlabeled pool.\n",
    "\n",
    "## Ensemble clustering \n",
    "### => Combining DBSCAN clusters with other methods like spectral clustering improves cluster consensus for labeling.\n",
    "\n",
    "## Domain adaptation \n",
    "### => DBSCAN helps adapt models to new target domains with limited labels by aligning data distributions based on cluster density patterns.\n",
    "\n",
    "### The key advantage of DBSCAN is it provides unsupervised structural information about the shape, density and outliers of the data distribution. This information provides guidance, regularization and refinement for semi-supervised learning algorithms."
   ]
  },
  {
   "cell_type": "markdown",
   "id": "3bee75fb-8b08-4213-967f-56d2da3a51f3",
   "metadata": {},
   "source": [
    "# 10] How does DBSCAN clustering handle datasets with noise or missing values?\n"
   ]
  },
  {
   "cell_type": "markdown",
   "id": "1d712c20-8e5a-4d0d-848f-79c4457d389f",
   "metadata": {},
   "source": [
    "## 1) Handling Noise:\n",
    "### => DBSCAN is particularly effective at handling datasets with noise because it identifies clusters based on the density of data points rather than assuming that all data points belong to clusters. Noise points are essentially data points that do not belong to any cluster and are considered outliers.\n",
    "### The algorithm defines two important parameters:\n",
    "\n",
    "### Epsilon (ε): \n",
    "- This parameter defines the radius within which the algorithm searches for neighboring points to determine density. Points that are within ε distance of each other are considered neighbors.\n",
    "### MinPts:\n",
    "- The minimum number of points required to form a dense region. Points that have at least MinPts neighbors within ε distance are considered core points.\n",
    "### During the clustering process, DBSCAN identifies three types of points:\n",
    "\n",
    "### Core Points:\n",
    "- These are points that have at least MinPts neighbors within ε distance.\n",
    "### Border Points:\n",
    "- These points have fewer neighbors than MinPts within ε distance but are reachable from a core point.\n",
    "### Noise Points:\n",
    "- These points are neither core nor border points and are considered outliers.\n",
    "### => DBSCAN groups together core points and their reachable neighbors into clusters. Border points may be part of a cluster or remain unassigned, and noise points are not assigned to any cluster.\n",
    "## 2) Handling Missing Values:\n",
    "### => DBSCAN can handle missing values by considering them as a special value that doesn't contribute to the distance calculation between points. When calculating distances between points to determine neighbors, DBSCAN simply ignores missing values for that calculation.\n",
    "### => For example, when calculating the distance between two points A and B, if one of the features has a missing value for point A and a valid value for point B, the algorithm will still calculate the distance based on the available feature values.\n",
    "\n",
    "### => It's important to note that while DBSCAN can handle missing values, the way it treats missing values can have an impact on the clustering results. In some cases, missing values might lead to points being erroneously classified as noise or assigned to a different cluster.\n",
    "\n",
    "### => To sum up, DBSCAN is robust in handling datasets with noise and can accommodate missing values by treating them as a special case during distance calculations. However, as with any algorithm, it's important to preprocess your data appropriately, handle missing values carefully, and choose suitable parameter values for Epsilon and MinPts to achieve meaningful clustering results."
   ]
  },
  {
   "cell_type": "markdown",
   "id": "4749b76f-6254-4a30-a60f-c90c906942f7",
   "metadata": {},
   "source": [
    "# 11] Implement the DBSCAN algorithm using a python programming language, and apply it to a sample dataset. Discuss the clustering results and interpret the meaning of the obtained clusters."
   ]
  },
  {
   "cell_type": "code",
   "execution_count": 1,
   "id": "b40c875f-257a-4a1d-b049-6ec20e760049",
   "metadata": {},
   "outputs": [],
   "source": [
    "import plotly.io as pio\n",
    "pio.renderers.default=\"jupyterlab\""
   ]
  },
  {
   "cell_type": "code",
   "execution_count": 2,
   "id": "b5aa3367-83df-4790-ae27-849f55b0fa43",
   "metadata": {},
   "outputs": [],
   "source": [
    "import pandas as pd\n",
    "import matplotlib.pyplot as plt\n",
    "import plotly.express as px\n",
    "import seaborn as sns\n",
    "import numpy as np\n"
   ]
  },
  {
   "cell_type": "code",
   "execution_count": 3,
   "id": "dc4fbd95-40cb-4408-af9b-c58d6adf6bcd",
   "metadata": {},
   "outputs": [],
   "source": [
    "from sklearn.datasets import make_moons\n"
   ]
  },
  {
   "cell_type": "code",
   "execution_count": 4,
   "id": "6783fdcd-a820-4d5d-a87e-1fa3ad657eaf",
   "metadata": {},
   "outputs": [],
   "source": [
    "X,y=make_moons(n_samples=1000,noise=0.18,random_state=42)"
   ]
  },
  {
   "cell_type": "code",
   "execution_count": 5,
   "id": "881fd1c9-d898-4273-a92e-f2667289bf62",
   "metadata": {},
   "outputs": [
    {
     "data": {
      "text/plain": [
       "<matplotlib.collections.PathCollection at 0x7f8b866d4af0>"
      ]
     },
     "execution_count": 5,
     "metadata": {},
     "output_type": "execute_result"
    },
    {
     "data": {
      "image/png": "[encoded data removed]",
      "text/plain": [
       "<Figure size 640x480 with 1 Axes>"
      ]
     },
     "metadata": {},
     "output_type": "display_data"
    }
   ],
   "source": [
    "plt.scatter(X[:,0],X[:,1])"
   ]
  },
  {
   "cell_type": "code",
   "execution_count": 6,
   "id": "3cbe24d6-af0d-47c7-a1a7-05c7a56eecaf",
   "metadata": {},
   "outputs": [
    {
     "data": {
      "application/vnd.plotly.v1+json": {
       "config": {
        "plotlyServerURL": "https://plot.ly"
       },
       "data": [
        {
         "hovertemplate": "x=%{x}<br>y=%{y}<extra></extra>",
         "legendgroup": "",
         "marker": {
          "color": "#636efa",
          "symbol": "circle"
         },
         "mode": "markers",
         "name": "",
         "orientation": "v",
         "showlegend": false,
         "type": "scatter",
         "x": [
          -0.0996271700218774,
          1.1205232348867076,
          0.8100247374703162,
          0.14723154144695,
          -0.8198607650205725,
          0.652749097753587,
          0.2769066253629753,
          -0.10366544858848743,
          1.5787385938851086,
          0.7531201424404201,
          0.9801290002262837,
          0.8390596461925915,
          0.2996847568996478,
          1.8648783034265466,
          2.1164443947355664,
          1.5238308916616585,
          -0.23389548906585186,
          1.9056015072291144,
          0.9130713266030948,
          -0.39399243918117505,
          -0.11025740005792892,
          0.5493209749885913,
          -0.5186255083006404,
          -0.07331824385954613,
          0.049677588975085035,
          0.36292085895430015,
          0.7419984587683479,
          2.2283080525910495,
          1.7423189107115624,
          2.1203810180698337,
          -0.3213888224000092,
          0.34711087989696043,
          0.08588825659731969,
          -0.9692930433554446,
          -0.848287639835204,
          0.35107692937750423,
          0.5800772992491716,
          0.45739919476615276,
          1.8546609073433646,
          0.9768456281650901,
          -0.7158039246827084,
          0.8559452909223773,
          -0.39965136074031843,
          2.444603446148422,
          -0.41247658992439373,
          0.020509162564059213,
          2.0439817615327263,
          0.15406840629217053,
          -0.700875506581938,
          1.252939949865921,
          -0.10702683683978323,
          1.7267358324355369,
          0.07246084367162368,
          0.3126542731615091,
          0.8064397800578404,
          0.83837649524264,
          0.25937293488041313,
          0.876056895922508,
          0.0376105328324112,
          1.4087497189849072,
          0.1739970501178072,
          1.1927088277346967,
          -0.33935135693419755,
          0.04026994596714567,
          0.25897798730906607,
          0.6188699400161949,
          0.6265426449323039,
          1.604302084189307,
          0.9918082948262248,
          0.020361161917394364,
          0.6547464024670251,
          -0.9815123823462901,
          0.24636579028907357,
          0.8833887599252088,
          -0.11789368294851524,
          -0.20389050675999384,
          0.7203422620406827,
          0.8517053489119236,
          -0.14764313845575883,
          -0.577622247537404,
          0.8074163289989373,
          1.0510493066939264,
          0.06455148623343779,
          0.5967220174354364,
          -0.24308833333632537,
          -0.015113553153048624,
          2.387923298580273,
          0.6662421923089369,
          0.7901129074968082,
          -0.7621187474373696,
          -0.3797495780646864,
          -1.039131429668554,
          0.30127280229981157,
          0.016343149362029047,
          1.2054462064054463,
          -0.8533160665103964,
          1.0285196671781365,
          0.5922263421222478,
          0.6480438346865498,
          1.704657787833813,
          0.8939656735851412,
          -0.2217735473817271,
          1.9395243234480044,
          0.06845090688660188,
          0.3390036083665631,
          0.07944678647954245,
          -0.0061551563553711025,
          2.00082995796907,
          0.8463903939347405,
          1.589243129110204,
          0.1054502050238631,
          1.2506006943174166,
          1.6788020599060594,
          1.169062298130831,
          1.048591442572695,
          -0.765340779172113,
          0.6323132339240969,
          1.9095988322839688,
          -0.25195660615634585,
          -0.129184151251929,
          1.861946172762816,
          -0.6901907451766527,
          0.688440217095628,
          -0.31898630709425824,
          -0.10903127337847286,
          0.02121337411374343,
          0.2077130963926756,
          -1.059869290787679,
          1.8303037706668968,
          1.0697039220218745,
          0.3164447539164095,
          1.8064269587588957,
          -0.18920410027416773,
          2.1652518741341154,
          -0.2861066297542524,
          0.7835724424008551,
          0.6738685664132066,
          0.03439959820783289,
          0.6395769536363138,
          0.706304542064832,
          0.932046151267256,
          0.4314888882779796,
          1.031610124814437,
          -0.4796124306217572,
          1.6923070147304446,
          1.9601645432433517,
          1.2824765831661058,
          -0.03259201481869219,
          1.5840219555785366,
          -0.3732474904182484,
          0.25168406256814335,
          0.9690547791017141,
          1.8392034036850453,
          -0.9697077199632284,
          2.0318982406178945,
          -1.126091232387942,
          -0.680637565800357,
          0.8345953872607176,
          0.7781345213169529,
          1.8742096705599363,
          -0.4529532090920728,
          1.3269663839301435,
          0.6469525585827209,
          0.11865248416803603,
          1.7079564100162472,
          0.6770539253959024,
          -0.22761123729631488,
          0.7186839822887942,
          -0.21347521460651137,
          -0.48860544998753275,
          -0.7123883453866076,
          -1.1162003648469998,
          0.8449150864099662,
          1.9573903576520955,
          -0.8494570738404336,
          -0.6508575971897947,
          0.10726756236473314,
          0.20934984650467284,
          1.3725272617250228,
          0.6560852391574403,
          -0.7818878308944048,
          0.5517214681954583,
          -0.7527896373043542,
          -0.05196495732804082,
          1.2398783699941527,
          0.5641008131029509,
          -0.5503545048045166,
          -0.688339230492758,
          2.0680803098837277,
          0.6906732774194145,
          1.7275171865722123,
          1.5966313214346057,
          0.6466905557752156,
          0.272573064756467,
          0.20715249601620794,
          -1.0612307572333846,
          -0.3347408011467988,
          0.13035529090884315,
          0.25592342925890066,
          1.0529189992103263,
          1.0743692971403396,
          0.07271995384306806,
          0.790962090338253,
          0.14648916408421134,
          1.348076530175861,
          0.40201003056830714,
          0.3217228847943954,
          1.9402610754742302,
          -1.2441717377177395,
          1.318676213326961,
          0.6309764357014414,
          0.5169651995663971,
          1.8435814527696304,
          1.4376457317961855,
          0.8845422004168104,
          -0.3066515962373809,
          0.554316017460362,
          -0.0012039726460534245,
          1.7894965800086542,
          1.1740524923475155,
          -0.2478688141864822,
          0.7448329034404749,
          1.9401527981267146,
          0.9205700375027353,
          1.8321856626705655,
          1.1779196201504374,
          -0.05069960777916957,
          -0.5417530048762917,
          2.152564042259535,
          0.09636225560458009,
          -0.6647714921248807,
          2.0201205867523524,
          -1.029217269111774,
          0.18166445935718423,
          0.9119813885268356,
          0.7953311685229761,
          0.2275722920794996,
          2.508126974954212,
          0.1861736125903545,
          -0.7048252315669183,
          0.9094156107591074,
          0.4789444904403275,
          0.1718001280763052,
          0.9710412860921374,
          -0.6293825470884717,
          0.7546635949389097,
          -1.2010505148711486,
          1.0288695917918707,
          0.959305037276764,
          0.020045878646565096,
          0.9419671372804694,
          2.0570159132757406,
          0.9490394498811121,
          1.761132517873267,
          -1.2067500304640362,
          -0.6544035113235628,
          0.07451632659541915,
          2.0118623374692617,
          2.084169589324701,
          0.7194428237453874,
          0.5066629324507261,
          -1.0238423507151921,
          0.9360586982437276,
          -0.25460333654716705,
          -0.4738242458030614,
          1.89735462565268,
          1.3659004160667934,
          -0.7868312079345687,
          0.2624185053599448,
          -0.7277995706234676,
          -1.0219600138911762,
          0.7023099022220841,
          1.7059897358033471,
          0.02193378362021801,
          -0.01357874219094965,
          0.620229743731276,
          0.17368720746443977,
          0.03406396479177565,
          0.9225474940401694,
          1.4025041012450163,
          0.2447913914178288,
          1.289052156859872,
          0.2393913163091992,
          -0.3330308006863974,
          0.2755828061998255,
          0.6030131072222998,
          -0.832191483495207,
          -1.0897548756545545,
          0.32210737303080794,
          2.0141001950218573,
          2.046437253076667,
          0.9853284099587697,
          0.18846544131468188,
          -0.8459566012070914,
          -0.4183683741806366,
          -0.9593249003775304,
          1.6898720914145717,
          -1.0610773068899348,
          0.7195381832021255,
          0.32770194453596,
          0.06367505004712569,
          -0.7356620445988704,
          -1.3991151778664388,
          -0.8741343262649593,
          1.0967044302470301,
          1.7426478171101658,
          -0.24708279117374143,
          0.5314551779613335,
          2.0398244258437894,
          0.04217006379927086,
          0.13606239999827283,
          0.011720027165243355,
          -0.02946811750019851,
          0.9103729453374111,
          -1.293072243650834,
          -0.6857433805488637,
          0.02634799482164818,
          -0.6256200839873718,
          0.6905978335819658,
          0.5662972447675675,
          0.9077278627545979,
          0.8479448321503197,
          -0.42875614925488503,
          0.3924615702510227,
          1.3893778127535932,
          -0.050396148279866666,
          -0.4600612476610306,
          -0.789222556015378,
          0.7104208918002259,
          0.8039321993779724,
          0.8559325102397702,
          -0.05006503112182348,
          0.8708357415741744,
          0.7121493750503034,
          1.094385294505524,
          -0.47028429363620156,
          0.9499695438423935,
          -0.23319028075471204,
          1.9597285018221824,
          0.07681452517068621,
          -0.9158056912416844,
          -1.084819008993677,
          0.6445411215848095,
          0.7604763219797744,
          -1.0814922503771558,
          -1.076982416405409,
          -0.052469495022358315,
          1.6862190070818919,
          0.7317928691154898,
          2.115089429483416,
          0.5012891579360165,
          -0.3647042077817949,
          1.9182932423810954,
          0.8602293632246216,
          -0.24095416900003802,
          0.5004183243429313,
          -0.4772999970793541,
          -0.6055536889381408,
          -0.2266999368518868,
          0.520329274589345,
          -0.8745568274793439,
          0.137712722419769,
          0.5251835635695941,
          -1.0477366698343766,
          0.6033401212546436,
          0.7917955857139084,
          1.0206397996719592,
          0.36395086479444466,
          -0.9182523719007509,
          1.9894855947602421,
          0.6359290155099141,
          0.768723611858282,
          0.566793187051687,
          0.38427594516147595,
          1.1016060034471182,
          0.8803906431205697,
          -1.2050971133761,
          0.7096500170874672,
          1.8561793342903676,
          1.3486910108570067,
          0.5160161706027153,
          0.4943890411611963,
          0.8097598323623163,
          0.03052141373145023,
          0.2760559047783945,
          1.5632626402055894,
          -0.5198888169346905,
          0.7250999616353654,
          2.095615426895584,
          0.9796625568784593,
          0.2710489471733264,
          0.8654130076394961,
          0.6034083561369086,
          0.8320489407862786,
          0.15241157227236846,
          0.6623168545202675,
          -0.740021338883348,
          -1.124213171763461,
          1.0240694357618236,
          1.9086413064909447,
          1.206011977352345,
          -0.8216186720084985,
          0.024612368524513567,
          -0.051496558098969344,
          0.41884914879580115,
          0.6772434190916481,
          1.717294560084006,
          -0.8816200901098135,
          0.7341428827717167,
          0.2112501345180233,
          -0.4094162355491189,
          1.7213744770811041,
          1.2482997505064313,
          0.11445673910533571,
          1.1244442711904563,
          0.7379704536904532,
          0.8416134021500095,
          1.5461385981643403,
          -0.10887452458792778,
          -1.1613201857728739,
          1.009542111861117,
          0.7432826259688934,
          -0.9522777226029021,
          -0.054199530094484305,
          -1.0914711639550512,
          -0.5516582980429504,
          0.7852958366351515,
          0.9780154821138892,
          0.21356160725075138,
          -0.031898111699713266,
          -0.44711001935862094,
          -0.5902978129855919,
          -0.49595964872115794,
          -1.0685834614766676,
          0.08354296443998369,
          1.1313917322903402,
          0.258616262507635,
          -0.5785152029582179,
          1.629449166094893,
          -0.06194404091679173,
          0.27036483818921103,
          0.013905399915880592,
          2.0212636687057586,
          0.18784900736690363,
          0.09460726110768933,
          0.2810867403125028,
          0.5490291997794038,
          0.6063490611240913,
          0.3057636356608704,
          0.5955077984646142,
          0.12281636877552317,
          1.8478043057671358,
          -0.7799768788461052,
          0.6070627246686621,
          0.4235173403036583,
          -0.00660406705772304,
          2.079355621590668,
          0.5737666434964627,
          -0.8224658010543932,
          -0.8987917244509757,
          1.0425450567580976,
          0.9892705345094762,
          0.2312933892806373,
          2.1010891742386995,
          -0.8662696203768948,
          0.8432305718949457,
          0.49233393464440844,
          -0.9514286667880769,
          -0.13473243182529385,
          -0.8592133085157316,
          -1.1495130191712963,
          1.1394911391666556,
          2.1170978507494524,
          0.8796838593214378,
          -0.11949763591040091,
          2.0203637555970113,
          2.216865310762005,
          2.2084732768495265,
          0.09819389199854858,
          0.16530041961933992,
          0.4352677635860756,
          1.0005448407112205,
          0.4983616161643672,
          -0.8747350533264084,
          -0.1302821883277107,
          1.049989750891348,
          0.9994161695670314,
          -0.14475174012429903,
          0.43343054450365603,
          -0.7933870480003251,
          1.930609780320483,
          -0.04485501511440787,
          0.786962719037225,
          0.7132764047112244,
          -1.2375073534669125,
          0.6210323470220929,
          -1.0070353966542942,
          -0.9011295644931254,
          1.487881496009812,
          1.7777764537728011,
          0.059441693064777645,
          0.6027906423502354,
          -0.7293334934506222,
          1.9215677394533666,
          1.334082578001072,
          1.7942597973420655,
          0.6631191582846043,
          -0.8962182171806596,
          1.908889473838226,
          0.9147494791250511,
          -0.028904810531756753,
          -0.28882830897353445,
          -0.46819370493127216,
          1.1219773547447316,
          -0.47174491922560413,
          1.212717787231894,
          -0.027601711580396704,
          0.18945332657419356,
          2.0093295859317157,
          0.8449076494158366,
          -0.6981942859313197,
          0.6121167833950852,
          1.8288803602742467,
          -0.5926339729857464,
          -0.8414440678265963,
          0.03622972403756681,
          1.2738750408640565,
          0.20788134159675442,
          0.6352222965566869,
          0.7054950579353556,
          0.31743235394476416,
          0.7932475232785394,
          0.16763011817971352,
          -0.34312652706250873,
          1.7696161892143656,
          -1.1777323181116024,
          0.5059662074755801,
          0.9477223417588742,
          0.8665526925073305,
          -0.9298422424770949,
          0.20236776607567586,
          0.051963739470674064,
          0.3205958170825925,
          -1.3266858278105431,
          0.8060156529846456,
          2.152356839516727,
          0.14062273145121065,
          1.2381922840106332,
          0.3365392267853695,
          0.8516055301999026,
          0.6971691288190603,
          -1.0850039781252492,
          0.7053794905106542,
          0.900382899364481,
          1.5228484701992306,
          1.8881812509283056,
          -0.5895197868579305,
          -0.06849862539562013,
          1.1651285687422874,
          -0.8002782184808397,
          0.34231711556400596,
          2.3227260664395573,
          1.3622851064296078,
          0.9638847212528505,
          0.2405270128443904,
          -0.9931496815667892,
          0.5182021299730201,
          -0.35283714860679216,
          -0.6344322639904668,
          2.076742370976,
          0.48959364634714275,
          0.5911492470207214,
          1.3652251481832163,
          0.6775409677058633,
          -0.6250138018673393,
          1.905839674939002,
          0.6933367040571662,
          -0.7683376252512273,
          -0.880648254288494,
          0.20235189755211952,
          -0.1817657313187392,
          0.6443533269463441,
          1.5510619784333528,
          1.3824749574178317,
          1.1418565219380679,
          -0.7878089196437794,
          -0.1469272992664707,
          -0.03481159401297795,
          0.9968675786568443,
          0.49755467332886216,
          -0.005428935540633135,
          1.4344088335956076,
          0.4252992599722261,
          1.0636027121648721,
          1.791153401558374,
          0.6843594776843313,
          -0.1727918675306909,
          0.03527490024568791,
          -0.24645511373739276,
          0.6699410102973045,
          1.1832978541159742,
          0.7741159864583781,
          -0.2783143246556702,
          0.09755498811197927,
          0.4649661179544993,
          1.8437386952070391,
          0.42845457621645594,
          0.7968806799213589,
          0.3726234115225402,
          -0.11126890448298932,
          0.6890575170507336,
          -0.1591368130842168,
          1.4387106599059032,
          0.9860196248353039,
          0.6513394270366561,
          0.43120139948411373,
          1.9458972796197427,
          0.08208421993177206,
          2.261778387510577,
          1.3724945559470536,
          1.8247247538462246,
          0.4708699578779838,
          1.5567751527380203,
          0.5557097983042013,
          0.8339509052751544,
          -0.03449123829517204,
          1.1498911649866186,
          2.070928871116343,
          1.9997248467992148,
          -0.1357914696446334,
          1.7970199861002811,
          -0.9742161384534052,
          -0.21268882010905232,
          0.7311402967600692,
          1.4712564671579642,
          0.30327848961814413,
          1.1255965282742897,
          2.1259600328967383,
          -0.8987042607787286,
          1.8271929167651664,
          -0.8098487258441083,
          -0.03116120676874931,
          1.2468427994384927,
          2.069323607436021,
          -0.48524003326382753,
          -0.7705048790480021,
          2.0169848322632853,
          1.6600218473650568,
          0.7279469887206985,
          1.2392495040983011,
          0.8244085716009042,
          1.2587731467126608,
          1.8140186284457134,
          0.08495449099317078,
          2.313455482262746,
          1.3154976183944456,
          0.07331932893627727,
          2.076067199153927,
          0.19596222587977935,
          1.5099056227524636,
          0.8614256103611444,
          1.140959889619408,
          1.9537007385164726,
          0.8610270876589856,
          0.7745187397069366,
          -0.10686872812441126,
          0.5953027549737867,
          0.9968662365280692,
          -1.1750287363028664,
          -0.5353711404302832,
          0.9948732818065235,
          0.1440195785159218,
          1.1724602099741215,
          0.33354180399281663,
          0.4075550288660262,
          0.9280265824908187,
          0.6242680092250803,
          -1.0999862610486462,
          2.037976447858098,
          0.2973832245896633,
          0.738379601969266,
          1.5157949347732655,
          0.8872036427996408,
          0.7716700202487508,
          1.3651528356526919,
          1.1474810150106396,
          -0.9874749855133667,
          0.38190409157243904,
          0.030501681306876003,
          0.022433143997795946,
          0.8973419578032158,
          0.09282615441628439,
          0.010731835046454863,
          0.9379062037520467,
          1.7124906398108295,
          -0.19840337862665075,
          0.20793917013729055,
          -0.29703685916248473,
          -0.8142475064836667,
          0.3256060406851097,
          1.355182647691993,
          0.4072200990772676,
          2.2585000095648047,
          0.26405034917837367,
          1.8320794243966867,
          -0.7877578480312785,
          0.5771060468121555,
          1.0264536183871948,
          1.167611931175171,
          2.081103703548152,
          0.8601495882378449,
          0.6667335041791554,
          -0.7421272162412751,
          -1.070835512561056,
          -0.3649252328583784,
          0.4650657517776657,
          0.8403328474255829,
          1.7116802045173163,
          0.08432219661582196,
          0.4737345655917298,
          1.6716218375156808,
          0.2901541791294693,
          0.24558755330772278,
          -0.17922518242449642,
          -0.35384406694926196,
          -0.550063352223201,
          0.686984720886428,
          0.37749933103384875,
          0.11496656057040677,
          -0.7700321937959247,
          -0.00585299247740273,
          -0.9135006673163174,
          1.6350037647229996,
          1.1116310337119037,
          1.5359065109632084,
          1.3588265028415518,
          1.7629628107425563,
          1.0816838274813674,
          0.23267095208274619,
          -1.0182159375119706,
          1.3673075309511322,
          1.1712901296198936,
          0.700825390588037,
          1.7239845641564489,
          -0.13915808043073605,
          0.4291488577533894,
          1.7506760507704593,
          1.1876561406043313,
          1.1937363227698434,
          1.826685381363774,
          0.420725537542996,
          1.8909288355214757,
          1.037330499940156,
          -0.7981606460364024,
          1.9737885703331586,
          0.2839850099458916,
          -0.015949467273991144,
          1.4581986765855703,
          -1.1240380651924606,
          -0.9632271098316162,
          0.6826694715021899,
          0.7133938006656153,
          -0.39990019284108425,
          1.423886168075407,
          -0.034372587362276,
          0.7479781316719721,
          -0.772919397919162,
          1.926879412176433,
          1.5008523689330195,
          0.278463027793783,
          1.0880828927144566,
          0.7830252748882989,
          -0.2187571703305963,
          0.6822297701068707,
          -0.8124701514179054,
          1.6464263602688272,
          0.43388228728944417,
          -0.9057515421612231,
          -0.0927350231322889,
          1.10559649467883,
          0.28905331634695214,
          0.42274504331658846,
          0.16003543218426292,
          -0.5252041014982349,
          -0.7274164598934548,
          0.1170684438977529,
          2.1349101626597338,
          1.005928103069201,
          -0.8076266890692989,
          -0.45536966013179137,
          -0.40873390747432337,
          0.287840685274207,
          1.8633833394412302,
          2.202614797482739,
          1.7048283373735684,
          0.3644406651649076,
          1.5794019464773337,
          1.2113077328070248,
          0.44952324073693745,
          1.641639880457047,
          0.12013671713690598,
          1.7315807197389543,
          -0.09538308538179976,
          1.3974894069576944,
          0.8128605315375862,
          0.10661248246214078,
          0.48538420124086856,
          0.5462516944609791,
          0.012078251872809026,
          0.8804317319851566,
          0.18301731896913745,
          0.8736537586038366,
          0.3328629963188978,
          1.7374992920781127,
          1.7069135821956904,
          1.5846423019183908,
          1.8643662012669915,
          0.767311235244648,
          0.8557016145876091,
          0.1764009100398905,
          0.06457681796835808,
          0.9375190503537075,
          -0.06649115047097523,
          0.8847458808216605,
          -0.9282192752195062,
          0.05401200452500497,
          1.8769225145018549,
          0.38360819684173114,
          -0.9067718691024168,
          1.361034330789584,
          -0.828487096498366,
          1.1001387513097147,
          1.4378335051148285,
          0.06674940125235909,
          0.7577423176421625,
          1.160760858450593,
          0.3917951494111013,
          2.119004009546424,
          0.3116367060368782,
          1.1758295581790708,
          -0.0861711432422673,
          0.5716355990432435,
          0.6319577781007024,
          0.5383813469208423,
          1.435288250456975,
          0.7138986269797026,
          0.24403561769934873,
          -0.5794427143835472,
          -0.06488118293124347,
          1.0301646976236492,
          0.8806446885339942,
          1.1187378470450373,
          1.5361301660002857,
          0.5344342775931883,
          0.5786102136700384,
          1.172255651526927,
          1.5608434995730152,
          0.14216419963658236,
          -1.10113579033137,
          1.2654243339092137,
          -0.8552747835915502,
          -0.4254091687318308,
          -0.653637804017789,
          0.4970555631932567,
          -0.9688214801314033,
          0.31855287618521844,
          -1.0828275939473184,
          0.9084818765459235,
          0.8170637720552477,
          -0.6601129010786564,
          0.48500301215937364,
          0.7948179102827946,
          1.7036107534808502,
          0.18258770311989922,
          1.5347906752367682,
          1.5573379981974709,
          1.1146657271864722,
          1.5303034930210935,
          1.191861658428516,
          0.4791689773917367,
          0.8719851364243467,
          -1.2328700513832045,
          -0.5374561858192562,
          0.4974604585138506,
          0.654461298155117,
          0.29110134916533115,
          1.1300632836773834,
          0.9360359422505788,
          1.8629460339816966,
          -0.4886603169508746,
          1.318016648070746,
          0.7663268322971047,
          0.8840011021230655,
          -0.46190669610075913,
          0.4982921571006448,
          0.05833979780183882,
          0.7356979079797523,
          -0.771434303598095,
          -0.9493218680422577,
          1.8193766919849885,
          1.6257454097639177,
          1.8697192767054198,
          -0.24579660652276325,
          0.17396458513961133,
          0.8551935599738235,
          -0.018448766377269873,
          0.9686848029664964,
          -0.5659195866969687,
          0.49200484509012554,
          -0.7158733080403004,
          1.3821311596117474,
          1.043672625767325,
          0.5502472982896128,
          0.3550183631867268,
          -0.8853259410792265,
          0.8004938385354426,
          1.7756476619123385,
          1.6797363915712578,
          0.24356269556040994,
          0.8915850327609905,
          0.2615022339374937,
          1.0126961783178894,
          1.4295984293040243,
          0.21545216119673985,
          -1.1825049009046662,
          -0.8421271926539649,
          -0.7081263229382616,
          1.1399010743300646,
          -0.6897465155616036,
          1.80867876889116,
          0.021202568180894395,
          -0.5854294828575854,
          1.0966961761185652,
          -0.10210182770794309,
          1.0536298178876764,
          -0.6897685996606966,
          0.49366708718077557,
          -0.7586838819259059,
          0.13487156945916393,
          0.6471719118440692,
          1.604089498613942,
          1.8732801850017224,
          0.7004329208814248,
          1.7087122449714243,
          -0.922126351469982,
          1.7407785625489578,
          0.25538075202915667,
          1.5186660739527937,
          0.007603798614098295,
          0.11278372067188858,
          1.4012347887105616,
          0.22108166237944718,
          0.8100362721544647,
          0.7571999728368648,
          1.352715774395016,
          0.39662667389172046,
          -0.8917079777979179,
          0.4957543921074662,
          -0.12228840691953699,
          1.0768388881385706,
          -0.9422681861487247,
          0.38536225148932096,
          1.495515125781173,
          1.0819479993309442,
          0.00869055399377406,
          0.8662883730885198,
          -0.5706238875527481,
          -0.9505287464241599,
          0.14806019819246663,
          0.022749414593306816,
          1.841623583456048,
          0.15383582324715042,
          -0.6259335601634435,
          1.534026607418236,
          -1.1090903989292302,
          -0.9235506245795887,
          -0.5237758199360367,
          1.0523672131626345,
          -0.5585769244716453,
          0.2934027611572325,
          0.49668977667536895,
          0.5021159802948023,
          1.6419079332244813,
          0.6716290418376429,
          -0.677984746913165,
          0.5985351692791729,
          -0.99316546045194,
          -0.6180482578457306,
          0.24190312583431323,
          -1.3550745808873774,
          0.9651085082197697,
          0.442158688907132,
          0.9921632960062922,
          0.8761200953119384,
          1.0005460689573746,
          0.8307936870061764,
          -0.18913699354772806,
          1.7189382833348275,
          -1.0050294124560553,
          0.7770227506092144
         ],
         "xaxis": "x",
         "y": [
          0.5050187183754622,
          -0.35801010548663464,
          -0.06011926812865309,
          -0.5312789464155722,
          0.5422081629732186,
          -0.11595856065794358,
          -0.19217825771189137,
          0.5241453784050938,
          -0.3290659709687227,
          0.941660412279278,
          -0.36103351530055494,
          0.6310006081897671,
          -0.02118520743555624,
          -0.06441956148211592,
          -0.02650954506634795,
          -0.08591384880349522,
          1.1297794046432261,
          -0.14988901307689254,
          -0.44573073389020185,
          1.0081983491368924,
          0.12430969587472332,
          1.1136600938087917,
          0.7361959397872949,
          0.4035191740974577,
          0.8221771074988369,
          1.0682022800747575,
          0.7431254515128671,
          0.3382114845979626,
          -0.17290941126961973,
          0.35367667674912606,
          1.002601912927121,
          0.8181894972766606,
          -0.2825416612057748,
          0.1504017717029828,
          0.30732196942336965,
          1.4237383991300334,
          -0.41513330697313316,
          0.10171274806766206,
          0.001001396327127091,
          0.1578119067878575,
          1.2199687462875908,
          0.586281191384883,
          1.0641712734351414,
          0.4375661095249849,
          0.9278195461234184,
          0.880145625344842,
          -0.37256446122848896,
          0.019184714139001663,
          0.22150152832728334,
          -0.398996308135534,
          0.04659675142606672,
          -0.42309389392419117,
          0.9690816601049743,
          -0.3036531828138436,
          0.2372978389854709,
          0.1581359384396344,
          -0.14329151447911784,
          0.08978776752793215,
          1.1053161283415482,
          -0.3751975285271505,
          0.7581740368471468,
          -0.14522259606692633,
          0.015332778725630686,
          1.0043349256597778,
          -0.15483735201783233,
          -0.3401902078507981,
          -0.5908410013547631,
          -0.25539008168655963,
          0.2874965629533931,
          0.23797330856754412,
          0.4927446001379894,
          0.014303551927073617,
          -0.22636984646618616,
          -0.5398273513332931,
          0.7951415916327212,
          1.0147333579226177,
          -0.49871926619585927,
          0.07435157936973019,
          0.28618284835915103,
          0.788252891188625,
          -0.7186633892232225,
          0.1493225186885887,
          0.5965627546915583,
          0.3113329046762009,
          0.9028669870816123,
          0.4446693151011384,
          0.6147105759242429,
          -0.5503933985523551,
          -0.48161009837895175,
          0.9826440401602161,
          0.8009440754134733,
          0.39246737651623315,
          0.6446243770911502,
          1.0722529059686117,
          -0.3270727983849501,
          -0.04023405617312115,
          -0.4600955683449791,
          0.6307012193028788,
          0.24259676899900937,
          -0.545322468883837,
          -0.7934843893347389,
          0.7478601632521371,
          0.1459108258447343,
          0.7257103923761521,
          -0.36981251142201055,
          -0.109725435986715,
          0.21019302840829274,
          0.19054889669504727,
          0.8627164755234316,
          -0.06569419475094528,
          0.42049695014448474,
          -0.22752604519634173,
          0.6179175411081701,
          -0.4543549343850546,
          0.5368968453744031,
          0.5207780597165923,
          1.1073699606646448,
          0.48210301542392076,
          0.2771516451796488,
          0.9851032144076647,
          -0.16223035480245152,
          0.4347410411287381,
          -0.3141397808289746,
          1.08800181845975,
          1.226931801623745,
          0.16132954589147935,
          -0.3464342351313775,
          0.5212989118735406,
          -0.18768876176259913,
          -0.3444918094673528,
          -0.07524000345725256,
          -0.433143442367669,
          0.5480123216535921,
          0.5313147077044853,
          0.0018873184719198632,
          0.4822478618105587,
          0.5407861407889826,
          0.7873395865427011,
          -0.060585879141929505,
          0.5608031629539635,
          0.12487961247274937,
          0.8803746930990375,
          -0.19214610356533984,
          0.9937128893770358,
          -0.22671491668224625,
          -0.12207905013155623,
          -0.4585931569156846,
          0.7881579159417839,
          -0.20889001766055706,
          0.832603220587472,
          -0.41016253979924894,
          1.0074243088466461,
          0.39158095168283047,
          0.5316607162707503,
          0.3379556042188122,
          0.249695109832482,
          0.7043332695743342,
          -0.6169941068408828,
          0.36733683397590455,
          -0.35334617721976547,
          -0.21971251086359733,
          -0.43217244194562604,
          -0.5101456566250497,
          -0.22686698066768937,
          -0.19206404606701258,
          -0.29532082669244647,
          1.0824445037059895,
          -0.2739922079939986,
          1.1943812502406561,
          1.0148336550370662,
          0.6135250883927184,
          0.21467506805968675,
          0.7105647587244338,
          0.4376984691092274,
          -0.18633699581905286,
          0.7715667520675925,
          0.7565539900292788,
          1.03666539863822,
          -0.5181193807077249,
          -0.38899385754096605,
          -0.22799527893286398,
          -0.3038036735596694,
          0.6219191555286526,
          0.3684748903767533,
          -0.1509283464701939,
          0.7824897130146001,
          0.6927624622935509,
          0.38072058042232837,
          0.3432060109699514,
          -0.5731637632086333,
          0.15241080711619295,
          -0.19962029440141393,
          -0.0957902686221597,
          0.743429879249878,
          1.087701065506048,
          0.8409091290082404,
          0.8309342714964525,
          0.8456196876572631,
          -0.19420456550515264,
          0.4098345904660735,
          0.176358382377657,
          0.24001653060220016,
          -0.311652438656861,
          0.2581461697988729,
          -0.2971582795337504,
          0.020188810342972235,
          0.8528397845177035,
          -0.12447243940709113,
          -0.03171717059843601,
          -0.3945767638940498,
          0.4995450859740186,
          0.9548603123707999,
          0.046214091254435465,
          -0.507177326422555,
          -0.4174319233773286,
          0.6743709027052422,
          -0.27239016281833445,
          0.897214195868183,
          -0.11995630195374052,
          -0.47013003835760636,
          1.2602654527800845,
          -0.48846356391881,
          0.33397072967898084,
          0.17188531154167805,
          -0.2952376178309689,
          0.12478698619628531,
          0.14641811793681292,
          0.6626805942320517,
          0.0013543038867530055,
          0.39794762750232937,
          1.024197808057277,
          0.6395524990612029,
          0.3501916627680006,
          0.4380195304394505,
          0.2430881034655311,
          0.0986587276104883,
          1.1965032146544845,
          0.25789430984583817,
          1.0707865016864004,
          0.966544131229935,
          0.05697330232100911,
          0.9393187311799938,
          0.5691417433886616,
          -0.6141198348302993,
          1.2977116568059257,
          0.9541818135884446,
          0.3177756914273821,
          0.49827856380883273,
          0.27885120128067353,
          1.1135758123277164,
          0.3702156993232225,
          0.39718688065614294,
          -0.47831347987566575,
          0.07728107977929327,
          0.6362164574813651,
          0.9522930981135986,
          0.3650332466738144,
          -0.22332889843277545,
          -0.09346333092697534,
          -0.017557588971379302,
          -0.44747351529305807,
          0.43448911734723655,
          0.32287383137331643,
          1.0883288857077775,
          0.9996335338464206,
          -0.250489996731668,
          -0.21997031051190077,
          0.7494020347152887,
          -0.33354658749082156,
          0.5526700404930486,
          -0.12966019865612888,
          0.7571381145850299,
          -0.08203058636396261,
          1.0814513259311462,
          0.5511585781073963,
          0.585427189449854,
          1.016419247678562,
          0.012004550815604018,
          0.37101208964327925,
          -0.507354078439521,
          -0.1858416266422135,
          -0.09500367059566461,
          1.0531875526078172,
          0.9798183384522864,
          1.0516288320755203,
          -0.35882630992991904,
          1.065238360587518,
          0.3630087945957422,
          0.9445552914393911,
          0.45470949189909193,
          0.23648046646301485,
          -0.6255228441683907,
          0.596295319691213,
          0.33294475878913277,
          0.7124332409966573,
          0.008771030405572894,
          -0.18798844600144715,
          0.71172350798712,
          -0.010580303618866846,
          0.7200006979954123,
          0.11870923301389702,
          0.6390837656089867,
          -0.016114631171132265,
          0.6687101996947984,
          -0.48753401511137445,
          -0.08551895046125285,
          0.5334651789538102,
          0.17009769247799997,
          0.20568546543148658,
          0.16115630837735204,
          0.04169486523933333,
          0.14118497015310805,
          -0.16530955391804592,
          -0.5755564612975813,
          0.387026894868859,
          0.4247293754965106,
          0.7052268132947832,
          0.770248771701744,
          -0.3916662076982425,
          1.0122704721519047,
          0.3084116038424812,
          0.7891538681540403,
          0.9573349352452151,
          -0.1963672894237084,
          -0.4159348541407464,
          0.5344489207340692,
          0.6018196719765252,
          0.03386407187774064,
          -0.33552003611629594,
          0.6167142113663222,
          -0.5583335059432649,
          0.7768987151139346,
          -0.6258129082425509,
          -0.4485792784204826,
          -0.1322838746060039,
          0.9952676050376246,
          -0.17052105239180032,
          0.2565929194692024,
          -0.5204079915212756,
          0.2995201394513224,
          -0.0009500673029106954,
          0.21871317074554086,
          1.0820374267715094,
          0.6120721485531956,
          0.7153533752491327,
          0.34907890017567267,
          0.14287999557004977,
          -0.06224143294192307,
          0.663030428421147,
          0.15071079429020515,
          1.2896535431288556,
          0.7661033123756952,
          0.24140818704185096,
          0.7317040994454933,
          0.8435017714905042,
          0.8476703721666664,
          0.964512264119962,
          0.3996112631955788,
          0.6676246387375155,
          0.5341215072911979,
          0.6008436317596986,
          0.2382328562493578,
          0.7917958184453985,
          0.36872497233137536,
          0.9634184251231961,
          0.015215871220632032,
          -0.5320737713775734,
          1.064855020284703,
          0.35513985043789326,
          -0.5025706134765893,
          0.8799253696566443,
          -0.4612897276938471,
          0.8551507181030035,
          1.0961769613908905,
          0.1456926185954398,
          -0.5421425568550066,
          0.06828358844830172,
          0.679934554262239,
          -0.0007712975008611136,
          -0.3855817252525994,
          0.943354909719927,
          0.8866174892574986,
          -0.4529038494109757,
          0.8166260180025418,
          0.992520469321257,
          -0.07680487322535251,
          0.5527884765440305,
          0.5958438178436767,
          0.212518571238471,
          -0.41303328701725267,
          0.9073990139008512,
          0.1813023016753483,
          -0.5710252597741001,
          0.5157222743437819,
          -0.15728896017439403,
          0.5095431089041325,
          0.9698210969035344,
          0.3135935213682727,
          -0.32079892304146684,
          0.27662124524988907,
          0.0935273448669923,
          0.3373004891556429,
          0.22554793092381742,
          0.3033328264525941,
          -0.3197870943248991,
          -0.6409265935793037,
          0.050848759055717084,
          1.2196522180602365,
          0.3083800027378942,
          0.3006208652398815,
          0.31934760269755125,
          -0.3868598841791299,
          -0.4431226606418623,
          0.794088047872642,
          -0.4842633440879759,
          -0.3033944380282285,
          -0.1924469450362681,
          -0.22420649618334507,
          0.4172295526891575,
          0.33284703524413356,
          0.42306473097968145,
          -0.46029602817418314,
          0.01869450362008676,
          0.3186313533892706,
          0.16464164794639988,
          0.9470412302980598,
          0.42060138001785086,
          0.24725797004838987,
          -0.10523904026544043,
          1.225992298800251,
          0.8846844047867752,
          0.601004166551999,
          1.011705601035259,
          0.2743702948882105,
          1.3078145274705484,
          0.1822947252006651,
          0.9757108812220019,
          0.6965092983460568,
          -0.4070614429600089,
          -0.5130163863674375,
          1.0127006576755508,
          0.0024068860178878895,
          0.2888137856893192,
          -0.15671334230495637,
          0.2683265436136236,
          -0.14008171400868924,
          -0.26807162691182046,
          1.0270337225461779,
          -0.27127568336999425,
          -0.38078636853928677,
          -0.025423145724567435,
          -0.1086256680677561,
          0.35036001893671836,
          0.9855929683093668,
          1.1935333602832372,
          -0.23294653191156328,
          -0.0454289651311007,
          -0.2122561731471404,
          0.7898162703961202,
          0.5172206342610417,
          0.28240752194776386,
          0.5768059440182914,
          -0.3306710362787877,
          0.5234068331165107,
          0.43379234568272096,
          0.8708354398093203,
          0.4585322867522935,
          0.34596366150242286,
          -0.03368708353389782,
          0.3223216978071411,
          0.7990785135422114,
          0.41220119263815824,
          -0.024013612744487003,
          0.3810236155043747,
          0.8020594159379851,
          0.30697306879883696,
          0.36802039673554704,
          0.26849236185246295,
          0.03506182527500712,
          0.18361134180083857,
          -0.2601911280778747,
          0.6806245255278598,
          0.21336679659097732,
          0.4444760761163694,
          0.26938706661703743,
          0.021640581652751845,
          0.3651684592053596,
          0.683531665807083,
          0.9152156968994578,
          -0.042169077612469436,
          -0.5479986127656006,
          -0.01067719008699855,
          -0.710567484131673,
          0.7276624827042508,
          0.47423592664550146,
          0.8652925602542674,
          0.4117082631146386,
          0.749380968418164,
          -0.23506745641451718,
          -0.23989932038308703,
          -0.4347526311812116,
          1.0376852400946082,
          0.4113542992079466,
          -0.12933606540460452,
          -0.44086153155331975,
          0.0962823467458293,
          -0.4559725446521069,
          0.5009912591861533,
          0.5148351174019332,
          -0.5024789258106964,
          0.7953006714637008,
          0.07824079239369569,
          0.8743067427508388,
          0.11171132781087871,
          0.7832825287573325,
          -0.6640208870233755,
          1.08711972672904,
          1.3377665005328974,
          0.46206094045847107,
          0.08131698529237649,
          0.6859806306921331,
          -0.445897888265673,
          0.2158071169185819,
          0.8694430442814114,
          0.7412255513500319,
          0.035181019445420986,
          -0.37541131192292465,
          1.319254510749151,
          -0.41627529584639317,
          0.5659008295324747,
          0.15316823106261715,
          0.4045559593007083,
          -0.08631310602481396,
          0.8846252495149207,
          -0.46648170185255056,
          0.4149977699616456,
          0.913108172121722,
          0.44908640487662,
          -0.6249280334146092,
          0.486149907536267,
          0.9250021039966959,
          1.0818292588809053,
          0.8941246504422411,
          0.11159479873783935,
          0.9180935428558055,
          0.2513090881047604,
          0.3899946634969895,
          -0.3679514047385177,
          0.076060479181582,
          0.6356535368818125,
          0.7541172811976116,
          0.07013110552151558,
          -0.3004361245822578,
          0.14183230609838293,
          -0.21871367012401272,
          0.022670003071035505,
          0.7311340873577867,
          0.9851199877881786,
          0.5433959670637057,
          0.7641803705658413,
          0.893665004946497,
          0.5403119500561522,
          -0.254438135133618,
          -0.4416355442928054,
          1.059531601448287,
          -0.006644992698335517,
          -0.1569301531249612,
          0.5385006713755645,
          1.017297351568953,
          0.14255222645887025,
          0.7324911924027294,
          0.3384187748100533,
          -0.2474421228873676,
          0.5335092249195672,
          1.0156304779092378,
          0.08646704619687584,
          0.6373714306424317,
          -0.020283653324327383,
          0.6831711061351732,
          -0.06826322815036306,
          1.0853624009640346,
          0.1419871479742353,
          -0.6676693160794964,
          -0.3475256612997086,
          -0.2827778037154661,
          0.6644329135684072,
          0.29618174486923093,
          -0.5955062031437901,
          0.4350714445709086,
          0.8805844467339089,
          0.8299369337192355,
          -0.30443648181762817,
          -0.2330107281236518,
          -0.44254240897977415,
          -0.37044088764605443,
          0.7550652303562198,
          0.8560207398948314,
          -0.08239831875078975,
          0.025797852322284896,
          -0.3589006631372146,
          -0.048687231563675396,
          0.8788964510078745,
          0.9362267367068206,
          0.8825209170582954,
          -0.4192459506663564,
          0.28791809947408165,
          1.1400861018834239,
          0.7779448502627073,
          0.31665549248846986,
          -0.2427366213322577,
          0.8424273942587316,
          0.9892972283956051,
          -0.6985617191125562,
          -0.15733494806036386,
          -0.3451981352900887,
          -0.41324818296096877,
          -0.05807878318055587,
          0.4189770618770519,
          0.5157095111186796,
          0.2988028115270375,
          -0.06996747387916433,
          0.4377721724951544,
          -0.674893668938322,
          0.6571288334605229,
          -0.0199316745898514,
          0.43203808443135255,
          0.19366322541115105,
          0.8161859324380276,
          0.10454413413624111,
          0.37072397510610317,
          0.2567567558866778,
          -0.26986476632245127,
          1.1715474563863775,
          -0.5979209748778747,
          -0.5291975712163137,
          0.955461471281859,
          0.43859845213376014,
          0.12283779938814762,
          0.2698420498704632,
          0.2640880869899614,
          0.3535868313454004,
          0.9364442640614772,
          0.1424740151007725,
          0.25727904638727744,
          0.9164962008805659,
          -0.12436467840654333,
          0.4365041710089057,
          -0.1918314123932353,
          -0.5933119056252939,
          -0.45481591172137603,
          0.8521557248071974,
          -0.1593958404032843,
          -0.01951573255398134,
          0.6333220649515129,
          0.17806241454023908,
          -0.5713229088714101,
          0.28090338293596095,
          0.3940321411188512,
          0.727290349552451,
          0.1687397646903209,
          0.957765191524001,
          -0.18113146526745222,
          0.24363165125974987,
          -0.576828747610497,
          0.6142813659268854,
          1.2074721904150014,
          -0.5544493258704892,
          0.39095060400809467,
          0.7006179799483198,
          0.39945887118801815,
          -0.7063946940170687,
          -0.10099477244634598,
          -0.4079539992416211,
          -0.44843462326636785,
          0.6171536099256743,
          0.36873548338936263,
          0.9765066736897934,
          0.30073414632948464,
          -0.2004736780629358,
          0.7519633419287628,
          -0.29353198117365026,
          -0.11069839918170615,
          -0.6541187064966807,
          -0.10536213761779,
          -0.3462765278596275,
          -0.10373784148015092,
          0.09213268530205695,
          0.10634886586570791,
          1.1616609291913653,
          1.1467335272462849,
          -0.72940700996727,
          -0.03444942235834768,
          -0.15590689628773335,
          -0.17549574508127175,
          -0.07832755194499219,
          1.154075469885699,
          -0.3495570830550088,
          1.0259111002501435,
          0.6982237695646216,
          0.6584320539415572,
          -0.6013161298229591,
          -0.7071898517108981,
          -0.18703992914183576,
          0.12974269434094102,
          0.11563343932845943,
          0.03239630511433378,
          0.979551050592143,
          0.8297175366308476,
          -0.5262571478766515,
          0.28305335212131266,
          -0.6322898709009233,
          -0.4377065005413689,
          0.690687868233322,
          0.3789035657946041,
          1.0179597079235019,
          0.8142547020174578,
          0.9121150845887924,
          -0.2141685920463673,
          -0.09062232774408677,
          0.7791859140179799,
          -0.04913042234777859,
          0.8471518834590659,
          -0.15789089949517027,
          1.0923518936252277,
          0.9232325475095532,
          0.5842582446480318,
          0.7096112896020949,
          0.7859077822319123,
          0.8181993374614426,
          0.26128850601284903,
          1.1258897657086027,
          0.6185417200353174,
          0.06672809071365407,
          -0.4910774357313686,
          0.16393806624470939,
          -0.29828046977882094,
          0.032537158896765894,
          0.4935059012670913,
          -0.2254485785975499,
          0.7142260414991956,
          -0.37580290527266813,
          -0.2451352907906438,
          -0.48408779850465194,
          0.14481711488699933,
          0.9765654132023884,
          -0.4461734940634353,
          -0.0017684667164808935,
          -0.685792598683107,
          -0.23479317956323945,
          -0.12259318171736583,
          -0.2916355305049825,
          -0.3276885193534015,
          -0.32772091685665605,
          0.7890016949878459,
          0.6875359986871875,
          0.2043109958022706,
          0.8469840336304758,
          -0.39348303445651,
          0.547621351319631,
          -0.03235673876852656,
          0.6732904099470784,
          -0.45543532509318285,
          0.9969770800523103,
          -0.26778964863697935,
          -0.37881090144291296,
          -0.4379562426752183,
          0.7995038893393743,
          0.7656035146265465,
          -0.26944476328707484,
          1.2830148706208635,
          -0.5503610831216422,
          -0.2490216817889157,
          0.6646863712988504,
          -0.4397331759711083,
          0.50478068184162,
          -0.34813692570329946,
          -0.4462452889050693,
          0.5715381026525171,
          0.5235829320068646,
          -0.9331804232831917,
          -0.21434856175715394,
          -0.24613710316391882,
          1.018076781581875,
          0.569050090203186,
          0.9409599710748349,
          1.0217429959140545,
          0.08082428492094998,
          -0.372674008349065,
          -0.0740917112157371,
          0.9392971303418493,
          0.29999436044819466,
          -0.2999482395537274,
          0.2810620213293915,
          0.04837697506641196,
          -0.06526883036421233,
          -0.1717585732580486,
          -0.4044104323705646,
          -0.551414553042193,
          -0.4702251419668407,
          -0.06671432594150123,
          0.08816984075743278,
          0.5227072181334658,
          0.18673203119360493,
          -0.5018690969480499,
          0.17953433144798125,
          1.1104721617634952,
          -0.47594337949753296,
          0.947249324868541,
          0.05673816615290156,
          0.25900595236047447,
          0.13964771603178347,
          0.5363307438769525,
          -0.3395770880902743,
          -0.3554181746211188,
          -0.2127864399302762,
          -0.2577112852341997,
          -0.13051476327363754,
          -0.46633946535792037,
          0.5705205567432179,
          0.009077914284918082,
          1.1011886223539737,
          -0.7226837290453482,
          0.2003375379739295,
          -0.2191035642431973,
          0.026511733806923343,
          0.45368727687270727,
          -0.18066927810730574,
          0.7342412964148197,
          0.4286868767445906,
          -0.3324720066937681,
          0.44180663115439694,
          -0.5821936703329053,
          -0.252781715201495,
          0.6971967909660082,
          -0.26340643830673244,
          -0.46615183702566504,
          -0.17379167172039223,
          -0.03318462411113865,
          -0.4324613467222139,
          -0.7214497837898437,
          0.10683788608348799,
          -0.4822639666725731,
          -0.4477252557401717,
          0.935589125702606,
          0.0324503147479176,
          -0.3175648981911362,
          0.0041142599862044466,
          0.47964840874235526,
          -0.1374486015473656,
          0.053010516813567665,
          0.015385242038939595,
          -0.4029041125618759,
          -0.21767028169835387,
          0.8854484319418858,
          0.9194548013940806,
          0.30247488272336576,
          -0.10497340927577768,
          1.1819287219794383,
          -0.23707366630409835,
          -0.9504900082492704,
          0.5060418816736272,
          0.8359420490180491,
          0.6358405017865425,
          -0.18508899893245254,
          0.41305839252500454,
          0.05697158967949771,
          -0.19808722559542735,
          0.453947246932379,
          0.4216449405519298,
          0.24432820771539415,
          -0.40139813578581457,
          0.7403817407380265,
          0.49843091019995034,
          0.5190226338891972,
          -0.5208635060362836,
          0.29742689289464264,
          0.5713109616305512,
          -0.4369360614030702,
          0.25437592365684764,
          0.9534758000576106,
          0.3463820559682982,
          -0.17594195177609673,
          0.8544086077846988,
          0.9394124730536892,
          -0.5098679386895895,
          0.8815891355504487,
          -0.20606581238987448,
          0.40342679434012446,
          -0.3704757474818341,
          1.0895999874609206,
          -0.49276685742568616,
          -0.4331961767443688,
          -0.2375242864553052,
          0.9088735929046353,
          -0.6359203206653479,
          1.1457298204189952,
          -0.3500981747460337,
          0.5852109550718834,
          0.15832726927594884,
          0.2827910167218807,
          -0.6888893492321939,
          -0.4158046127539662,
          0.9651935306347027,
          1.1214995971145074,
          0.7304138787097822,
          0.13121282243480328,
          -0.5193100410372585,
          0.784971908410445,
          -0.3618427088849743,
          0.05523679319076999,
          -0.4954293573850119,
          -0.791174201445888,
          0.6278964613709295,
          -0.00830384097080153,
          0.9447643861372474,
          -0.2927280340169201,
          0.00019762821830560107,
          0.3701285045785001,
          -0.1061433111308315,
          0.5539045761580887,
          0.9944353027967753,
          0.06613443925423215,
          -0.26254450822519404,
          0.6321167101728667,
          0.6046222083978314,
          0.0029609320629881974,
          0.7926867344407698,
          0.6725347718085233,
          1.1505756365107525,
          -0.14498537761007535,
          -0.18435506003976065,
          0.9141783857765936,
          -0.4104333332301705,
          0.9732014374836749,
          0.11589271278923757,
          0.8371511163433557,
          -0.17744375753889563,
          0.6325145202903462,
          1.2213414987566267,
          0.6897905849780663,
          -0.2397967380840953,
          0.29925074716238687,
          -0.34925125143806734,
          -0.2289625962071794,
          0.17575200526294527,
          0.4178847669274435,
          0.5974606648532711,
          -0.06307541774958797,
          0.8876427678097608,
          0.2342972254099787,
          -0.15248371517490303,
          0.07096334184785676,
          -0.3057323319878601,
          0.7932239541385129,
          -0.6622580463030777,
          -0.8162779841291141,
          0.18368897464395215,
          -0.7276702523071257,
          0.43782055527869596,
          0.35411769843959945,
          0.08904154197907353,
          -0.05211182337399442,
          -0.37213538179132094,
          -0.6868708996990758,
          1.0295599633542176,
          0.19122278163113682,
          0.7200725855787385,
          -0.0495783111087989,
          0.9413157081328232,
          0.9020902177700757,
          0.40751145645952797,
          0.6875326110988864,
          0.6592946329456107,
          -0.8248207946835546,
          0.5179475957466791,
          0.20280439890913132,
          0.8613260850313007,
          -0.20611062965368593,
          0.997563311008764,
          -0.25249152882444525,
          0.863975012550228,
          -0.041307465670803845,
          -0.14493216205523313,
          0.5318823606600936,
          0.44215243649927893,
          0.6287275356773432,
          0.1485431338605579,
          0.748569348521618,
          1.0552341079716003,
          0.460579342387778,
          0.2706992162724781,
          0.032271633866192584,
          -0.10790727704066572,
          -0.49525329247741945,
          0.8317186101521045,
          0.45386928079222455,
          0.8495827059818266,
          -0.41270808008634985,
          0.16091764980222883,
          0.6307498357618875
         ],
         "yaxis": "y"
        }
       ],
       "layout": {
        "legend": {
         "tracegroupgap": 0
        },
        "margin": {
         "t": 60
        },
        "template": {
         "data": {
          "bar": [
           {
            "error_x": {
             "color": "#2a3f5f"
            },
            "error_y": {
             "color": "#2a3f5f"
            },
            "marker": {
             "line": {
              "color": "#E5ECF6",
              "width": 0.5
             },
             "pattern": {
              "fillmode": "overlay",
              "size": 10,
              "solidity": 0.2
             }
            },
            "type": "bar"
           }
          ],
          "barpolar": [
           {
            "marker": {
             "line": {
              "color": "#E5ECF6",
              "width": 0.5
             },
             "pattern": {
              "fillmode": "overlay",
              "size": 10,
              "solidity": 0.2
             }
            },
            "type": "barpolar"
           }
          ],
          "carpet": [
           {
            "aaxis": {
             "endlinecolor": "#2a3f5f",
             "gridcolor": "white",
             "linecolor": "white",
             "minorgridcolor": "white",
             "startlinecolor": "#2a3f5f"
            },
            "baxis": {
             "endlinecolor": "#2a3f5f",
             "gridcolor": "white",
             "linecolor": "white",
             "minorgridcolor": "white",
             "startlinecolor": "#2a3f5f"
            },
            "type": "carpet"
           }
          ],
          "choropleth": [
           {
            "colorbar": {
             "outlinewidth": 0,
             "ticks": ""
            },
            "type": "choropleth"
           }
          ],
          "contour": [
           {
            "colorbar": {
             "outlinewidth": 0,
             "ticks": ""
            },
            "colorscale": [
             [
              0,
              "#0d0887"
             ],
             [
              0.1111111111111111,
              "#46039f"
             ],
             [
              0.2222222222222222,
              "#7201a8"
             ],
             [
              0.3333333333333333,
              "#9c179e"
             ],
             [
              0.4444444444444444,
              "#bd3786"
             ],
             [
              0.5555555555555556,
              "#d8576b"
             ],
             [
              0.6666666666666666,
              "#ed7953"
             ],
             [
              0.7777777777777778,
              "#fb9f3a"
             ],
             [
              0.8888888888888888,
              "#fdca26"
             ],
             [
              1,
              "#f0f921"
             ]
            ],
            "type": "contour"
           }
          ],
          "contourcarpet": [
           {
            "colorbar": {
             "outlinewidth": 0,
             "ticks": ""
            },
            "type": "contourcarpet"
           }
          ],
          "heatmap": [
           {
            "colorbar": {
             "outlinewidth": 0,
             "ticks": ""
            },
            "colorscale": [
             [
              0,
              "#0d0887"
             ],
             [
              0.1111111111111111,
              "#46039f"
             ],
             [
              0.2222222222222222,
              "#7201a8"
             ],
             [
              0.3333333333333333,
              "#9c179e"
             ],
             [
              0.4444444444444444,
              "#bd3786"
             ],
             [
              0.5555555555555556,
              "#d8576b"
             ],
             [
              0.6666666666666666,
              "#ed7953"
             ],
             [
              0.7777777777777778,
              "#fb9f3a"
             ],
             [
              0.8888888888888888,
              "#fdca26"
             ],
             [
              1,
              "#f0f921"
             ]
            ],
            "type": "heatmap"
           }
          ],
          "heatmapgl": [
           {
            "colorbar": {
             "outlinewidth": 0,
             "ticks": ""
            },
            "colorscale": [
             [
              0,
              "#0d0887"
             ],
             [
              0.1111111111111111,
              "#46039f"
             ],
             [
              0.2222222222222222,
              "#7201a8"
             ],
             [
              0.3333333333333333,
              "#9c179e"
             ],
             [
              0.4444444444444444,
              "#bd3786"
             ],
             [
              0.5555555555555556,
              "#d8576b"
             ],
             [
              0.6666666666666666,
              "#ed7953"
             ],
             [
              0.7777777777777778,
              "#fb9f3a"
             ],
             [
              0.8888888888888888,
              "#fdca26"
             ],
             [
              1,
              "#f0f921"
             ]
            ],
            "type": "heatmapgl"
           }
          ],
          "histogram": [
           {
            "marker": {
             "pattern": {
              "fillmode": "overlay",
              "size": 10,
              "solidity": 0.2
             }
            },
            "type": "histogram"
           }
          ],
          "histogram2d": [
           {
            "colorbar": {
             "outlinewidth": 0,
             "ticks": ""
            },
            "colorscale": [
             [
              0,
              "#0d0887"
             ],
             [
              0.1111111111111111,
              "#46039f"
             ],
             [
              0.2222222222222222,
              "#7201a8"
             ],
             [
              0.3333333333333333,
              "#9c179e"
             ],
             [
              0.4444444444444444,
              "#bd3786"
             ],
             [
              0.5555555555555556,
              "#d8576b"
             ],
             [
              0.6666666666666666,
              "#ed7953"
             ],
             [
              0.7777777777777778,
              "#fb9f3a"
             ],
             [
              0.8888888888888888,
              "#fdca26"
             ],
             [
              1,
              "#f0f921"
             ]
            ],
            "type": "histogram2d"
           }
          ],
          "histogram2dcontour": [
           {
            "colorbar": {
             "outlinewidth": 0,
             "ticks": ""
            },
            "colorscale": [
             [
              0,
              "#0d0887"
             ],
             [
              0.1111111111111111,
              "#46039f"
             ],
             [
              0.2222222222222222,
              "#7201a8"
             ],
             [
              0.3333333333333333,
              "#9c179e"
             ],
             [
              0.4444444444444444,
              "#bd3786"
             ],
             [
              0.5555555555555556,
              "#d8576b"
             ],
             [
              0.6666666666666666,
              "#ed7953"
             ],
             [
              0.7777777777777778,
              "#fb9f3a"
             ],
             [
              0.8888888888888888,
              "#fdca26"
             ],
             [
              1,
              "#f0f921"
             ]
            ],
            "type": "histogram2dcontour"
           }
          ],
          "mesh3d": [
           {
            "colorbar": {
             "outlinewidth": 0,
             "ticks": ""
            },
            "type": "mesh3d"
           }
          ],
          "parcoords": [
           {
            "line": {
             "colorbar": {
              "outlinewidth": 0,
              "ticks": ""
             }
            },
            "type": "parcoords"
           }
          ],
          "pie": [
           {
            "automargin": true,
            "type": "pie"
           }
          ],
          "scatter": [
           {
            "fillpattern": {
             "fillmode": "overlay",
             "size": 10,
             "solidity": 0.2
            },
            "type": "scatter"
           }
          ],
          "scatter3d": [
           {
            "line": {
             "colorbar": {
              "outlinewidth": 0,
              "ticks": ""
             }
            },
            "marker": {
             "colorbar": {
              "outlinewidth": 0,
              "ticks": ""
             }
            },
            "type": "scatter3d"
           }
          ],
          "scattercarpet": [
           {
            "marker": {
             "colorbar": {
              "outlinewidth": 0,
              "ticks": ""
             }
            },
            "type": "scattercarpet"
           }
          ],
          "scattergeo": [
           {
            "marker": {
             "colorbar": {
              "outlinewidth": 0,
              "ticks": ""
             }
            },
            "type": "scattergeo"
           }
          ],
          "scattergl": [
           {
            "marker": {
             "colorbar": {
              "outlinewidth": 0,
              "ticks": ""
             }
            },
            "type": "scattergl"
           }
          ],
          "scattermapbox": [
           {
            "marker": {
             "colorbar": {
              "outlinewidth": 0,
              "ticks": ""
             }
            },
            "type": "scattermapbox"
           }
          ],
          "scatterpolar": [
           {
            "marker": {
             "colorbar": {
              "outlinewidth": 0,
              "ticks": ""
             }
            },
            "type": "scatterpolar"
           }
          ],
          "scatterpolargl": [
           {
            "marker": {
             "colorbar": {
              "outlinewidth": 0,
              "ticks": ""
             }
            },
            "type": "scatterpolargl"
           }
          ],
          "scatterternary": [
           {
            "marker": {
             "colorbar": {
              "outlinewidth": 0,
              "ticks": ""
             }
            },
            "type": "scatterternary"
           }
          ],
          "surface": [
           {
            "colorbar": {
             "outlinewidth": 0,
             "ticks": ""
            },
            "colorscale": [
             [
              0,
              "#0d0887"
             ],
             [
              0.1111111111111111,
              "#46039f"
             ],
             [
              0.2222222222222222,
              "#7201a8"
             ],
             [
              0.3333333333333333,
              "#9c179e"
             ],
             [
              0.4444444444444444,
              "#bd3786"
             ],
             [
              0.5555555555555556,
              "#d8576b"
             ],
             [
              0.6666666666666666,
              "#ed7953"
             ],
             [
              0.7777777777777778,
              "#fb9f3a"
             ],
             [
              0.8888888888888888,
              "#fdca26"
             ],
             [
              1,
              "#f0f921"
             ]
            ],
            "type": "surface"
           }
          ],
          "table": [
           {
            "cells": {
             "fill": {
              "color": "#EBF0F8"
             },
             "line": {
              "color": "white"
             }
            },
            "header": {
             "fill": {
              "color": "#C8D4E3"
             },
             "line": {
              "color": "white"
             }
            },
            "type": "table"
           }
          ]
         },
         "layout": {
          "annotationdefaults": {
           "arrowcolor": "#2a3f5f",
           "arrowhead": 0,
           "arrowwidth": 1
          },
          "autotypenumbers": "strict",
          "coloraxis": {
           "colorbar": {
            "outlinewidth": 0,
            "ticks": ""
           }
          },
          "colorscale": {
           "diverging": [
            [
             0,
             "#8e0152"
            ],
            [
             0.1,
             "#c51b7d"
            ],
            [
             0.2,
             "#de77ae"
            ],
            [
             0.3,
             "#f1b6da"
            ],
            [
             0.4,
             "#fde0ef"
            ],
            [
             0.5,
             "#f7f7f7"
            ],
            [
             0.6,
             "#e6f5d0"
            ],
            [
             0.7,
             "#b8e186"
            ],
            [
             0.8,
             "#7fbc41"
            ],
            [
             0.9,
             "#4d9221"
            ],
            [
             1,
             "#276419"
            ]
           ],
           "sequential": [
            [
             0,
             "#0d0887"
            ],
            [
             0.1111111111111111,
             "#46039f"
            ],
            [
             0.2222222222222222,
             "#7201a8"
            ],
            [
             0.3333333333333333,
             "#9c179e"
            ],
            [
             0.4444444444444444,
             "#bd3786"
            ],
            [
             0.5555555555555556,
             "#d8576b"
            ],
            [
             0.6666666666666666,
             "#ed7953"
            ],
            [
             0.7777777777777778,
             "#fb9f3a"
            ],
            [
             0.8888888888888888,
             "#fdca26"
            ],
            [
             1,
             "#f0f921"
            ]
           ],
           "sequentialminus": [
            [
             0,
             "#0d0887"
            ],
            [
             0.1111111111111111,
             "#46039f"
            ],
            [
             0.2222222222222222,
             "#7201a8"
            ],
            [
             0.3333333333333333,
             "#9c179e"
            ],
            [
             0.4444444444444444,
             "#bd3786"
            ],
            [
             0.5555555555555556,
             "#d8576b"
            ],
            [
             0.6666666666666666,
             "#ed7953"
            ],
            [
             0.7777777777777778,
             "#fb9f3a"
            ],
            [
             0.8888888888888888,
             "#fdca26"
            ],
            [
             1,
             "#f0f921"
            ]
           ]
          },
          "colorway": [
           "#636efa",
           "#EF553B",
           "#00cc96",
           "#ab63fa",
           "#FFA15A",
           "#19d3f3",
           "#FF6692",
           "#B6E880",
           "#FF97FF",
           "#FECB52"
          ],
          "font": {
           "color": "#2a3f5f"
          },
          "geo": {
           "bgcolor": "white",
           "lakecolor": "white",
           "landcolor": "#E5ECF6",
           "showlakes": true,
           "showland": true,
           "subunitcolor": "white"
          },
          "hoverlabel": {
           "align": "left"
          },
          "hovermode": "closest",
          "mapbox": {
           "style": "light"
          },
          "paper_bgcolor": "white",
          "plot_bgcolor": "#E5ECF6",
          "polar": {
           "angularaxis": {
            "gridcolor": "white",
            "linecolor": "white",
            "ticks": ""
           },
           "bgcolor": "#E5ECF6",
           "radialaxis": {
            "gridcolor": "white",
            "linecolor": "white",
            "ticks": ""
           }
          },
          "scene": {
           "xaxis": {
            "backgroundcolor": "#E5ECF6",
            "gridcolor": "white",
            "gridwidth": 2,
            "linecolor": "white",
            "showbackground": true,
            "ticks": "",
            "zerolinecolor": "white"
           },
           "yaxis": {
            "backgroundcolor": "#E5ECF6",
            "gridcolor": "white",
            "gridwidth": 2,
            "linecolor": "white",
            "showbackground": true,
            "ticks": "",
            "zerolinecolor": "white"
           },
           "zaxis": {
            "backgroundcolor": "#E5ECF6",
            "gridcolor": "white",
            "gridwidth": 2,
            "linecolor": "white",
            "showbackground": true,
            "ticks": "",
            "zerolinecolor": "white"
           }
          },
          "shapedefaults": {
           "line": {
            "color": "#2a3f5f"
           }
          },
          "ternary": {
           "aaxis": {
            "gridcolor": "white",
            "linecolor": "white",
            "ticks": ""
           },
           "baxis": {
            "gridcolor": "white",
            "linecolor": "white",
            "ticks": ""
           },
           "bgcolor": "#E5ECF6",
           "caxis": {
            "gridcolor": "white",
            "linecolor": "white",
            "ticks": ""
           }
          },
          "title": {
           "x": 0.05
          },
          "xaxis": {
           "automargin": true,
           "gridcolor": "white",
           "linecolor": "white",
           "ticks": "",
           "title": {
            "standoff": 15
           },
           "zerolinecolor": "white",
           "zerolinewidth": 2
          },
          "yaxis": {
           "automargin": true,
           "gridcolor": "white",
           "linecolor": "white",
           "ticks": "",
           "title": {
            "standoff": 15
           },
           "zerolinecolor": "white",
           "zerolinewidth": 2
          }
         }
        },
        "xaxis": {
         "anchor": "y",
         "domain": [
          0,
          1
         ],
         "title": {
          "text": "x"
         }
        },
        "yaxis": {
         "anchor": "x",
         "domain": [
          0,
          1
         ],
         "title": {
          "text": "y"
         }
        }
       }
      }
     },
     "metadata": {},
     "output_type": "display_data"
    }
   ],
   "source": [
    "fig=px.scatter(x=X[:,0],y=X[:,1])\n",
    "fig.show()"
   ]
  },
  {
   "cell_type": "code",
   "execution_count": 7,
   "id": "f9f5d282-4116-4f69-a2c1-3c60fb0579ba",
   "metadata": {},
   "outputs": [],
   "source": [
    "from sklearn.preprocessing import StandardScaler\n",
    "scaler=StandardScaler()"
   ]
  },
  {
   "cell_type": "code",
   "execution_count": 8,
   "id": "4f78f0a7-2fde-4a8c-9bda-dfd616a5addd",
   "metadata": {},
   "outputs": [],
   "source": [
    "X_scaled=scaler.fit_transform(X)"
   ]
  },
  {
   "cell_type": "code",
   "execution_count": 9,
   "id": "53aca2b9-c678-4767-94d3-3074bb2c51c6",
   "metadata": {},
   "outputs": [],
   "source": [
    "from sklearn.cluster import DBSCAN\n",
    "dbscan=DBSCAN(eps=0.15)"
   ]
  },
  {
   "cell_type": "code",
   "execution_count": 10,
   "id": "c3a668f6-bb94-4a4e-bf09-0752bc22453b",
   "metadata": {},
   "outputs": [
    {
     "data": {
      "text/html": [
       "<style>#sk-container-id-1 {color: black;background-color: white;}#sk-container-id-1 pre{padding: 0;}#sk-container-id-1 div.sk-toggleable {background-color: white;}#sk-container-id-1 label.sk-toggleable__label {cursor: pointer;display: block;width: 100%;margin-bottom: 0;padding: 0.3em;box-sizing: border-box;text-align: center;}#sk-container-id-1 label.sk-toggleable__label-arrow:before {content: \"▸\";float: left;margin-right: 0.25em;color: #696969;}#sk-container-id-1 label.sk-toggleable__label-arrow:hover:before {color: black;}#sk-container-id-1 div.sk-estimator:hover label.sk-toggleable__label-arrow:before {color: black;}#sk-container-id-1 div.sk-toggleable__content {max-height: 0;max-width: 0;overflow: hidden;text-align: left;background-color: #f0f8ff;}#sk-container-id-1 div.sk-toggleable__content pre {margin: 0.2em;color: black;border-radius: 0.25em;background-color: #f0f8ff;}#sk-container-id-1 input.sk-toggleable__control:checked~div.sk-toggleable__content {max-height: 200px;max-width: 100%;overflow: auto;}#sk-container-id-1 input.sk-toggleable__control:checked~label.sk-toggleable__label-arrow:before {content: \"▾\";}#sk-container-id-1 div.sk-estimator input.sk-toggleable__control:checked~label.sk-toggleable__label {background-color: #d4ebff;}#sk-container-id-1 div.sk-label input.sk-toggleable__control:checked~label.sk-toggleable__label {background-color: #d4ebff;}#sk-container-id-1 input.sk-hidden--visually {border: 0;clip: rect(1px 1px 1px 1px);clip: rect(1px, 1px, 1px, 1px);height: 1px;margin: -1px;overflow: hidden;padding: 0;position: absolute;width: 1px;}#sk-container-id-1 div.sk-estimator {font-family: monospace;background-color: #f0f8ff;border: 1px dotted black;border-radius: 0.25em;box-sizing: border-box;margin-bottom: 0.5em;}#sk-container-id-1 div.sk-estimator:hover {background-color: #d4ebff;}#sk-container-id-1 div.sk-parallel-item::after {content: \"\";width: 100%;border-bottom: 1px solid gray;flex-grow: 1;}#sk-container-id-1 div.sk-label:hover label.sk-toggleable__label {background-color: #d4ebff;}#sk-container-id-1 div.sk-serial::before {content: \"\";position: absolute;border-left: 1px solid gray;box-sizing: border-box;top: 0;bottom: 0;left: 50%;z-index: 0;}#sk-container-id-1 div.sk-serial {display: flex;flex-direction: column;align-items: center;background-color: white;padding-right: 0.2em;padding-left: 0.2em;position: relative;}#sk-container-id-1 div.sk-item {position: relative;z-index: 1;}#sk-container-id-1 div.sk-parallel {display: flex;align-items: stretch;justify-content: center;background-color: white;position: relative;}#sk-container-id-1 div.sk-item::before, #sk-container-id-1 div.sk-parallel-item::before {content: \"\";position: absolute;border-left: 1px solid gray;box-sizing: border-box;top: 0;bottom: 0;left: 50%;z-index: -1;}#sk-container-id-1 div.sk-parallel-item {display: flex;flex-direction: column;z-index: 1;position: relative;background-color: white;}#sk-container-id-1 div.sk-parallel-item:first-child::after {align-self: flex-end;width: 50%;}#sk-container-id-1 div.sk-parallel-item:last-child::after {align-self: flex-start;width: 50%;}#sk-container-id-1 div.sk-parallel-item:only-child::after {width: 0;}#sk-container-id-1 div.sk-dashed-wrapped {border: 1px dashed gray;margin: 0 0.4em 0.5em 0.4em;box-sizing: border-box;padding-bottom: 0.4em;background-color: white;}#sk-container-id-1 div.sk-label label {font-family: monospace;font-weight: bold;display: inline-block;line-height: 1.2em;}#sk-container-id-1 div.sk-label-container {text-align: center;}#sk-container-id-1 div.sk-container {/* jupyter's `normalize.less` sets `[hidden] { display: none; }` but bootstrap.min.css set `[hidden] { display: none !important; }` so we also need the `!important` here to be able to override the default hidden behavior on the sphinx rendered scikit-learn.org. See: https://github.com/scikit-learn/scikit-learn/issues/21755 */display: inline-block !important;position: relative;}#sk-container-id-1 div.sk-text-repr-fallback {display: none;}</style><div id=\"sk-container-id-1\" class=\"sk-top-container\"><div class=\"sk-text-repr-fallback\"><pre>DBSCAN(eps=0.15)</pre><b>In a Jupyter environment, please rerun this cell to show the HTML representation or trust the notebook. <br />On GitHub, the HTML representation is unable to render, please try loading this page with nbviewer.org.</b></div><div class=\"sk-container\" hidden><div class=\"sk-item\"><div class=\"sk-estimator sk-toggleable\"><input class=\"sk-toggleable__control sk-hidden--visually\" id=\"sk-estimator-id-1\" type=\"checkbox\" checked><label for=\"sk-estimator-id-1\" class=\"sk-toggleable__label sk-toggleable__label-arrow\">DBSCAN</label><div class=\"sk-toggleable__content\"><pre>DBSCAN(eps=0.15)</pre></div></div></div></div></div>"
      ],
      "text/plain": [
       "DBSCAN(eps=0.15)"
      ]
     },
     "execution_count": 10,
     "metadata": {},
     "output_type": "execute_result"
    }
   ],
   "source": [
    "dbscan.fit(X_scaled)"
   ]
  },
  {
   "cell_type": "code",
   "execution_count": 11,
   "id": "d7291e97-ccee-4a00-a2d7-d43fa3b7da6f",
   "metadata": {},
   "outputs": [
    {
     "data": {
      "text/plain": [
       "array([ 0,  0,  0, -1,  0,  0,  0,  0,  0,  0,  0,  0,  0,  0,  1,  0,  0,\n",
       "        0,  0,  0,  0,  0,  0,  0,  0,  0,  0,  0,  0,  0,  0,  0,  0,  0,\n",
       "        0, -1,  0,  0,  0,  0, -1,  0,  0, -1,  0,  0, -1,  0,  0,  0,  0,\n",
       "        0,  0,  0,  0,  0,  0,  0,  0,  0,  0,  0, -1,  0,  0,  0,  0,  0,\n",
       "        0,  0,  0,  0,  0,  0,  0,  0,  0,  0,  0,  0,  0,  0,  0, -1,  0,\n",
       "        0, -1,  0,  0,  0,  0,  0,  0,  0,  0,  0,  0,  0, -1, -1,  0,  0,\n",
       "        0,  0,  0,  0,  0,  0,  0,  0,  0,  0, -1,  0,  0,  0,  0,  0,  0,\n",
       "        0,  0,  0,  0,  0,  0,  0,  0,  0,  0,  0,  0,  0,  0, -1, -1,  0,\n",
       "        0,  0,  0,  0,  0,  0,  0,  0,  0,  0,  0,  0,  0,  0,  0, -1, -1,\n",
       "        0,  0,  0,  0,  0,  0,  0, -1,  0,  0,  0,  0,  0,  0,  0,  0,  0,\n",
       "        0,  0,  0,  0, -1,  0,  0,  0,  0,  0, -1,  0,  0,  0,  0,  0,  0,\n",
       "        0,  0,  0,  0,  0,  0,  0,  0, -1,  0,  0,  0,  0,  0,  0,  0,  0,\n",
       "        0,  0,  0,  0, -1,  0,  0,  0,  0,  0,  0,  0,  0,  0,  0,  0,  0,\n",
       "        0,  0,  0,  0,  0,  0,  0,  1,  0,  0, -1,  0,  0,  0,  0,  0, -1,\n",
       "        0,  0,  0,  0,  0,  0, -1,  0,  0,  0,  0,  0,  0,  0,  0,  0, -1,\n",
       "        0,  0,  0,  1,  0,  0,  0,  0,  0,  0,  0,  0,  0,  0,  0, -1,  0,\n",
       "        0,  0,  0,  0,  0,  0,  0,  0,  0,  0,  0,  0,  0,  0, -1,  0,  0,\n",
       "        0,  0,  0,  0,  0,  0,  0,  0, -1,  0,  0,  0,  0, -1,  0,  0,  0,\n",
       "        0, -1,  0,  0,  0,  0,  0,  0,  0,  0,  0,  0,  0,  0,  0,  0,  0,\n",
       "        0,  0,  0,  0,  0,  0,  0,  0,  0,  0,  0,  0,  0,  0,  0, -1,  0,\n",
       "        0,  0,  0,  0, -1,  0,  0,  0,  0,  0, -1,  0,  0,  0,  0,  0,  0,\n",
       "        0, -1,  0,  0,  0,  0,  0,  0,  0,  0,  0,  0, -1,  0,  0,  0,  0,\n",
       "        0,  0, -1,  0,  0,  0,  0,  0,  0,  0,  0,  0,  0,  0,  0,  0,  0,\n",
       "        0,  0,  0,  0,  0,  0,  0,  0,  0,  0,  0,  0,  0,  0,  0,  0, -1,\n",
       "        0,  0, -1,  0,  0,  0,  0,  0,  0,  0,  0,  0,  0,  0,  0,  0,  0,\n",
       "        0,  0,  0,  0,  0,  0,  0,  0,  0, -1,  0,  0,  0,  0, -1,  0,  0,\n",
       "        0,  0,  0,  0,  0,  0,  0,  0,  0,  0,  0,  0, -1,  0,  1,  0,  0,\n",
       "        0,  0,  0,  0, -1,  0,  0, -1,  0,  0,  0, -1,  0,  1,  0,  0,  0,\n",
       "        0,  0,  0,  0,  0, -1, -1,  0,  0,  0,  0, -1,  0,  0, -1,  0,  0,\n",
       "        0,  0,  0,  0,  0,  0,  0, -1,  0,  0,  0,  0,  0,  0,  0,  0,  0,\n",
       "        0, -1,  0,  0,  0, -1,  0, -1,  0,  0,  0,  0,  0,  0,  0,  0,  0,\n",
       "       -1,  0,  0,  0,  0,  0,  0,  0,  0,  0,  0,  0,  0,  0,  0,  0, -1,\n",
       "        0,  0,  0,  0,  0,  0,  0,  0,  0,  0,  0,  0,  0,  0,  0,  0,  0,\n",
       "       -1,  0,  0,  0,  0,  0, -1,  0,  0,  0, -1,  0,  0,  0,  0,  0,  0,\n",
       "        0,  0,  0, -1, -1,  0,  0,  0,  0, -1,  0,  0,  0,  0,  0,  0,  0,\n",
       "        0,  0,  0, -1,  0,  0,  0,  0,  0,  0,  0,  0,  0, -1,  0,  0,  0,\n",
       "       -1,  0,  0,  0,  0,  0, -1, -1,  0, -1, -1,  0,  0,  0,  0, -1,  0,\n",
       "        0,  0, -1,  0,  0,  0,  0,  0,  0,  0,  0,  0,  0,  0,  0,  0,  0,\n",
       "        0,  0,  0,  0,  0,  0,  0,  0, -1,  0,  0,  0,  0, -1,  0,  0,  0,\n",
       "        0,  0,  0,  0,  0, -1,  0,  0,  0,  0,  0,  0,  0,  0,  0, -1,  0,\n",
       "        0,  0,  0,  0,  0,  0,  0,  0,  0,  0,  0,  0,  0,  0,  0,  0,  0,\n",
       "        0,  0,  0, -1, -1, -1,  0,  0,  0,  0, -1,  0,  0,  0,  0,  0,  0,\n",
       "        0,  0,  0,  0,  0,  0,  0,  0,  0,  0,  0,  0,  0,  0,  0,  0,  0,\n",
       "        0,  0,  0, -1,  0,  0,  0,  0,  0,  0,  0,  0,  0,  0,  0,  0, -1,\n",
       "        0,  0,  0,  0,  0,  0, -1,  0,  0,  0, -1,  0,  0,  0,  0,  0, -1,\n",
       "        0,  0, -1,  0, -1,  0,  0, -1,  0,  0,  0,  0,  0,  0, -1,  0,  0,\n",
       "        0,  0,  0,  0,  0,  0,  0,  0, -1,  0,  0,  0,  0,  0,  0,  0,  0,\n",
       "        0,  0, -1,  0,  0,  0,  0,  0,  0,  0,  0,  0,  0,  0,  0,  0,  0,\n",
       "        0,  0,  0,  0,  0,  0,  0,  0,  0,  0,  0,  0,  0,  0,  0,  0,  0,\n",
       "        0,  0,  0,  0,  1,  0, -1,  0,  0,  0,  0, -1,  0,  0,  0,  0,  0,\n",
       "        0,  0,  0,  0,  0,  0,  0,  0, -1, -1,  0,  0,  0,  0,  0,  0, -1,\n",
       "        0,  0,  0,  0,  0, -1,  0,  0, -1,  0,  0,  0,  0,  0, -1,  0,  0,\n",
       "        0,  0,  0,  0,  0,  0,  0,  0,  0,  0, -1,  0,  0,  0,  0,  0, -1,\n",
       "        0,  0,  0,  0,  0,  0,  0,  0,  0,  0, -1,  0,  0, -1,  0,  0, -1,\n",
       "        0,  0,  0,  0,  0,  0, -1,  0,  0, -1, -1,  0,  0,  0,  0,  0,  0,\n",
       "        0,  0,  0,  0,  0,  0,  0,  0,  0,  0, -1,  0,  0,  0,  0,  0,  0,\n",
       "        0,  0, -1, -1,  0, -1,  0,  0,  0,  0,  0, -1,  0,  0,  0,  0,  0,\n",
       "        0,  0,  0,  0, -1, -1,  0,  0,  0,  0,  0,  0,  0,  0,  0,  0,  0,\n",
       "        0,  0,  0, -1,  0,  0,  0,  0, -1,  0,  0,  0,  0,  0])"
      ]
     },
     "execution_count": 11,
     "metadata": {},
     "output_type": "execute_result"
    }
   ],
   "source": [
    "dbscan.labels_"
   ]
  },
  {
   "cell_type": "code",
   "execution_count": 12,
   "id": "49f87035-b61c-4927-a5cc-520467b854f4",
   "metadata": {},
   "outputs": [
    {
     "data": {
      "text/plain": [
       "<matplotlib.collections.PathCollection at 0x7f8b7cedb100>"
      ]
     },
     "execution_count": 12,
     "metadata": {},
     "output_type": "execute_result"
    },
    {
     "data": {
      "image/png": "[encoded data removed]",
      "text/plain": [
       "<Figure size 640x480 with 1 Axes>"
      ]
     },
     "metadata": {},
     "output_type": "display_data"
    }
   ],
   "source": [
    "plt.scatter(X_scaled[:,0],X_scaled[:,1],c=dbscan.labels_)"
   ]
  },
  {
   "cell_type": "code",
   "execution_count": 13,
   "id": "2b383b3f-ea35-48fd-88e9-bb60501f8296",
   "metadata": {},
   "outputs": [
    {
     "data": {
      "text/plain": [
       "<matplotlib.collections.PathCollection at 0x7f8b8c0ea560>"
      ]
     },
     "execution_count": 13,
     "metadata": {},
     "output_type": "execute_result"
    },
    {
     "data": {
      "image/png": "[encoded data removed]",
      "text/plain": [
       "<Figure size 640x480 with 1 Axes>"
      ]
     },
     "metadata": {},
     "output_type": "display_data"
    }
   ],
   "source": [
    "plt.scatter(X_scaled[:,0],X_scaled[:,1],c=y)"
   ]
  },
  {
   "cell_type": "code",
   "execution_count": 14,
   "id": "5c24cfc2-8308-4d49-85dd-baafa6c6d4ae",
   "metadata": {},
   "outputs": [],
   "source": [
    "from sklearn.metrics import silhouette_score"
   ]
  },
  {
   "cell_type": "code",
   "execution_count": 15,
   "id": "2d291ec5-5d57-481e-be86-3e213c675b95",
   "metadata": {},
   "outputs": [],
   "source": [
    "silhouette_coef=[]\n",
    "for k in range(2,12):\n",
    "    dbscan=DBSCAN(eps=0.18)\n",
    "    dbscan.fit(X_scaled)\n",
    "    score=silhouette_score(X_scaled,dbscan.labels_)\n",
    "    silhouette_coef.append(score)"
   ]
  },
  {
   "cell_type": "code",
   "execution_count": 16,
   "id": "a91716ec-6ed3-4b02-a2d8-db34a15b3053",
   "metadata": {},
   "outputs": [
    {
     "data": {
      "text/plain": [
       "[0.1630691068685017,\n",
       " 0.1630691068685017,\n",
       " 0.1630691068685017,\n",
       " 0.1630691068685017,\n",
       " 0.1630691068685017,\n",
       " 0.1630691068685017,\n",
       " 0.1630691068685017,\n",
       " 0.1630691068685017,\n",
       " 0.1630691068685017,\n",
       " 0.1630691068685017]"
      ]
     },
     "execution_count": 16,
     "metadata": {},
     "output_type": "execute_result"
    }
   ],
   "source": [
    "silhouette_coef"
   ]
  },
  {
   "cell_type": "code",
   "execution_count": null,
   "id": "878cbcb2-dd9e-4984-b969-74d7e29a5225",
   "metadata": {},
   "outputs": [],
   "source": []
  }
 ],
 "metadata": {
  "kernelspec": {
   "display_name": "Python 3 (ipykernel)",
   "language": "python",
   "name": "python3"
  },
  "language_info": {
   "codemirror_mode": {
    "name": "ipython",
    "version": 3
   },
   "file_extension": ".py",
   "mimetype": "text/x-python",
   "name": "python",
   "nbconvert_exporter": "python",
   "pygments_lexer": "ipython3",
   "version": "3.10.8"
  }
 },
 "nbformat": 4,
 "nbformat_minor": 5
}
