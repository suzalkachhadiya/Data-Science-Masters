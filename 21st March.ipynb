{
 "cells": [
  {
   "cell_type": "markdown",
   "id": "b695507b",
   "metadata": {},
   "source": [
    "# 1] What is the difference between Ordinal Encoding and Label Encoding? Provide an example of when you might choose one over the other."
   ]
  },
  {
   "cell_type": "markdown",
   "id": "22ec5727",
   "metadata": {},
   "source": [
    "### => Ordinal Encoding assigns a unique numerical value to each category in a way that reflects the order or hierarchy among them. For example, in a variable representing education level, we might assign 1 to \"High School\", 2 to \"Associate's Degree\", 3 to \"Bachelor's Degree\", and so on. Ordinal encoding assumes that there is some order or ranking among the categories, and encodes them accordingly.\n",
    "\n",
    "### => Label Encoding, on the other hand, assigns a unique numerical value to each category without any particular order or hierarchy. For example, in a variable representing fruit types, we might assign 1 to \"Apple\", 2 to \"Banana\", 3 to \"Orange\", and so on. Label encoding is useful when there is no natural order or hierarchy among the categories.\n",
    "### \n",
    "### => One might choose to use Ordinal Encoding over Label Encoding when the categorical variable represents a variable with a natural order or hierarchy, such as education level, income range, or ratings. For instance, if you are building a model to predict customer satisfaction ratings on a scale from \"Very Dissatisfied\" to \"Very Satisfied\", it would make sense to use Ordinal Encoding as there is a clear order among the ratings.\n",
    "\n",
    "### => On the other hand, if the categories are nominal or unordered, such as colors or names of products, Label Encoding would be more appropriate. For instance, if you are building a model to predict customer preferences for different types of clothing brands, you might use Label Encoding to represent the different brand names as numerical values."
   ]
  },
  {
   "cell_type": "markdown",
   "id": "62acb015",
   "metadata": {},
   "source": [
    "# 2] Explain how Target Guided Ordinal Encoding works and provide an example of when you might use it in a machine learning project."
   ]
  },
  {
   "cell_type": "markdown",
   "id": "1d84029a",
   "metadata": {},
   "source": [
    "### => Target Guided Ordinal Encoding is a technique used to encode categorical variables by taking into account their relationship with the target variable. The goal of this technique is to transform the categorical variable into a new ordinal variable that is better correlated with the target variable, thus improving the predictive power of the model.\n",
    "### \n",
    "## 1) Calculate the mean of the target variable for each category of the categorical variable.\n",
    "## 2) Order the categories of the categorical variable based on their mean value of the target variable (from the lowest to the highest).\n",
    "## 3) Assign an ordinal number to each category based on the order obtained in step 2.\n",
    "### \n",
    "### => For example, let's say you have a categorical variable \"City\" and a target variable \"Salary\" and you want to encode the \"City\" variable using Target Guided Ordinal Encoding. You would follow these steps:\n",
    "\n",
    "### Calculate the mean salary for each city.\n",
    "### Order the cities based on their mean salary, from the lowest to the highest.\n",
    "### Assign an ordinal number to each city based on its order in the sorted list.\n",
    "### \n",
    "### Suppose the mean salaries for the cities are as follows:\n",
    "\n",
    "### New York: 80,000 dollar\n",
    "### San Fransisco: 100000 dollar\n",
    "### Los Angeles: 70000 dollar\n",
    "### Chicago: 60000 dollar\n",
    "### The cities would be ordered as follows:\n",
    "\n",
    "### => Chicago (ordinal value 1)\n",
    "### => Los Angeles (ordinal value 2)\n",
    "### => New York (ordinal value 3)\n",
    "### => San Francisco (ordinal value 4)"
   ]
  },
  {
   "cell_type": "markdown",
   "id": "f2ba5132",
   "metadata": {},
   "source": [
    "# 3] Define covariance and explain why it is important in statistical analysis. How is covariance calculated?"
   ]
  },
  {
   "cell_type": "markdown",
   "id": "9fd166ea",
   "metadata": {},
   "source": [
    "### => Covariance is a measure of the extent to which two variables are linearly related to each other. Specifically, it measures the degree to which the deviations of two variables from their respective means are related. If the values of two variables tend to increase or decrease together, their covariance is positive, while if they tend to have opposite behavior, their covariance is negative.\n",
    "\n",
    "### => Covariance is important in statistical analysis because it helps us to understand the relationship between two variables and the direction of that relationship. By calculating the covariance between two variables, we can determine whether they are positively or negatively related, and how strongly they are related. Covariance is also used to calculate the correlation coefficient, which is a standardized measure of the linear relationship between two variables.\n",
    "##  \n",
    "### => cov(X,Y) = Σ[(Xi - Xmean) * (Yi - Ymean)] / (n - 1)\n",
    "\n",
    "### where X and Y are the two variables, Xi and Yi are their respective values, Xmean and Ymean are their respective means, and n is the number of data points.\n",
    "### => If the covariance is positive, the variables tend to increase or decrease together, indicating a positive linear relationship.\n",
    "### =>If the covariance is negative, the variables tend to have opposite behavior, indicating a negative linear relationship.\n",
    "### => If the covariance is zero, there is no linear relationship between the variables.\n",
    "### => One limitation of covariance is that it is not standardized, meaning that its value depends on the units in which the variables are measured. Therefore, it is often more useful to use the correlation coefficient, which is a standardized measure of the linear relationship between two variables, and ranges from -1 to 1."
   ]
  },
  {
   "cell_type": "markdown",
   "id": "d5496096",
   "metadata": {},
   "source": [
    "# 4] For a dataset with the following categorical variables: Color (red, green, blue), Size (small, medium, large), and Material (wood, metal, plastic), perform label encoding using Python's scikit-learn library. Show your code and explain the output."
   ]
  },
  {
   "cell_type": "code",
   "execution_count": 1,
   "id": "2eb82a15",
   "metadata": {},
   "outputs": [
    {
     "data": {
      "text/html": [
       "<div>\n",
       "<style scoped>\n",
       "    .dataframe tbody tr th:only-of-type {\n",
       "        vertical-align: middle;\n",
       "    }\n",
       "\n",
       "    .dataframe tbody tr th {\n",
       "        vertical-align: top;\n",
       "    }\n",
       "\n",
       "    .dataframe thead th {\n",
       "        text-align: right;\n",
       "    }\n",
       "</style>\n",
       "<table border=\"1\" class=\"dataframe\">\n",
       "  <thead>\n",
       "    <tr style=\"text-align: right;\">\n",
       "      <th></th>\n",
       "      <th>color</th>\n",
       "      <th>size</th>\n",
       "      <th>material</th>\n",
       "    </tr>\n",
       "  </thead>\n",
       "  <tbody>\n",
       "    <tr>\n",
       "      <th>0</th>\n",
       "      <td>red</td>\n",
       "      <td>small</td>\n",
       "      <td>wood</td>\n",
       "    </tr>\n",
       "    <tr>\n",
       "      <th>1</th>\n",
       "      <td>green</td>\n",
       "      <td>medium</td>\n",
       "      <td>metal</td>\n",
       "    </tr>\n",
       "    <tr>\n",
       "      <th>2</th>\n",
       "      <td>blue</td>\n",
       "      <td>large</td>\n",
       "      <td>plastic</td>\n",
       "    </tr>\n",
       "  </tbody>\n",
       "</table>\n",
       "</div>"
      ],
      "text/plain": [
       "   color    size material\n",
       "0    red   small     wood\n",
       "1  green  medium    metal\n",
       "2   blue   large  plastic"
      ]
     },
     "execution_count": 1,
     "metadata": {},
     "output_type": "execute_result"
    }
   ],
   "source": [
    "import pandas as pd\n",
    "df=pd.DataFrame({\n",
    "    \"color\":[\"red\",\"green\",\"blue\"],\n",
    "    \"size\":[\"small\",\"medium\",\"large\"],\n",
    "    \"material\":[\"wood\",\"metal\",\"plastic\"]\n",
    "})\n",
    "df"
   ]
  },
  {
   "cell_type": "code",
   "execution_count": 2,
   "id": "243ad56f",
   "metadata": {},
   "outputs": [],
   "source": [
    "from sklearn.preprocessing import OneHotEncoder\n",
    "encoder=OneHotEncoder()\n",
    "color_encoded=encoder.fit_transform(df[[\"color\"]]).toarray()"
   ]
  },
  {
   "cell_type": "code",
   "execution_count": 3,
   "id": "558d6f6b",
   "metadata": {},
   "outputs": [
    {
     "data": {
      "text/html": [
       "<div>\n",
       "<style scoped>\n",
       "    .dataframe tbody tr th:only-of-type {\n",
       "        vertical-align: middle;\n",
       "    }\n",
       "\n",
       "    .dataframe tbody tr th {\n",
       "        vertical-align: top;\n",
       "    }\n",
       "\n",
       "    .dataframe thead th {\n",
       "        text-align: right;\n",
       "    }\n",
       "</style>\n",
       "<table border=\"1\" class=\"dataframe\">\n",
       "  <thead>\n",
       "    <tr style=\"text-align: right;\">\n",
       "      <th></th>\n",
       "      <th>color_blue</th>\n",
       "      <th>color_green</th>\n",
       "      <th>color_red</th>\n",
       "    </tr>\n",
       "  </thead>\n",
       "  <tbody>\n",
       "    <tr>\n",
       "      <th>0</th>\n",
       "      <td>0.0</td>\n",
       "      <td>0.0</td>\n",
       "      <td>1.0</td>\n",
       "    </tr>\n",
       "    <tr>\n",
       "      <th>1</th>\n",
       "      <td>0.0</td>\n",
       "      <td>1.0</td>\n",
       "      <td>0.0</td>\n",
       "    </tr>\n",
       "    <tr>\n",
       "      <th>2</th>\n",
       "      <td>1.0</td>\n",
       "      <td>0.0</td>\n",
       "      <td>0.0</td>\n",
       "    </tr>\n",
       "  </tbody>\n",
       "</table>\n",
       "</div>"
      ],
      "text/plain": [
       "   color_blue  color_green  color_red\n",
       "0         0.0          0.0        1.0\n",
       "1         0.0          1.0        0.0\n",
       "2         1.0          0.0        0.0"
      ]
     },
     "execution_count": 3,
     "metadata": {},
     "output_type": "execute_result"
    }
   ],
   "source": [
    "color_encoder_df=pd.DataFrame(color_encoded,columns=encoder.get_feature_names_out())\n",
    "color_encoder_df.head()\n"
   ]
  },
  {
   "cell_type": "code",
   "execution_count": null,
   "id": "2360f8d5",
   "metadata": {},
   "outputs": [],
   "source": []
  },
  {
   "cell_type": "code",
   "execution_count": 4,
   "id": "ded0cd39",
   "metadata": {},
   "outputs": [],
   "source": [
    "from sklearn.preprocessing import LabelEncoder\n"
   ]
  },
  {
   "cell_type": "code",
   "execution_count": 5,
   "id": "ebfe8a48",
   "metadata": {},
   "outputs": [
    {
     "name": "stderr",
     "output_type": "stream",
     "text": [
      "C:\\Users\\suzal\\anaconda3\\lib\\site-packages\\sklearn\\preprocessing\\_label.py:115: DataConversionWarning: A column-vector y was passed when a 1d array was expected. Please change the shape of y to (n_samples, ), for example using ravel().\n",
      "  y = column_or_1d(y, warn=True)\n"
     ]
    },
    {
     "data": {
      "text/plain": [
       "array([2, 1, 0])"
      ]
     },
     "execution_count": 5,
     "metadata": {},
     "output_type": "execute_result"
    }
   ],
   "source": [
    "encoder=LabelEncoder()\n",
    "size_encoded=encoder.fit_transform(df[[\"size\"]])\n",
    "size_encoded"
   ]
  },
  {
   "cell_type": "code",
   "execution_count": null,
   "id": "e7b93501",
   "metadata": {},
   "outputs": [],
   "source": []
  },
  {
   "cell_type": "code",
   "execution_count": 6,
   "id": "08665461",
   "metadata": {},
   "outputs": [],
   "source": [
    "from sklearn.preprocessing import OneHotEncoder\n",
    "encoder=OneHotEncoder()\n",
    "material_encoded=encoder.fit_transform(df[[\"material\"]]).toarray()"
   ]
  },
  {
   "cell_type": "code",
   "execution_count": 7,
   "id": "87bb61e6",
   "metadata": {},
   "outputs": [
    {
     "data": {
      "text/html": [
       "<div>\n",
       "<style scoped>\n",
       "    .dataframe tbody tr th:only-of-type {\n",
       "        vertical-align: middle;\n",
       "    }\n",
       "\n",
       "    .dataframe tbody tr th {\n",
       "        vertical-align: top;\n",
       "    }\n",
       "\n",
       "    .dataframe thead th {\n",
       "        text-align: right;\n",
       "    }\n",
       "</style>\n",
       "<table border=\"1\" class=\"dataframe\">\n",
       "  <thead>\n",
       "    <tr style=\"text-align: right;\">\n",
       "      <th></th>\n",
       "      <th>material_metal</th>\n",
       "      <th>material_plastic</th>\n",
       "      <th>material_wood</th>\n",
       "    </tr>\n",
       "  </thead>\n",
       "  <tbody>\n",
       "    <tr>\n",
       "      <th>0</th>\n",
       "      <td>0.0</td>\n",
       "      <td>0.0</td>\n",
       "      <td>1.0</td>\n",
       "    </tr>\n",
       "    <tr>\n",
       "      <th>1</th>\n",
       "      <td>1.0</td>\n",
       "      <td>0.0</td>\n",
       "      <td>0.0</td>\n",
       "    </tr>\n",
       "    <tr>\n",
       "      <th>2</th>\n",
       "      <td>0.0</td>\n",
       "      <td>1.0</td>\n",
       "      <td>0.0</td>\n",
       "    </tr>\n",
       "  </tbody>\n",
       "</table>\n",
       "</div>"
      ],
      "text/plain": [
       "   material_metal  material_plastic  material_wood\n",
       "0             0.0               0.0            1.0\n",
       "1             1.0               0.0            0.0\n",
       "2             0.0               1.0            0.0"
      ]
     },
     "execution_count": 7,
     "metadata": {},
     "output_type": "execute_result"
    }
   ],
   "source": [
    "material_encoder_df=pd.DataFrame(material_encoded,columns=encoder.get_feature_names_out())\n",
    "material_encoder_df\n"
   ]
  },
  {
   "cell_type": "code",
   "execution_count": null,
   "id": "4491dd86",
   "metadata": {},
   "outputs": [],
   "source": []
  },
  {
   "cell_type": "markdown",
   "id": "6c17e0ea",
   "metadata": {},
   "source": [
    "# 5] Calculate the covariance matrix for the following variables in a dataset: Age, Income, and Education level. Interpret the results."
   ]
  },
  {
   "cell_type": "markdown",
   "id": "6a951317",
   "metadata": {},
   "source": [
    "### => assuming column age, income, and education cotained provided\n",
    "### \n",
    "## Code\n",
    "import pandas as pd\n",
    "\n",
    "data = pd.read_csv('data.csv')\n",
    "\n",
    "cov_mat = data[['Age', 'Income', 'Education']].cov()\n",
    "\n",
    "print(cov_mat)\n",
    "### \n",
    "### => To interpret the results, we need to look at the sign and magnitude of each covariance. A positive covariance between two variables indicates that they tend to vary together in the same direction, while a negative covariance indicates that they tend to vary in opposite directions. The magnitude of the covariance indicates the strength of the relationship between the variables."
   ]
  },
  {
   "cell_type": "markdown",
   "id": "2ad60bb7",
   "metadata": {},
   "source": [
    "# 6] You are working on a machine learning project with a dataset containing several categorical variables, including \"Gender\" (Male/Female), \"Education Level\" (High School/Bachelor's/Master's/PhD), and \"Employment Status\" (Unemployed/Part-Time/Full-Time). Which encoding method would you use for each variable, and why?"
   ]
  },
  {
   "cell_type": "markdown",
   "id": "f132bd5e",
   "metadata": {},
   "source": [
    "### => for \"Gender\" column we can use one hot encoing, because there are only two categories.\n",
    "### \n",
    "### => for \"education level\", there is we can see order is meaningful, so we can use ordinal encoding.\n",
    "### \n",
    "### => for \"emplyment status\" we can use one hot encoding beacuse therenare only three categories, or we can use label encoding,too. Because there is no importance of order."
   ]
  },
  {
   "cell_type": "markdown",
   "id": "6a3361a1",
   "metadata": {},
   "source": [
    "# 7] You are analyzing a dataset with two continuous variables, \"Temperature\" and \"Humidity\", and two categorical variables, \"Weather Condition\" (Sunny/Cloudy/Rainy) and \"Wind Direction\" (North/South/ East/West). Calculate the covariance between each pair of variables and interpret the results."
   ]
  },
  {
   "cell_type": "markdown",
   "id": "6f450647",
   "metadata": {},
   "source": [
    "### => first do label encoding on columns \"Weather Condition\" and \"Wind Direction\". \n",
    "### => clean the data\n",
    "### => plot heatmap from seaborn to calculate and analizing the relation (covariance) between these columns.\n",
    "### \n",
    "### => To interpret the results, we need to look at the sign and magnitude of each covariance. A positive covariance between two variables indicates that they tend to vary together in the same direction, while a negative covariance indicates that they tend to vary in opposite directions. The magnitude of the covariance indicates the strength of the relationship between the variables."
   ]
  },
  {
   "cell_type": "code",
   "execution_count": null,
   "id": "01125ddf",
   "metadata": {},
   "outputs": [],
   "source": []
  }
 ],
 "metadata": {
  "kernelspec": {
   "display_name": "Python 3 (ipykernel)",
   "language": "python",
   "name": "python3"
  },
  "language_info": {
   "codemirror_mode": {
    "name": "ipython",
    "version": 3
   },
   "file_extension": ".py",
   "mimetype": "text/x-python",
   "name": "python",
   "nbconvert_exporter": "python",
   "pygments_lexer": "ipython3",
   "version": "3.9.13"
  }
 },
 "nbformat": 4,
 "nbformat_minor": 5
}
