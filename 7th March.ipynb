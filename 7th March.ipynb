{
 "cells": [
  {
   "cell_type": "markdown",
   "id": "c91297c1",
   "metadata": {},
   "source": [
    "# 1] What are the three measures of central tendency?"
   ]
  },
  {
   "cell_type": "markdown",
   "id": "c69d882b",
   "metadata": {},
   "source": [
    "## 1) Mean\n",
    "## 2) Median\n",
    "## 3) Mode"
   ]
  },
  {
   "cell_type": "markdown",
   "id": "b0e866a7",
   "metadata": {},
   "source": [
    "# 2] What is the difference between the mean, median, and mode? How are they used to measure the central tendency of a dataset?"
   ]
  },
  {
   "cell_type": "markdown",
   "id": "81c7ccca",
   "metadata": {},
   "source": [
    "## 1) Mean: \n",
    "### => The mean is the average value of a dataset, calculated by adding up all the values and dividing by the total number of values. The mean is a useful measure of central tendency when the data is normally distributed and has no extreme outliers.\n",
    "\n",
    "## 2) Median: \n",
    "### => The median is the middle value of a dataset when the values are arranged in order. If there is an even number of values, the median is calculated by taking the average of the two middle values. The median is a useful measure of central tendency when the data has outliers or is skewed.\n",
    "\n",
    "## 3) Mode:\n",
    "### => The mode is the value that occurs most frequently in a dataset. The mode is a useful measure of central tendency when the data is categorical or has a clear peak."
   ]
  },
  {
   "cell_type": "markdown",
   "id": "dd3d7069",
   "metadata": {},
   "source": [
    "# 3] Measure the three measures of central tendency for the given height data:\n",
    "## [178,177,176,177,178.2,178,175,179,180,175,178.9,176.2,177,172.5,178,176.5]"
   ]
  },
  {
   "cell_type": "code",
   "execution_count": 1,
   "id": "8050dc03",
   "metadata": {},
   "outputs": [
    {
     "name": "stdout",
     "output_type": "stream",
     "text": [
      "177.01875\n",
      "177.0\n",
      "ModeResult(mode=array([177.]), count=array([3]))\n"
     ]
    },
    {
     "name": "stderr",
     "output_type": "stream",
     "text": [
      "C:\\Users\\suzal\\AppData\\Local\\Temp\\ipykernel_7068\\4015347240.py:6: FutureWarning: Unlike other reduction functions (e.g. `skew`, `kurtosis`), the default behavior of `mode` typically preserves the axis it acts along. In SciPy 1.11.0, this behavior will change: the default value of `keepdims` will become False, the `axis` over which the statistic is taken will be eliminated, and the value None will no longer be accepted. Set `keepdims` to True or False to avoid this warning.\n",
      "  print(st.mode(Q3data))\n"
     ]
    }
   ],
   "source": [
    "import numpy as np\n",
    "from scipy import stats as st\n",
    "Q3data=[178,177,176,177,178.2,178,175,179,180,175,178.9,176.2,177,172.5,178,176.5]\n",
    "print(np.mean(Q3data))\n",
    "print(np.median(Q3data))\n",
    "print(st.mode(Q3data))"
   ]
  },
  {
   "cell_type": "markdown",
   "id": "4d9a57e9",
   "metadata": {},
   "source": [
    "# 4] Find the standard deviation for the given data:\n",
    "## [178,177,176,177,178.2,178,175,179,180,175,178.9,176.2,177,172.5,178,176.5]"
   ]
  },
  {
   "cell_type": "code",
   "execution_count": 2,
   "id": "4f7012e8",
   "metadata": {},
   "outputs": [
    {
     "name": "stdout",
     "output_type": "stream",
     "text": [
      "1.7885814036548633\n"
     ]
    }
   ],
   "source": [
    "print(np.std(Q3data))"
   ]
  },
  {
   "cell_type": "markdown",
   "id": "77c83719",
   "metadata": {},
   "source": [
    "# 5] How are measures of dispersion such as range, variance, and standard deviation used to describe the spread of a dataset? Provide an example."
   ]
  },
  {
   "cell_type": "markdown",
   "id": "e2e40922",
   "metadata": {},
   "source": [
    "## 1) Range: \n",
    "### => The range is the simplest measure of dispersion, as it only considers the difference between the maximum and minimum values in the dataset. However, it is sensitive to outliers, and it does not provide a comprehensive view of the variability in the dataset.\n",
    "### => Consider a dataset of the daily temperature in a city over a month, where the range is from 10 to 30 degrees Celsius. This range alone does not provide information about how often the temperature was within certain ranges, and how the temperature varied from day to day.\n",
    "\n",
    "## 2) Variance & Standard deviation :\n",
    "### => The variance and the standard deviation, on the other hand, take into account how each value in the dataset differs from the mean. The variance is calculated by summing the squared differences between each value and the mean, then dividing by the number of values in the dataset. The standard deviation is the square root of the variance. The standard deviation is a more commonly used measure than variance because it has the same unit of measure as the original data, making it more interpretable. A smaller standard deviation indicates that the values are closely clustered around the mean, while a larger standard deviation indicates that the values are more widely spread out from the mean."
   ]
  },
  {
   "cell_type": "markdown",
   "id": "7449be34",
   "metadata": {},
   "source": [
    "# 6] What is a Venn diagram?"
   ]
  },
  {
   "cell_type": "markdown",
   "id": "bdc74e6b",
   "metadata": {},
   "source": [
    "### => A Venn diagram is a graphical representation of set theory that uses circles to show the relationships between sets. It was introduced by the English logician John Venn in the late 1800s as a way to visually illustrate set operations and relationships.\n",
    "\n",
    "### => In a Venn diagram, sets are represented as circles, and the circles may overlap to show how the sets are related to each other. The overlapping region represents the elements that are common to both sets. The non-overlapping parts of each circle represent the elements that are unique to each set."
   ]
  },
  {
   "cell_type": "markdown",
   "id": "329b910b",
   "metadata": {},
   "source": [
    "# 7] For the two given sets A = (2,3,4,5,6,7) & B = (0,2,6,8,10). Find:\n",
    "## 1) A B\n",
    "### => (2,6)\n",
    "## 2) A ⋃ B\n",
    "### => (0,2,3,4,5,6,7,8,10)  "
   ]
  },
  {
   "cell_type": "markdown",
   "id": "3afb0ecb",
   "metadata": {},
   "source": [
    "# 8] What do you understand about skewness in data?"
   ]
  },
  {
   "cell_type": "markdown",
   "id": "9eeefb47",
   "metadata": {},
   "source": [
    "### => Skewness is a measurement of the distortion of symmetrical distribution or asymmetry in a data set. Skewness is demonstrated on a bell curve when data points are not distributed symmetrically to the left and right sides of the median on a bell curve. If the bell curve is shifted to the left or the right, it is said to be skewed."
   ]
  },
  {
   "cell_type": "markdown",
   "id": "53e76b7c",
   "metadata": {},
   "source": [
    "# 9] If a data is right skewed then what will be the position of median with respect to mean?"
   ]
  },
  {
   "cell_type": "markdown",
   "id": "71fe8440",
   "metadata": {},
   "source": [
    "### => The position of median with is at left with respect to mean,if a data is right skewed."
   ]
  },
  {
   "cell_type": "markdown",
   "id": "356be8a4",
   "metadata": {},
   "source": [
    "# 10] Explain the difference between covariance and correlation. How are these measures used in statistical analysis?"
   ]
  },
  {
   "cell_type": "markdown",
   "id": "26675f3d",
   "metadata": {},
   "source": [
    "### => covariance has any real value,but correlation has value in interval [-1,1].\n",
    "### \n",
    "### => Both covariance and correlation are used in statistical analysis to investigate the relationship between variables. Covariance is useful for understanding the direction of the relationship between two variables and can be used to calculate other statistical measures, such as the slope of a regression line. Correlation is useful for measuring the strength and direction of a linear relationship between two variables and is commonly used to assess the relationship between variables in data visualization and predictive modeling."
   ]
  },
  {
   "cell_type": "markdown",
   "id": "23cd07c1",
   "metadata": {},
   "source": [
    "# 11] What is the formula for calculating the sample mean? Provide an example calculation for a dataset."
   ]
  },
  {
   "cell_type": "markdown",
   "id": "20a1272e",
   "metadata": {},
   "source": [
    "### => sample mean = Sum of all value presented in a sample / sample size"
   ]
  },
  {
   "cell_type": "code",
   "execution_count": 3,
   "id": "ffe4a1bc",
   "metadata": {},
   "outputs": [
    {
     "data": {
      "text/plain": [
       "3.0"
      ]
     },
     "execution_count": 3,
     "metadata": {},
     "output_type": "execute_result"
    }
   ],
   "source": [
    "Q11data=[1,2,3,4,5]\n",
    "sample_size=len(Q11data)\n",
    "Mean_Q11data=(1+2+3+4+5)/sample_size\n",
    "Mean_Q11data"
   ]
  },
  {
   "cell_type": "markdown",
   "id": "a4dc2438",
   "metadata": {},
   "source": [
    "# 12] For a normal distribution data what is the relationship between its measure of central tendency?\n"
   ]
  },
  {
   "cell_type": "markdown",
   "id": "5d9ad8ca",
   "metadata": {},
   "source": [
    "### => Mean = Median = Mode"
   ]
  },
  {
   "cell_type": "markdown",
   "id": "ad25f6d1",
   "metadata": {},
   "source": [
    "# 13] How is covariance different from correlation?"
   ]
  },
  {
   "cell_type": "markdown",
   "id": "07301d80",
   "metadata": {},
   "source": [
    "### => covariance has any real value,but correlation has value in interval [-1,1]."
   ]
  },
  {
   "cell_type": "markdown",
   "id": "7d78720c",
   "metadata": {},
   "source": [
    "# 14] How do outliers affect measures of central tendency and dispersion? Provide an example."
   ]
  },
  {
   "cell_type": "code",
   "execution_count": 6,
   "id": "92513c7a",
   "metadata": {},
   "outputs": [
    {
     "name": "stdout",
     "output_type": "stream",
     "text": [
      "98.125\n",
      "40.0\n",
      "ModeResult(mode=array([40]), count=array([3]))\n",
      "\n",
      "\n",
      "173.0956653847808\n",
      "29962.109375\n"
     ]
    },
    {
     "name": "stderr",
     "output_type": "stream",
     "text": [
      "C:\\Users\\suzal\\AppData\\Local\\Temp\\ipykernel_7068\\1001711263.py:6: FutureWarning: Unlike other reduction functions (e.g. `skew`, `kurtosis`), the default behavior of `mode` typically preserves the axis it acts along. In SciPy 1.11.0, this behavior will change: the default value of `keepdims` will become False, the `axis` over which the statistic is taken will be eliminated, and the value None will no longer be accepted. Set `keepdims` to True or False to avoid this warning.\n",
      "  print(st.mode(Q12data))\n"
     ]
    }
   ],
   "source": [
    "Q12data=[10,40,40,20,30,40,50,555]\n",
    "\n",
    "# with outliers\n",
    "print(np.mean(Q12data))\n",
    "print(np.median(Q12data))\n",
    "print(st.mode(Q12data))\n",
    "print(\"\\n\")\n",
    "print(np.std(Q12data))\n",
    "print(np.var(Q12data))\n",
    "\n",
    "\n"
   ]
  },
  {
   "cell_type": "code",
   "execution_count": 7,
   "id": "302cd39a",
   "metadata": {},
   "outputs": [
    {
     "name": "stdout",
     "output_type": "stream",
     "text": [
      "32.857142857142854\n",
      "40.0\n",
      "ModeResult(mode=array([40]), count=array([3]))\n",
      "\n",
      "\n",
      "12.777531299998797\n",
      "163.26530612244895\n"
     ]
    },
    {
     "name": "stderr",
     "output_type": "stream",
     "text": [
      "C:\\Users\\suzal\\AppData\\Local\\Temp\\ipykernel_7068\\783297096.py:6: FutureWarning: Unlike other reduction functions (e.g. `skew`, `kurtosis`), the default behavior of `mode` typically preserves the axis it acts along. In SciPy 1.11.0, this behavior will change: the default value of `keepdims` will become False, the `axis` over which the statistic is taken will be eliminated, and the value None will no longer be accepted. Set `keepdims` to True or False to avoid this warning.\n",
      "  print(st.mode(Q12data_1))\n"
     ]
    }
   ],
   "source": [
    "Q12data_1=[10,40,40,20,30,40,50]\n",
    "\n",
    "# with outliers\n",
    "print(np.mean(Q12data_1))\n",
    "print(np.median(Q12data_1))\n",
    "print(st.mode(Q12data_1))\n",
    "print(\"\\n\")\n",
    "print(np.std(Q12data_1))\n",
    "print(np.var(Q12data_1))"
   ]
  }
 ],
 "metadata": {
  "kernelspec": {
   "display_name": "Python 3 (ipykernel)",
   "language": "python",
   "name": "python3"
  },
  "language_info": {
   "codemirror_mode": {
    "name": "ipython",
    "version": 3
   },
   "file_extension": ".py",
   "mimetype": "text/x-python",
   "name": "python",
   "nbconvert_exporter": "python",
   "pygments_lexer": "ipython3",
   "version": "3.9.13"
  }
 },
 "nbformat": 4,
 "nbformat_minor": 5
}
