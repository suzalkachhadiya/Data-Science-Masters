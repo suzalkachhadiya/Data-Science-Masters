{
 "cells": [
  {
   "cell_type": "markdown",
   "id": "602f0336",
   "metadata": {},
   "source": [
    "# 1] What is Statistics?"
   ]
  },
  {
   "cell_type": "markdown",
   "id": "2d89a414",
   "metadata": {},
   "source": [
    "### => statistics is the science of collecting,organizing and analysing the data."
   ]
  },
  {
   "cell_type": "markdown",
   "id": "12a5f8be",
   "metadata": {},
   "source": [
    "# 2] Define the different types of statistics and give an example of when each type might be used."
   ]
  },
  {
   "cell_type": "markdown",
   "id": "fdca57c6",
   "metadata": {},
   "source": [
    "## 1) descriptive stats\n",
    "### => What is the average package of the IIT Delhi."
   ]
  },
  {
   "cell_type": "markdown",
   "id": "a9d66cb6",
   "metadata": {},
   "source": [
    "## 2) inferential stats\n",
    "### => Are the average package of IIT Madras is similar to  what you expect in the all IITs.  "
   ]
  },
  {
   "cell_type": "markdown",
   "id": "04f9dcc0",
   "metadata": {},
   "source": [
    "# 3] What are the different types of data and how do they differ from each other? Provide an example of each type of data."
   ]
  },
  {
   "cell_type": "markdown",
   "id": "7fe28e8d",
   "metadata": {},
   "source": [
    "# 1) Quntitative\n",
    "## 1} discrete\n",
    "### => No. of kites bought by a person for uttrayan. \n",
    "## 2} continuous\n",
    "### => Time taken in 100 meter race competition by participants. "
   ]
  },
  {
   "cell_type": "markdown",
   "id": "a005bedd",
   "metadata": {},
   "source": [
    "# 1) Qualitative\n",
    "## 1} nominal\n",
    "### => Types of houses in your society\n",
    "## 2} ordinal\n",
    "### => Educational background"
   ]
  },
  {
   "cell_type": "markdown",
   "id": "fc1ccdcc",
   "metadata": {},
   "source": [
    "# 4] Categorise the following datasets with respect to quantitative and qualitative data types:"
   ]
  },
  {
   "cell_type": "markdown",
   "id": "7abfd5eb",
   "metadata": {},
   "source": [
    "# 1) Grading in exam: A+, A, B+, B, C+, C, D, E\n",
    "### => Qualitative"
   ]
  },
  {
   "cell_type": "markdown",
   "id": "2ea6f24b",
   "metadata": {},
   "source": [
    "# 2) Colour of mangoes: yellow, green, orange, red\n",
    "### => Qualitative "
   ]
  },
  {
   "cell_type": "markdown",
   "id": "b7d1d486",
   "metadata": {},
   "source": [
    "# 3) Height data of a class: [178.9, 179, 179.5, 176, 177.2, 178.3, 175.8,...]\n",
    "### => Quantitative"
   ]
  },
  {
   "cell_type": "markdown",
   "id": "fb325214",
   "metadata": {},
   "source": [
    "# 4) Number of mangoes exported by a farm: [500, 600, 478, 672, ...]\n",
    "### => Quantitative"
   ]
  },
  {
   "cell_type": "markdown",
   "id": "a45e6d03",
   "metadata": {},
   "source": [
    "# 5] Explain the concept of levels of measurement and give an example of a variable for each level."
   ]
  },
  {
   "cell_type": "markdown",
   "id": "9b2c0e6d",
   "metadata": {},
   "source": [
    "## 1) Nominal scale data\n",
    "### => religion\n",
    "## 2) Ordinal scale data\n",
    "### => income level (“less than 50K”, “50K-100K”, “over 100K”)\n",
    "## 3) Interval scale data\n",
    "### => credit score (300-850)\n",
    "## 4) Ratio scale data\n",
    "### => Kelvin scale"
   ]
  },
  {
   "cell_type": "markdown",
   "id": "51d24a79",
   "metadata": {},
   "source": [
    "# 6] Why is it important to understand the level of measurement when analyzing data? Provide an example to illustrate your answer."
   ]
  },
  {
   "cell_type": "markdown",
   "id": "b994c69b",
   "metadata": {},
   "source": [
    "### => It is essential to understand the level of measurement when analyzing data because different levels of measurement have different properties and appropriate statistical techniques. The level of measurement refers to the scale or nature of the data that is being collected, and it determines the type of statistical analysis that can be used.\n",
    "### \n",
    "### => For example, suppose a company collects data on the satisfaction level of their customers by asking them to rate their experience as \"Very satisfied,\" \"Satisfied,\" \"Neutral,\" \"Dissatisfied,\" or \"Very dissatisfied.\" In this case, the data are nominal because the categories cannot be ranked. If the company asks customers to rate their experience on a scale from 1 to 5, where 1 is \"Very dissatisfied\" and 5 is \"Very satisfied,\" the data are ordinal because the difference between the rating of 1 and 2 may not be the same as the difference between 4 and 5. If the company asks customers to rate their experience on a scale from 0 to 100, the data are interval because the difference between 10 and 20 is the same as the difference between 70 and 80, but there is no true zero point. Finally, if the company asks customers to rate the percentage of their satisfaction, the data are ratio because there is a true zero point, and the difference between 50% and 60% is the same as the difference between 90% and 100%\n"
   ]
  },
  {
   "cell_type": "markdown",
   "id": "b4628df2",
   "metadata": {},
   "source": [
    "# 7] How nominal data type is different from ordinal data type."
   ]
  },
  {
   "cell_type": "markdown",
   "id": "1e549a68",
   "metadata": {},
   "source": [
    "### => in Nominal data the order and ranking doesn not matter,while in the ordinal data ranking and order matters."
   ]
  },
  {
   "cell_type": "markdown",
   "id": "fa0f0ef9",
   "metadata": {},
   "source": [
    "# 8] Which type of plot can be used to display data in terms of range?"
   ]
  },
  {
   "cell_type": "markdown",
   "id": "9241e205",
   "metadata": {},
   "source": [
    "### => Histogram"
   ]
  },
  {
   "cell_type": "markdown",
   "id": "b06667df",
   "metadata": {},
   "source": [
    "# 9] Describe the difference between descriptive and inferential statistics. Give an example of each type of statistics and explain how they are used."
   ]
  },
  {
   "cell_type": "markdown",
   "id": "818022cd",
   "metadata": {},
   "source": [
    "### => Descriptive Statistics gives information about raw data regarding its description or features. Inferential statistics, on the other hand, draw inferences about the population by using data extracted from the population.\n",
    "### => As for descriptive statistics, it helps to organize, analyze and present data in a meaningful manner. Inferential statistics helps to compare data, make hypotheses and predictions.\n",
    "### => We use charts, graphs, and tables to represent descriptive statistics, while we use probability methods for inferential statistics."
   ]
  },
  {
   "cell_type": "markdown",
   "id": "ba591314",
   "metadata": {},
   "source": [
    "# 10] What are some common measures of central tendency and variability used in statistics? Explain how each measure can be used to describe a dataset."
   ]
  },
  {
   "cell_type": "markdown",
   "id": "bfdaa8ba",
   "metadata": {},
   "source": [
    "## central tendency\n",
    "## 1) Mean: \n",
    "### => The mean is the average value of a dataset, calculated by adding up all the values and dividing by the total number of values. The mean is a useful measure of central tendency when the data is normally distributed and has no extreme outliers.\n",
    "\n",
    "## 2) Median: \n",
    "### => The median is the middle value of a dataset when the values are arranged in order. If there is an even number of values, the median is calculated by taking the average of the two middle values. The median is a useful measure of central tendency when the data has outliers or is skewed.\n",
    "\n",
    "## 3) Mode: \n",
    "### => The mode is the value that occurs most frequently in a dataset. The mode is a useful measure of central tendency when the data is categorical or has a clear peak. \n",
    "# \n",
    "## Variability\n",
    "## 1) Variance: \n",
    "### => The variance is a measure of how much the values in a dataset vary from the mean. It is calculated by taking the average of the squared differences between each value and the mean. The variance is a useful measure of variability when the data is normally distributed.\n",
    "\n",
    "## 2) Standard deviation:\n",
    "### => The standard deviation is the square root of the variance. It is a commonly used measure of variability that gives an idea of how much the values in a dataset are spread out from the mean. The standard deviation is a useful measure of variability when the data is normally distributed."
   ]
  },
  {
   "cell_type": "code",
   "execution_count": null,
   "id": "0a406c47",
   "metadata": {},
   "outputs": [],
   "source": []
  }
 ],
 "metadata": {
  "kernelspec": {
   "display_name": "Python 3 (ipykernel)",
   "language": "python",
   "name": "python3"
  },
  "language_info": {
   "codemirror_mode": {
    "name": "ipython",
    "version": 3
   },
   "file_extension": ".py",
   "mimetype": "text/x-python",
   "name": "python",
   "nbconvert_exporter": "python",
   "pygments_lexer": "ipython3",
   "version": "3.9.13"
  }
 },
 "nbformat": 4,
 "nbformat_minor": 5
}
