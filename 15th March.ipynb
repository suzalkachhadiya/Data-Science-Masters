{
 "cells": [
  {
   "cell_type": "markdown",
   "id": "e37a7af6",
   "metadata": {},
   "source": [
    "# 1] Explain the following with an example:\n",
    "## 1) Artificial Intelligence\n",
    "### => Smart application that can perform its own task without any human intervention.\n",
    "### => Google Maps and Ride-Hailing Applications.\n",
    "## 2) Machine Learning\n",
    "### => Machine learning is a branch of artificial intelligence (AI) and computer science which focuses on the use of data and algorithms to imitate the way that humans learn, gradually improving its accuracy.\n",
    "### => It provides statstools to learn, analyze, visualize and devlop a predictive models from the data.\n",
    "### => Google Translation\n",
    "## 3) Deep Learning\n",
    "### => Deep learning is a machine learning technique that teaches computers to do what comes naturally to humans.\n",
    "### => Aerospace and Defense: Deep learning is used to identify objects from satellites that locate areas of interest, and identify safe or unsafe zones for troops."
   ]
  },
  {
   "cell_type": "markdown",
   "id": "a8e994ad",
   "metadata": {},
   "source": [
    "# 2] What is supervised learning? List some examples of supervised learning."
   ]
  },
  {
   "cell_type": "markdown",
   "id": "5cb01b8f",
   "metadata": {},
   "source": [
    "### => Supervised machine learning is a type of machine learning where the model is trained on labeled data, which means that the input data is associated with a known output. The goal of supervised learning is to learn a function that maps inputs to outputs based on this labeled training data, so that when presented with new, unseen data, the model can accurately predict the corresponding output.\n",
    "### \n",
    "## 1) Spam filtering: \n",
    "### => Given a set of labeled emails, the model is trained to classify new emails as either spam or not spam based on their content.\n",
    "## 2) Credit scoring: \n",
    "### => Given a set of labeled data about customers and their credit history, the model is trained to predict the creditworthiness of new customers.\n",
    "## 3) Predictive maintenance: \n",
    "### => Given a set of labeled data about machinery and their performance over time, the model is trained to predict when maintenance will be needed for new machinery"
   ]
  },
  {
   "cell_type": "markdown",
   "id": "f5c24ba2",
   "metadata": {},
   "source": [
    "# 3] What is unsupervised learning? List some examples of unsupervised learning."
   ]
  },
  {
   "cell_type": "markdown",
   "id": "3f85d397",
   "metadata": {},
   "source": [
    "### => Unsupervised machine learning is a type of machine learning where the model is trained on unlabeled data, which means that the input data is not associated with any known output. The goal of unsupervised learning is to find patterns and relationships in the data, without any specific preconceptions of what those patterns might be.\n",
    "### \n",
    "## 1) Clustering: \n",
    "### => Given a set of unlabeled data points, the model is trained to group them into clusters based on similarities in their features.\n",
    "\n",
    "## 2) Anomaly detection: \n",
    "### => Given a set of data, the model is trained to identify any data points that are significantly different from the rest of the data.\n",
    "## 3) Topic modeling: \n",
    "### => Given a set of documents or text data, the model is trained to identify topics and subtopics within the text."
   ]
  },
  {
   "cell_type": "markdown",
   "id": "50d61084",
   "metadata": {},
   "source": [
    "# 4] What is the difference between AI, ML, DL, and DS?"
   ]
  },
  {
   "cell_type": "markdown",
   "id": "0420319b",
   "metadata": {},
   "source": [
    "## 1) Artificial Intelligence (AI):\n",
    "### => AI refers to the development of intelligent machines that can perform tasks that typically require human intelligence, such as visual perception, speech recognition, decision-making, and natural language processing.\n",
    "\n",
    "## 2) Machine Learning (ML):\n",
    "### => ML is a subset of AI that focuses on building algorithms that can learn patterns from data and make predictions or decisions based on that data. ML algorithms are typically trained on large amounts of labeled data and can be supervised or unsupervised.\n",
    "\n",
    "## 3) Deep Learning (DL): \n",
    "### => DL is a subset of ML that involves training artificial neural networks with many layers to recognize patterns in data. DL algorithms are capable of automatically learning features from data, which makes them particularly useful for tasks like image recognition, speech recognition, and natural language processing.\n",
    "\n",
    "## 4) Data Science (DS): \n",
    "### => DS is a field that involves the extraction of knowledge or insights from data using various techniques, including statistical analysis, machine learning, and data visualization. Data scientists use these techniques to explore data, build predictive models, and make data-driven decisions.\n",
    "### \n",
    "### => In summary, AI is the broad field of developing intelligent machines, ML is a subset of AI that focuses on learning patterns from data, DL is a subset of ML that involves training neural networks with many layers, and DS is a field that uses various techniques to extract insights from data"
   ]
  },
  {
   "cell_type": "markdown",
   "id": "698376a8",
   "metadata": {},
   "source": [
    "# 5] What are the main differences between supervised, unsupervised, and semi-supervised learning?"
   ]
  },
  {
   "cell_type": "markdown",
   "id": "bdb15b29",
   "metadata": {},
   "source": [
    "### => Supervised learning involves training a model on labeled data, where the input data is associated with known output labels. The goal is to predict the output labels for new, unseen input data. In contrast, unsupervised learning involves training a model on unlabeled data, where the goal is to find patterns and structure in the data without any known output labels. Semi-supervised learning is a combination of the two, where a model is trained on a small amount of labeled data and a large amount of unlabeled data. The model then uses the information from the labeled data to guide its learning on the unlabeled data.\n",
    "\n",
    "### => In supervised learning, the model is given feedback on its predictions through the labeled data, which allows it to adjust its parameters and improve its accuracy over time. In unsupervised learning, there is no feedback on the model's predictions, so the model must rely on its own internal measures of similarity or structure to learn from the data. In semi-supervised learning, the model receives feedback on its predictions for the labeled data, but must rely on its own internal measures of similarity for the unlabeled data.\n",
    "\n",
    "### => Supervised learning is typically used for tasks where there is a clear target variable to predict, such as classification or regression. Unsupervised learning is used for tasks such as clustering or dimensionality reduction, where the goal is to find structure or patterns in the data. Semi-supervised learning is used in situations where labeled data is scarce, but the model can still benefit from the guidance provided by the labeled data."
   ]
  },
  {
   "cell_type": "markdown",
   "id": "45192ce3",
   "metadata": {},
   "source": [
    "# 6] What is train, test and validation split? Explain the importance of each term."
   ]
  },
  {
   "cell_type": "markdown",
   "id": "ec78d7b1",
   "metadata": {},
   "source": [
    "## 1) Train set:\n",
    "### => It is the portion of the dataset that is used to train the model. The model learns from the patterns in the train set and updates its parameters to minimize the error on the train set.\n",
    "\n",
    "## 2) Validation set:\n",
    "### => It is the portion of the dataset that is used to fine-tune the model after training. We use the validation set to evaluate the performance of the model on unseen data and adjust the hyperparameters of the model to improve its accuracy. We can also use it to choose between different models to select the one that performs best on the validation set.\n",
    "\n",
    "## 3)Test set: \n",
    "### => It is the portion of the dataset that is used to evaluate the final performance of the model. We use the test set only once, after the model has been trained and fine-tuned on the validation set. The test set provides an unbiased estimate of the model's accuracy on unseen data."
   ]
  },
  {
   "cell_type": "markdown",
   "id": "7f45b1ca",
   "metadata": {},
   "source": [
    "## Importance\n",
    "## 1) Train set: \n",
    "### => It is important to have a sufficiently large and diverse train set to ensure that the model learns generalizable patterns from the data. If the train set is too small or biased, the model may overfit to the train set, leading to poor performance on unseen data.\n",
    "\n",
    "## 2) Validation set: \n",
    "### => It is important to have a validation set to fine-tune the model and select the best hyperparameters. If we do not use a validation set, we may end up overfitting to the train set and selecting hyperparameters that do not generalize well to unseen data.\n",
    "\n",
    "## 3) Test set: \n",
    "### => It is important to have a test set to evaluate the final performance of the model and ensure that it can generalize well to unseen data. If we do not use a test set and evaluate the model only on the train or validation set, we may overestimate its performance and end up with a model that performs poorly on new data."
   ]
  },
  {
   "cell_type": "markdown",
   "id": "e3f072be",
   "metadata": {},
   "source": [
    "# 7] How can unsupervised learning be used in anomaly detection?"
   ]
  },
  {
   "cell_type": "markdown",
   "id": "82325613",
   "metadata": {},
   "source": [
    "## 1) Clustering: \n",
    "### => Clustering algorithms group similar data points together based on their similarity or distance from each other. Anomalies are the data points that do not fit into any cluster or are too far from the other data points. This approach is particularly useful for detecting outliers in high-dimensional data, where it is difficult to define normal behavior.\n",
    "\n",
    "## 2) Dimensionality reduction: \n",
    "### => Dimensionality reduction techniques like Principal Component Analysis (PCA) or Autoencoders can be used to reduce the dimensionality of the data while preserving the most important features. Anomalies can then be detected by comparing the reconstruction error of the reduced data with the original data. If the reconstruction error is too high for a particular data point, it is likely an anomaly.\n",
    "\n",
    "## 3) Density-based methods: \n",
    "### => Density-based methods, such as Local Outlier Factor (LOF) or Isolation Forest, identify anomalies as data points with low density or isolated from the majority of the data points. These methods are particularly useful for detecting anomalies in data with non-uniform distributions or where the anomalies form small clusters."
   ]
  },
  {
   "cell_type": "markdown",
   "id": "163e4209",
   "metadata": {},
   "source": [
    "# 8] List down some commonly used supervised learnineg algorithms and unsupervised learning algorithms."
   ]
  },
  {
   "cell_type": "markdown",
   "id": "230b8c58",
   "metadata": {},
   "source": [
    "## Supervised Learning Algorithms:\n",
    "\n",
    "## 1) Linear Regression\n",
    "## 2) Logistic Regression\n",
    "## 3) Decision Trees\n",
    "## 4) Random Forest\n",
    "## 5) Naive Bayes\n",
    "## 6) k-Nearest Neighbors (k-NN)\n",
    "## 7) Support Vector Machines (SVM)\n",
    "## 8) Neural Networks\n",
    "## 9) Gradient Boosting"
   ]
  },
  {
   "cell_type": "markdown",
   "id": "8f59e6df",
   "metadata": {},
   "source": [
    "## Unsupervised Learning Algorithms:\n",
    "\n",
    "## 1) K-Means Clustering\n",
    "## 2) Hierarchical Clustering\n",
    "## 3) Principal Component Analysis (PCA)\n",
    "## 4) t-SNE (t-Distributed Stochastic Neighbor Embedding)\n",
    "## 5) Autoencoders\n",
    "## 6) Isolation Forest\n",
    "## 7) Local Outlier Factor (LOF)\n",
    "## 8) DBSCAN (Density-Based Spatial Clustering of Applications with Noise)\n",
    "## 9) Anomaly Detection Algorithms"
   ]
  }
 ],
 "metadata": {
  "kernelspec": {
   "display_name": "Python 3 (ipykernel)",
   "language": "python",
   "name": "python3"
  },
  "language_info": {
   "codemirror_mode": {
    "name": "ipython",
    "version": 3
   },
   "file_extension": ".py",
   "mimetype": "text/x-python",
   "name": "python",
   "nbconvert_exporter": "python",
   "pygments_lexer": "ipython3",
   "version": "3.9.13"
  }
 },
 "nbformat": 4,
 "nbformat_minor": 5
}
