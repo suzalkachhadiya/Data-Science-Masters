{
 "cells": [
  {
   "cell_type": "markdown",
   "id": "aaccd09a",
   "metadata": {},
   "source": [
    "# 1] Create a vehicle class with an init method having instance variables as name_of_vehicle, max_speed and average_of_vehicle."
   ]
  },
  {
   "cell_type": "code",
   "execution_count": 1,
   "id": "af056d4a",
   "metadata": {},
   "outputs": [],
   "source": [
    "class vehicle:\n",
    "    def __init__(self,name_of_vehicle,max_speed,average_of_vehicle):\n",
    "        self.name_of_vehicle=name_of_vehicle\n",
    "        self.max_speed=max_speed\n",
    "        self.average_of_vehicle=average_of_vehicle"
   ]
  },
  {
   "cell_type": "markdown",
   "id": "ff26af34",
   "metadata": {},
   "source": [
    "# 2] Create a child class car from the vehicle class created in Que 1, which will inherit the vehicle class. Create a method named seating_capacity which takes capacity as an argument and returns the name of the vehicle and its seating capacity."
   ]
  },
  {
   "cell_type": "code",
   "execution_count": 2,
   "id": "41308daf",
   "metadata": {},
   "outputs": [],
   "source": [
    "class car(vehicle):\n",
    "    def seating_capacity(self,capacity):\n",
    "        self.capacity=capacity\n",
    "        return capacity,self.name_of_vehicle"
   ]
  },
  {
   "cell_type": "code",
   "execution_count": 3,
   "id": "1adac7e3",
   "metadata": {},
   "outputs": [
    {
     "data": {
      "text/plain": [
       "(2, 'mustang')"
      ]
     },
     "execution_count": 3,
     "metadata": {},
     "output_type": "execute_result"
    }
   ],
   "source": [
    "car1=car(\"mustang\",300,7)\n",
    "car1.seating_capacity(2)"
   ]
  },
  {
   "cell_type": "markdown",
   "id": "423bcd3c",
   "metadata": {},
   "source": [
    "# 3] What is multiple inheritance? Write a python code to demonstrate multiple inheritance.\n",
    "### => When a class is derived from more than one base class it is called multiple Inheritance. The derived class inherits all the features of the base case."
   ]
  },
  {
   "cell_type": "code",
   "execution_count": 4,
   "id": "89fc6836",
   "metadata": {},
   "outputs": [
    {
     "name": "stdout",
     "output_type": "stream",
     "text": [
      "Mammals can give direct birth.\n",
      "Winged animals can flap.\n"
     ]
    }
   ],
   "source": [
    "class Mammal:\n",
    "    def mammal_info(self):\n",
    "        print(\"Mammals can give direct birth.\")\n",
    "\n",
    "class WingedAnimal:\n",
    "    def winged_animal_info(self):\n",
    "        print(\"Winged animals can flap.\")\n",
    "\n",
    "class Bat(Mammal, WingedAnimal):\n",
    "    pass\n",
    "\n",
    "b1 = Bat()\n",
    "\n",
    "b1.mammal_info()\n",
    "b1.winged_animal_info()"
   ]
  },
  {
   "cell_type": "markdown",
   "id": "df1999b2",
   "metadata": {},
   "source": [
    "# 4] What are getter and setter in python? Create a class and create a getter and a setter method in this class."
   ]
  },
  {
   "cell_type": "markdown",
   "id": "d41653b7",
   "metadata": {},
   "source": [
    "### => In Python, getters and setters are not the same as those in other object-oriented programming languages. Basically, the main purpose of using getters and setters in object-oriented programs is to ensure data encapsulation. Private variables in python are not actually hidden fields like in other object oriented languages. Getters and Setters in python are often used when:\n",
    "###      ->We use getters & setters to add validation logic around getting and setting a value.\n",
    "###      ->To avoid direct access of a class field i.e. private variables cannot be accessed directly or modified by external user."
   ]
  },
  {
   "cell_type": "code",
   "execution_count": 5,
   "id": "ff3829c2",
   "metadata": {},
   "outputs": [],
   "source": [
    "class AgeDetails:\n",
    "\tdef __init__(self, age = 0):\n",
    "\t\tself._age = age\n",
    "\t\n",
    "\t# getter method\n",
    "\tdef get_age(self):\n",
    "\t\treturn self._age\n",
    "\t\n",
    "\t# setter method\n",
    "\tdef set_age(self, x):\n",
    "\t\tself._age = x\n"
   ]
  },
  {
   "cell_type": "code",
   "execution_count": 6,
   "id": "d1cef683",
   "metadata": {},
   "outputs": [
    {
     "name": "stdout",
     "output_type": "stream",
     "text": [
      "0\n",
      "21\n",
      "21\n"
     ]
    }
   ],
   "source": [
    "raj = AgeDetails()\n",
    "print(raj.get_age())\n",
    "raj.set_age(21)\n",
    "print(raj.get_age())\n",
    "print(raj._age)"
   ]
  },
  {
   "cell_type": "markdown",
   "id": "6e3ecc99",
   "metadata": {},
   "source": [
    "# 5] What is method overriding in python? Write a python code to demonstrate method overriding.\n",
    "### => Method overriding is an ability of any object-oriented programming language that allows a subclass or child class to provide a specific implementation of a method that is already provided by one of its super-classes or parent classes. \n",
    "### => When a method in a subclass has the same name, same parameters or signature and same return type(or sub-type) as a method in its super-class, then the method in the subclass is said to override the method in the super-class."
   ]
  },
  {
   "cell_type": "code",
   "execution_count": 7,
   "id": "3315783d",
   "metadata": {},
   "outputs": [],
   "source": [
    "class Parent():\n",
    "\tdef show(self):\n",
    "\t\tprint(\"Inside Parent\")\n",
    "\t\t\n",
    "class Child(Parent):\n",
    "\tdef show(self):\n",
    "\t\tParent.show(self)\n",
    "\t\tprint(\"Inside Child\")"
   ]
  },
  {
   "cell_type": "code",
   "execution_count": 8,
   "id": "4da945d1",
   "metadata": {},
   "outputs": [
    {
     "name": "stdout",
     "output_type": "stream",
     "text": [
      "Inside Parent\n",
      "Inside Child\n"
     ]
    }
   ],
   "source": [
    "obj = Child()\n",
    "obj.show()\n"
   ]
  }
 ],
 "metadata": {
  "kernelspec": {
   "display_name": "Python 3 (ipykernel)",
   "language": "python",
   "name": "python3"
  },
  "language_info": {
   "codemirror_mode": {
    "name": "ipython",
    "version": 3
   },
   "file_extension": ".py",
   "mimetype": "text/x-python",
   "name": "python",
   "nbconvert_exporter": "python",
   "pygments_lexer": "ipython3",
   "version": "3.9.13"
  }
 },
 "nbformat": 4,
 "nbformat_minor": 5
}
