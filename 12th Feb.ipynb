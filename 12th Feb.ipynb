{
 "cells": [
  {
   "cell_type": "markdown",
   "id": "0aebcbca",
   "metadata": {},
   "source": [
    "# 1] What is an exception in python? Write the difference between Exceptions and syntax error."
   ]
  },
  {
   "cell_type": "markdown",
   "id": "12a89745",
   "metadata": {},
   "source": [
    "### => An exception is an event, which occurs during the execution of a program that disrupts the normal flow of the program's instructions. In general, when a Python script encounters a situation that it cannot cope with, it raises an exception. An exception is a Python object that represents an error."
   ]
  },
  {
   "cell_type": "markdown",
   "id": "d0252ce6",
   "metadata": {},
   "source": [
    "### => Errors cannot be handled, while Python exceptions can be handled at the run time. An error can be a syntax (parsing) error, while there can be many types of exceptions that could occur during the execution and are not unconditionally inoperable."
   ]
  },
  {
   "cell_type": "markdown",
   "id": "56dbf930",
   "metadata": {},
   "source": [
    "# 2] What happens when an exception is not handled? Explain with an example."
   ]
  },
  {
   "cell_type": "markdown",
   "id": "478b2d54",
   "metadata": {},
   "source": [
    "### => If the exception is not handled by an except clause, the exception is re-raised after the finally clause has been executed."
   ]
  },
  {
   "cell_type": "code",
   "execution_count": 1,
   "id": "b83e6abf",
   "metadata": {},
   "outputs": [
    {
     "ename": "ZeroDivisionError",
     "evalue": "division by zero",
     "output_type": "error",
     "traceback": [
      "\u001b[1;31m---------------------------------------------------------------------------\u001b[0m",
      "\u001b[1;31mZeroDivisionError\u001b[0m                         Traceback (most recent call last)",
      "\u001b[1;32m~\\AppData\\Local\\Temp\\ipykernel_13168\\4018556930.py\u001b[0m in \u001b[0;36m<module>\u001b[1;34m\u001b[0m\n\u001b[0;32m      1\u001b[0m \u001b[0mx\u001b[0m\u001b[1;33m=\u001b[0m\u001b[1;36m29\u001b[0m\u001b[1;33m\u001b[0m\u001b[1;33m\u001b[0m\u001b[0m\n\u001b[1;32m----> 2\u001b[1;33m \u001b[0mx\u001b[0m \u001b[1;33m/\u001b[0m \u001b[1;36m0\u001b[0m\u001b[1;33m\u001b[0m\u001b[1;33m\u001b[0m\u001b[0m\n\u001b[0m\u001b[0;32m      3\u001b[0m \u001b[0mprint\u001b[0m\u001b[1;33m(\u001b[0m\u001b[1;34m\"here exception is not handled\"\u001b[0m\u001b[1;33m)\u001b[0m\u001b[1;33m\u001b[0m\u001b[1;33m\u001b[0m\u001b[0m\n",
      "\u001b[1;31mZeroDivisionError\u001b[0m: division by zero"
     ]
    }
   ],
   "source": [
    "x=29\n",
    "x / 0\n",
    "print(\"here exception is not handled\")\n"
   ]
  },
  {
   "cell_type": "code",
   "execution_count": 6,
   "id": "00b37355",
   "metadata": {},
   "outputs": [],
   "source": [
    "def divide(x, y):\n",
    "    try:\n",
    "        result = x / y\n",
    "    except ZeroDivisionError:\n",
    "        print(\"division by zero!\")\n",
    "    print(\"here exception is handled\")"
   ]
  },
  {
   "cell_type": "code",
   "execution_count": 7,
   "id": "fb1151b9",
   "metadata": {},
   "outputs": [
    {
     "name": "stdout",
     "output_type": "stream",
     "text": [
      "division by zero!\n",
      "here exception is handled\n"
     ]
    }
   ],
   "source": [
    "divide(3,0)"
   ]
  },
  {
   "cell_type": "markdown",
   "id": "5d790d9b",
   "metadata": {},
   "source": [
    "# 3] Which python statements are used to catch and handled exceptions? Explain with an example."
   ]
  },
  {
   "cell_type": "markdown",
   "id": "528db8db",
   "metadata": {},
   "source": [
    "# 4] Explain with an example:"
   ]
  },
  {
   "cell_type": "markdown",
   "id": "830e1d14",
   "metadata": {},
   "source": [
    "## 1) try"
   ]
  },
  {
   "cell_type": "markdown",
   "id": "6a824def",
   "metadata": {},
   "source": [
    "### => The try block lets you test a block of code for errors."
   ]
  },
  {
   "cell_type": "code",
   "execution_count": 3,
   "id": "f2783bf0",
   "metadata": {},
   "outputs": [
    {
     "name": "stdout",
     "output_type": "stream",
     "text": [
      "There is an error: name 'x' is not defined\n"
     ]
    }
   ],
   "source": [
    "try:\n",
    "    print(x)\n",
    "except Exception as e:\n",
    "    print(\"There is an error:\",e)"
   ]
  },
  {
   "cell_type": "markdown",
   "id": "1e2d1b99",
   "metadata": {},
   "source": [
    "## 2) finally"
   ]
  },
  {
   "cell_type": "markdown",
   "id": "aa54b3ba",
   "metadata": {},
   "source": [
    "### => It defines a block of code to run when the try... except...else block is final. The finally block will be executed no matter if the try block raises an error or not. This can be useful to close objects and clean up resources."
   ]
  },
  {
   "cell_type": "code",
   "execution_count": 7,
   "id": "0cb363d6",
   "metadata": {},
   "outputs": [
    {
     "name": "stdout",
     "output_type": "stream",
     "text": [
      "Something went wrong\n",
      "The try...except block is finished\n"
     ]
    }
   ],
   "source": [
    "# x=int(input(x))\n",
    "try:\n",
    "    x>0\n",
    "except:\n",
    "    print(\"Something went wrong\")\n",
    "else:\n",
    "    print(\"Nothing went wrong\")\n",
    "finally:\n",
    "    print(\"The try...except block is finished\")"
   ]
  },
  {
   "cell_type": "code",
   "execution_count": 11,
   "id": "296c8620",
   "metadata": {},
   "outputs": [
    {
     "name": "stdout",
     "output_type": "stream",
     "text": [
      "Nothing went wrong\n",
      "The try...except block is finished\n"
     ]
    }
   ],
   "source": [
    "# x=int(input(x))\n",
    "x=5\n",
    "try:\n",
    "    x>0\n",
    "except:\n",
    "    print(\"Something went wrong\")\n",
    "else:\n",
    "    print(\"Nothing went wrong\")\n",
    "finally:\n",
    "    print(\"The try...except block is finished\")"
   ]
  },
  {
   "cell_type": "markdown",
   "id": "e04c4481",
   "metadata": {},
   "source": [
    "## 3) raise"
   ]
  },
  {
   "cell_type": "markdown",
   "id": "d7944166",
   "metadata": {},
   "source": [
    "### => The raise keyword is used to raise an exception. You can define what kind of error to raise, and the text to print to the user."
   ]
  },
  {
   "cell_type": "code",
   "execution_count": 4,
   "id": "a95edea0",
   "metadata": {},
   "outputs": [
    {
     "ename": "Exception",
     "evalue": "The number shouldn't be an odd integer",
     "output_type": "error",
     "traceback": [
      "\u001b[1;31m---------------------------------------------------------------------------\u001b[0m",
      "\u001b[1;31mException\u001b[0m                                 Traceback (most recent call last)",
      "\u001b[1;32m~\\AppData\\Local\\Temp\\ipykernel_7436\\123042707.py\u001b[0m in \u001b[0;36m<module>\u001b[1;34m\u001b[0m\n\u001b[0;32m      2\u001b[0m \u001b[1;33m\u001b[0m\u001b[0m\n\u001b[0;32m      3\u001b[0m \u001b[1;32mif\u001b[0m \u001b[0ma\u001b[0m \u001b[1;33m%\u001b[0m \u001b[1;36m2\u001b[0m \u001b[1;33m!=\u001b[0m \u001b[1;36m0\u001b[0m\u001b[1;33m:\u001b[0m\u001b[1;33m\u001b[0m\u001b[1;33m\u001b[0m\u001b[0m\n\u001b[1;32m----> 4\u001b[1;33m         \u001b[1;32mraise\u001b[0m \u001b[0mException\u001b[0m\u001b[1;33m(\u001b[0m\u001b[1;34m\"The number shouldn't be an odd integer\"\u001b[0m\u001b[1;33m)\u001b[0m\u001b[1;33m\u001b[0m\u001b[1;33m\u001b[0m\u001b[0m\n\u001b[0m",
      "\u001b[1;31mException\u001b[0m: The number shouldn't be an odd integer"
     ]
    }
   ],
   "source": [
    "a = 5\n",
    "\n",
    "if a % 2 != 0:\n",
    "\traise Exception(\"The number shouldn't be an odd integer\")\n"
   ]
  },
  {
   "cell_type": "markdown",
   "id": "89c308de",
   "metadata": {},
   "source": [
    "# 5] What are custom exceptions in python? Why do we need custom exceptions? Explain with an example."
   ]
  },
  {
   "cell_type": "markdown",
   "id": "2ba77c81",
   "metadata": {},
   "source": [
    "### => Custom exception is nothing but user defined exception."
   ]
  },
  {
   "cell_type": "markdown",
   "id": "d30be6af",
   "metadata": {},
   "source": [
    "### => Suppose you need to develop a program that converts a temperature from Fahrenheit to Celsius.\n",
    "\n",
    "### => The minimum and maximum values of a temperature in Fahrenheit are 32 and 212. If users enter a value that is not in this range, you want to raise a custom exception e.g., FahrenheitError."
   ]
  },
  {
   "cell_type": "code",
   "execution_count": 31,
   "id": "6977a0c6",
   "metadata": {},
   "outputs": [],
   "source": [
    "class ValidateAge(Exception):\n",
    "    def __init__(self,msg):\n",
    "        self.msg=msg\n",
    "#         print(msg)\n",
    "    "
   ]
  },
  {
   "cell_type": "code",
   "execution_count": 32,
   "id": "7e7dbb46",
   "metadata": {},
   "outputs": [],
   "source": [
    "def VoterID(age):\n",
    "    if age<18:\n",
    "        raise ValidateAge(\"It should be greater than 18 for voting:\")\n",
    "    elif age>150:\n",
    "        raise ValidateAge(\"Age is very high\")\n",
    "    else: print(\"you can have VoterID\")"
   ]
  },
  {
   "cell_type": "code",
   "execution_count": 34,
   "id": "024033be",
   "metadata": {},
   "outputs": [
    {
     "name": "stdout",
     "output_type": "stream",
     "text": [
      "12\n",
      "It should be greater than 18 for voting:\n"
     ]
    }
   ],
   "source": [
    "try:\n",
    "    age=int(input())\n",
    "    VoterID(age)\n",
    "except ValidateAge as e:\n",
    "    print(e)"
   ]
  },
  {
   "cell_type": "markdown",
   "id": "19b0e9c8",
   "metadata": {},
   "source": [
    "# 6] Create a custom exception class. Use this class to handle an exception."
   ]
  },
  {
   "cell_type": "code",
   "execution_count": 35,
   "id": "97f2d016",
   "metadata": {},
   "outputs": [],
   "source": [
    "class FahrenheitError(Exception):\n",
    "    min_f = 32\n",
    "    max_f = 212\n",
    "\n",
    "    def __init__(self, f, *args):\n",
    "        super().__init__(args)\n",
    "        self.f = f\n",
    "\n",
    "    def __str__(self):\n",
    "        return f'The {self.f} is not in a valid range {self.min_f, self.max_f}'"
   ]
  },
  {
   "cell_type": "code",
   "execution_count": 36,
   "id": "871f851a",
   "metadata": {},
   "outputs": [
    {
     "name": "stdout",
     "output_type": "stream",
     "text": [
      "Enter a temperature in Fahrenheit:30\n",
      "The 30.0 is not in a valid range (32, 212)\n"
     ]
    }
   ],
   "source": [
    "def fahrenheit_to_celsius(f: float) -> float:\n",
    "    if f < FahrenheitError.min_f or f > FahrenheitError.max_f:\n",
    "        raise FahrenheitError(f)\n",
    "\n",
    "    return (f - 32) * 5 / 9\n",
    "\n",
    "\n",
    "if __name__ == '__main__':\n",
    "    f = input('Enter a temperature in Fahrenheit:')\n",
    "    try:\n",
    "        f = float(f)\n",
    "    except ValueError as ex:\n",
    "        print(ex)\n",
    "    else:\n",
    "        try:\n",
    "            c = fahrenheit_to_celsius(float(f))\n",
    "        except FahrenheitError as ex:\n",
    "            print(ex)\n",
    "        else:\n",
    "            print(f'{f} Fahrenheit = {c:.4f} Celsius')"
   ]
  },
  {
   "cell_type": "code",
   "execution_count": null,
   "id": "69585e63",
   "metadata": {},
   "outputs": [],
   "source": []
  }
 ],
 "metadata": {
  "kernelspec": {
   "display_name": "Python 3 (ipykernel)",
   "language": "python",
   "name": "python3"
  },
  "language_info": {
   "codemirror_mode": {
    "name": "ipython",
    "version": 3
   },
   "file_extension": ".py",
   "mimetype": "text/x-python",
   "name": "python",
   "nbconvert_exporter": "python",
   "pygments_lexer": "ipython3",
   "version": "3.9.13"
  }
 },
 "nbformat": 4,
 "nbformat_minor": 5
}
