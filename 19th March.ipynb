{
 "cells": [
  {
   "cell_type": "markdown",
   "id": "16497154",
   "metadata": {},
   "source": [
    "# 1] What is data encoding? How is it useful in data science?"
   ]
  },
  {
   "cell_type": "markdown",
   "id": "b43859b1",
   "metadata": {},
   "source": [
    "### => Data encoding is the process of converting data from one format to another. In the context of data science, encoding is often used to transform data into a format that is suitable for machine learning algorithms or statistical analysis.\n",
    "\n",
    "### =>For example, categorical data (data that can take on a limited number of values) such as colors, names or categories, cannot be directly used in most machine learning algorithms. Encoding this data to a numerical format, such as assigning a unique number to each category, enables the data to be used in machine learning algorithms.\n",
    "### \n",
    "### => Data encoding is useful in data science because it enables the use of data in machine learning algorithms that require numerical data. Moreover, encoding can improve the accuracy of machine learning models by preserving the information present in categorical data while also simplifying the data representation."
   ]
  },
  {
   "cell_type": "markdown",
   "id": "43095df6",
   "metadata": {},
   "source": [
    "# 2] What is nominal encoding? Provide an example of how you would use it in a real-world scenario."
   ]
  },
  {
   "cell_type": "markdown",
   "id": "977456f1",
   "metadata": {},
   "source": [
    "### => Nominal encoding is a type of data encoding that is used to convert categorical data into numerical data by assigning a unique number to each category. This encoding is called nominal because the numbers assigned to each category do not have any inherent order or ranking.\n",
    "### \n",
    "### => In a real-world scenario, nominal encoding can be used in various applications. For instance, in customer segmentation, a company might use nominal encoding to convert customer demographic data, such as gender and age group, into numerical data that can be used to identify patterns and make predictions about customer behavior. Another example is in natural language processing, where nominal encoding can be used to represent categorical data such as parts of speech, sentiment, or topics."
   ]
  },
  {
   "cell_type": "markdown",
   "id": "c9baf33d",
   "metadata": {},
   "source": [
    "# 3] In what situations is nominal encoding preferred over one-hot encoding? Provide a practical example."
   ]
  },
  {
   "cell_type": "markdown",
   "id": "3efd0376",
   "metadata": {},
   "source": [
    "### => Nominal encoding is preferred over one-hot encoding when the number of unique categories in a variable is large. One-hot encoding creates a binary column for each unique category, which can lead to a high-dimensional dataset with many sparse columns, making it difficult to handle and interpret. In contrast, nominal encoding reduces the dimensionality of the dataset by replacing each category with a numerical value, making it easier to handle.\n",
    "### \n",
    "### => For example, consider a dataset containing information about different types of cuisine from around the world. One of the variables in the dataset is \"dish_type,\" which has many unique categories, such as \"soup,\" \"stew,\" \"curry,\" \"grilled,\" \"fried,\" and so on. If we were to one-hot encode this variable, we would end up with a large number of columns in the dataset, making it difficult to handle and analyze. On the other hand, if we were to use nominal encoding, we could replace each category with a numerical value, such as 1 for \"soup,\" 2 for \"stew,\" 3 for \"curry,\" and so on, resulting in a smaller, more manageable dataset."
   ]
  },
  {
   "cell_type": "markdown",
   "id": "087e64d6",
   "metadata": {},
   "source": [
    "# 4] Suppose you have a dataset containing categorical data with 5 unique values. Which encoding technique would you use to transform this data into a format suitable for machine learning algorithms? Explain why you made this choice."
   ]
  },
  {
   "cell_type": "markdown",
   "id": "31c21dd3",
   "metadata": {},
   "source": [
    "### => If the categorical variable has only 5 unique values, I would recommend using One-Hot Encoding because it creates a separate binary column for each unique value, and it is a simple and effective way to represent categorical data in a machine-readable format. One-Hot Encoding ensures that each unique value of the categorical variable is represented by a unique binary feature, which can help the model learn the relationship between the different categories and their corresponding outputs.\n",
    "### => We should use ordinal encoding if there is an order matters, otherwise use label encoding."
   ]
  },
  {
   "cell_type": "markdown",
   "id": "cce4feaa",
   "metadata": {},
   "source": [
    "# 5] In a machine learning project, you have a dataset with 1000 rows and 5 columns. Two of the columns are categorical, and the remaining three columns are numerical. If you were to use nominal encoding to transform the categorical data, how many new columns would be created? Show your calculations."
   ]
  },
  {
   "cell_type": "markdown",
   "id": "81459ff0",
   "metadata": {},
   "source": [
    "### => It depends upon how many unique values are there into the columns.\n",
    "### => total new columns = unique values in categorical column 1 + unique values in categorical column 2"
   ]
  },
  {
   "cell_type": "markdown",
   "id": "0a6ff26b",
   "metadata": {},
   "source": [
    "# 6] You are working with a dataset containing information about different types of animals, including their species, habitat, and diet. Which encoding technique would you use to transform the categorical data into a format suitable for machine learning algorithms? Justify your answer."
   ]
  },
  {
   "cell_type": "markdown",
   "id": "554e3822",
   "metadata": {},
   "source": [
    "### => We can use one hot encoding for different types of animals.\n",
    "### => And for their species, habitat, and diet; there are no specific order so we can use there label encoding. "
   ]
  },
  {
   "cell_type": "markdown",
   "id": "86712c4b",
   "metadata": {},
   "source": [
    "# 7] You are working on a project that involves predicting customer churn for a telecommunications company. You have a dataset with 5 features, including the customer's gender, age, contract type, monthly charges, and tenure. Which encoding technique(s) would you use to transform the categorical data into numerical data? Provide a step-by-step explanation of how you would implement the encoding."
   ]
  },
  {
   "cell_type": "markdown",
   "id": "1f15191b",
   "metadata": {},
   "source": [
    "### => for gender as well as contract type we can use one hot encoding, because there are only two unique values so there is no problem of dimensionality reduction.\n",
    "### => for age,tenure and monthly charges there is no any requiremnet to encode it."
   ]
  },
  {
   "cell_type": "code",
   "execution_count": null,
   "id": "d837bc5b",
   "metadata": {},
   "outputs": [],
   "source": []
  }
 ],
 "metadata": {
  "kernelspec": {
   "display_name": "Python 3 (ipykernel)",
   "language": "python",
   "name": "python3"
  },
  "language_info": {
   "codemirror_mode": {
    "name": "ipython",
    "version": 3
   },
   "file_extension": ".py",
   "mimetype": "text/x-python",
   "name": "python",
   "nbconvert_exporter": "python",
   "pygments_lexer": "ipython3",
   "version": "3.9.13"
  }
 },
 "nbformat": 4,
 "nbformat_minor": 5
}
