{
 "cells": [
  {
   "cell_type": "markdown",
   "id": "3f0a62e5",
   "metadata": {},
   "source": [
    "# 1] What is a database? Differentiate between SQL and NoSQL databases."
   ]
  },
  {
   "cell_type": "markdown",
   "id": "dedfecc2",
   "metadata": {},
   "source": [
    "### => A database is a collection of structured data that can be stored, managed, and accessed efficiently. It can be thought of as a digital filing cabinet where information can be stored and retrieved quickly. Databases are used in a wide range of applications, including business, finance, healthcare, e-commerce, and social media.\n",
    "\n",
    "### => SQL databases are relational databases that store data in tables with predefined relationships, while NoSQL databases store data in a non-tabular format.\n",
    "### => SQL databases use SQL to manipulate and query data, while NoSQL databases use various languages, such as JavaScript and JSON.\n",
    "### => SQL databases are best suited for complex queries and transactions, while NoSQL databases are designed for high performance and scalability. "
   ]
  },
  {
   "cell_type": "markdown",
   "id": "8f859a87",
   "metadata": {},
   "source": [
    "# 2] What is DDL? Explain why CREATE, DROP, ALTER, and TRUNCATE are used with an example."
   ]
  },
  {
   "cell_type": "markdown",
   "id": "e4169c11",
   "metadata": {},
   "source": [
    "### => In MySQL, DDL stands for \"Data Definition Language\" and refers to a set of SQL commands used to define the structure of a database and its objects such as tables, views, indexes, and stored procedures."
   ]
  },
  {
   "cell_type": "markdown",
   "id": "cdfefbc6",
   "metadata": {},
   "source": [
    "# CREATE: \n",
    "### => CREATE is used to create new database objects such as tables, indexes, or views. Here's an example of using the CREATE command to create a new table in a MySQL database:"
   ]
  },
  {
   "cell_type": "markdown",
   "id": "c6a32b76",
   "metadata": {},
   "source": [
    "# DROP:\n",
    "### => DROP is used to remove database objects such as tables, indexes, or views. Here's an example of using the DROP command to remove the \"users\" table from the MySQL database:"
   ]
  },
  {
   "cell_type": "markdown",
   "id": "e9366e4a",
   "metadata": {},
   "source": [
    "\n",
    "## ALTER:\n",
    "### => ALTER is used to modify the structure of an existing database object such as a table. Here's an example of using the ALTER command to add a new column named \"phone\" to the \"users\" table:\n"
   ]
  },
  {
   "cell_type": "markdown",
   "id": "8f65970a",
   "metadata": {},
   "source": [
    "## TRUNCATE:\n",
    "### => TRUNCATE is used to remove all data from a table, but it does not remove the table structure itself. Here's an example of using the TRUNCATE command to remove all data from the \"users\" table:\n"
   ]
  },
  {
   "cell_type": "markdown",
   "id": "cfdf0ee1",
   "metadata": {},
   "source": [
    "### CREATE TABLE users (\n",
    "  ### id INT PRIMARY KEY,\n",
    "  ### name VARCHAR(50),\n",
    "  ### email VARCHAR(50)\n",
    "### );\n",
    "### \n",
    "### DROP TABLE users;\n",
    "### \n",
    "### ALTER TABLE users\n",
    "### ADD COLUMN phone VARCHAR(20);\n",
    "### \n",
    "### TRUNCATE TABLE users;"
   ]
  },
  {
   "cell_type": "markdown",
   "id": "b207278d",
   "metadata": {},
   "source": [
    "# 3] What is DML? Explain INSERT, UPDATE, and DELETE with an example."
   ]
  },
  {
   "cell_type": "markdown",
   "id": "74f68901",
   "metadata": {},
   "source": [
    "### => DML stands for Data Manipulation Language, and it refers to a set of SQL statements that are used to manipulate data within a MySQL database. DML commands allow you to retrieve, insert, update, and delete data from tables in the database.\n"
   ]
  },
  {
   "cell_type": "markdown",
   "id": "3a66d328",
   "metadata": {},
   "source": [
    "## INSERT:\n",
    "### =>This statement is used to insert new data into a table. For example, the following statement inserts a new row into the \"users\" table:\n"
   ]
  },
  {
   "cell_type": "markdown",
   "id": "097fbd8b",
   "metadata": {},
   "source": [
    "## UPDATE:\n",
    "### => This statement is used to update existing data in a table. For example, the following statement updates the email address of the user with an id of 1 in the \"users\" table:\n"
   ]
  },
  {
   "cell_type": "markdown",
   "id": "31058424",
   "metadata": {},
   "source": [
    "## DELETE:\n",
    "### => This statement is used to delete data from a table. For example, the following statement deletes the row with an id of 2 from the \"users\" table:\n"
   ]
  },
  {
   "cell_type": "markdown",
   "id": "eb769699",
   "metadata": {},
   "source": [
    "## INSERT INTO users (name, email) VALUES ('bhagat singh', 'xyz@gmail.com');\n",
    "## \n",
    "## UPDATE users SET email = 'inquilabzindabad@freedom.com' WHERE id = 1;\n",
    "## \n",
    "## DELETE FROM users WHERE id = 2;\n"
   ]
  },
  {
   "cell_type": "markdown",
   "id": "302304cd",
   "metadata": {},
   "source": [
    "# 4] What is DQL? Explain SELECT with an example."
   ]
  },
  {
   "cell_type": "markdown",
   "id": "7498d815",
   "metadata": {},
   "source": [
    "### => DQL stands for Data Query Language, and it refers to the subset of SQL statements that are used to retrieve data from a MySQL database. In other words, DQL commands allow you to query and retrieve data from one or more tables in a MySQL database.\n"
   ]
  },
  {
   "cell_type": "markdown",
   "id": "3e0692cf",
   "metadata": {},
   "source": [
    "## SELECT * FROM users;\n",
    "## \n",
    "## SELECT email FROM users WHERE name =\"bhagat singh\";\n"
   ]
  },
  {
   "cell_type": "markdown",
   "id": "26f4d793",
   "metadata": {},
   "source": [
    "# 5] Explain Primary Key and Foreign Key."
   ]
  },
  {
   "cell_type": "markdown",
   "id": "5573d092",
   "metadata": {},
   "source": [
    "## Primary key\n",
    "### => In MySQL, a primary key is a column or set of columns in a table that uniquely identifies each row in the table. Primary keys ensure that each row in a table is unique and can be identified with a unique value or combination of values.\n",
    "### => We use primary key in attribute where the value must be unique as well as not null.\n",
    "### => In above example of CREATE the column named id is one of the example of primary key.\n"
   ]
  },
  {
   "cell_type": "markdown",
   "id": "c7c732a4",
   "metadata": {},
   "source": [
    "## Foreign key\n",
    "### => In MySQL, a foreign key is a column or set of columns in a table that refers to the primary key of another table. Foreign keys create a relationship between two tables, allowing you to enforce referential integrity between them.\n",
    "### => The table with the foreign key is called the child table, and the table with the primary key is called the referenced or parent table.\n"
   ]
  },
  {
   "cell_type": "markdown",
   "id": "97312b34",
   "metadata": {},
   "source": [
    "# 6] Write a python code to connect MySQL to python. Explain the cursor() and execute() method."
   ]
  },
  {
   "cell_type": "markdown",
   "id": "252b172d",
   "metadata": {},
   "source": [
    "\n",
    " ## import mysql.connector\n",
    "\n",
    " ##  \n",
    " ## cnx = mysql.connector.connect(\n",
    "   ## host='localhost',\n",
    "   ## user='your_username',\n",
    "   ## password='your_password',\n",
    "   ## database='your_database'\n",
    " ## )\n"
   ]
  },
  {
   "cell_type": "markdown",
   "id": "9ad799f8",
   "metadata": {},
   "source": [
    "## cursor()\n",
    "### => In MySQL and other database management systems, a cursor is a mechanism that enables the traversal of the records in a result set. In Python, the 'cursor()' method is used to create a cursor object that can be used to execute SQL statements and traverse the results.\n"
   ]
  },
  {
   "cell_type": "markdown",
   "id": "b1723da9",
   "metadata": {},
   "source": [
    "## execute()\n",
    "### => In MySQL and other database management systems, the 'execute()' method is used to execute SQL statements and perform database operations. In Python, the 'execute()' method is a method of the cursor object that is created using the 'cursor()' method of a MySQL connector object.\n"
   ]
  },
  {
   "cell_type": "markdown",
   "id": "769e7eb0",
   "metadata": {},
   "source": [
    "# 7] Give the order of execution of SQL clauses in an SQL query."
   ]
  },
  {
   "cell_type": "markdown",
   "id": "1c42b169",
   "metadata": {},
   "source": [
    "## 1) FROM/JOIN: \n",
    "### =>The FROM and/or JOIN clauses are executed first to determine the data of interest.\n",
    "\n",
    "## 2) WHERE:\n",
    "### => The WHERE clause is executed to filter out records that do not meet the constraints.\n",
    "\n",
    "## 3) GROUP BY:\n",
    "### => The GROUP BY clause is executed to group the data based on the values in one or more columns.\n",
    "\n",
    "## 4) HAVING:\n",
    "### => The HAVING clause is executed to remove the created grouped records that don’t meet the constraints.\n",
    "\n",
    "## 5) SELECT:\n",
    "### => The SELECT clause is executed to derive all desired columns and expressions.\n",
    "\n",
    "## 6) ORDER BY:\n",
    "### => The ORDER BY clause is executed to sort the derived values in ascending or descending order.\n",
    "\n",
    "## 7) LIMIT/OFFSET:\n",
    "### => Finally, the LIMIT and/or OFFSET clauses are executed to keep or skip a specified number of rows."
   ]
  }
 ],
 "metadata": {
  "kernelspec": {
   "display_name": "Python 3 (ipykernel)",
   "language": "python",
   "name": "python3"
  },
  "language_info": {
   "codemirror_mode": {
    "name": "ipython",
    "version": 3
   },
   "file_extension": ".py",
   "mimetype": "text/x-python",
   "name": "python",
   "nbconvert_exporter": "python",
   "pygments_lexer": "ipython3",
   "version": "3.9.13"
  }
 },
 "nbformat": 4,
 "nbformat_minor": 5
}
