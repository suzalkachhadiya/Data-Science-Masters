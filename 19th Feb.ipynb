{
 "cells": [
  {
   "cell_type": "markdown",
   "id": "6616815b",
   "metadata": {},
   "source": [
    "# 1] What is Flask Framework? What are the advantages of Flask Framework?"
   ]
  },
  {
   "cell_type": "markdown",
   "id": "2096f5b0",
   "metadata": {},
   "source": [
    "### => Flask is a lightweight web application framework written in Python. It is designed to make it easy to build web applications quickly and with less boilerplate code than other web frameworks."
   ]
  },
  {
   "cell_type": "markdown",
   "id": "0599943c",
   "metadata": {},
   "source": [
    "## Advantages of Flask Framework:\n",
    "## \n",
    "## 1)Lightweight:\n",
    "### => Flask is a lightweight framework, which makes it easy to learn and use. Its modular structure allows you to pick and choose the components you need for your project, making it highly customizable.\n",
    "\n",
    "## 2) Easy to Get Started:\n",
    "### => Flask's simplicity makes it easy to get started with web development. It requires minimal setup and configuration, and you can quickly start building your web application.\n",
    "\n",
    "## 3) Flexible:\n",
    "### => Flask is a flexible framework that allows you to choose the components you need for your project. It provides a range of extensions that you can use to add functionality to your application, including authentication, database integration, and more.\n",
    "\n",
    "## 4) Modular:\n",
    "### => Flask is a modular framework, which means that it allows you to add or remove components as needed. This makes it highly adaptable and allows you to create web applications of any size or complexity.\n",
    "\n",
    "## 5) Easy to Test:\n",
    "### => Flask makes it easy to test your application, thanks to its built-in support for unit testing. You can write tests for your application and run them using a range of testing frameworks.\n",
    "\n",
    "## 6) Large Community:\n",
    "### => Flask has a large community of developers who contribute to its development and support. This means that you can find a range of resources, including documentation, tutorials, and code examples, to help you learn and use the framework.\n",
    "\n",
    "## 7) Scalable:\n",
    "### => Flask is scalable, which means that it can handle large-scale web applications with ease. It provides support for load balancing, caching, and other features that are essential for building scalable web applications.\n",
    "\n",
    "\n",
    "\n",
    "\n"
   ]
  },
  {
   "cell_type": "markdown",
   "id": "0f855466",
   "metadata": {},
   "source": [
    "# 2] Create a simple Flask application to display ‘Hello World!!’. Attach the screenshot of the output in Jupyter Notebook."
   ]
  },
  {
   "cell_type": "markdown",
   "id": "04736f95",
   "metadata": {},
   "source": [
    "![](hello.jpg)"
   ]
  },
  {
   "cell_type": "markdown",
   "id": "aa6c08d7",
   "metadata": {},
   "source": [
    "# 3] What is App routing in Flask? Why do we use app routes?"
   ]
  },
  {
   "cell_type": "markdown",
   "id": "f9340821",
   "metadata": {},
   "source": [
    "### => App routing in Flask refers to the process of defining URL endpoints or routes that correspond to specific functions or views in a Flask application. It is a way of mapping a URL to a function or view that will handle requests sent to that URL.\n",
    "### \n",
    "### => In Flask, app routes are used to create the basic structure of a web application. They provide a way to define the various pages or views of the application and the URLs that correspond to them. By defining routes, Flask can route incoming requests to the appropriate view or function, which can then generate a response to send back to the client.\n",
    "### => App routes also allow Flask applications to have a RESTful architecture, which is a style of software architecture that uses a set of standard HTTP methods (such as GET, POST, PUT, and DELETE) to manipulate resources. Each route can be associated with a specific HTTP method, allowing the application to respond to requests in a standardized and predictable way.\n",
    "### \n",
    "### => In summary, app routing in Flask is a fundamental part of building a web application in Flask, and it allows developers to map URLs to specific functions or views, create RESTful APIs, and define the basic structure of the application."
   ]
  },
  {
   "cell_type": "markdown",
   "id": "11753ffd",
   "metadata": {},
   "source": [
    "# 4] Create a “/welcome” route to display the welcome message “Welcome to ABC Corporation” and a “/” route to show the following details:\n",
    "# Company Name: ABC Corporation\n",
    "# Location: India\n",
    "# Contact Detail: 999-999-9999"
   ]
  },
  {
   "cell_type": "markdown",
   "id": "4fd2724e",
   "metadata": {},
   "source": [
    "<img src=\"welcome.jpg\" style=\"width:1000px;height:500px\"/>"
   ]
  },
  {
   "cell_type": "markdown",
   "id": "10e20569",
   "metadata": {},
   "source": [
    "<img src=\"company.jpg\" style=\"width:1000px;height:500px\"/>"
   ]
  },
  {
   "cell_type": "markdown",
   "id": "4526e0c0",
   "metadata": {},
   "source": [
    "# 5] What function is used in Flask for URL Building? Write a Python code to demonstrate the working of the url_for() function."
   ]
  },
  {
   "cell_type": "markdown",
   "id": "31a7e438",
   "metadata": {},
   "source": [
    "### => The url_for() function generates a URL for a given view function, based on the URL pattern defined in the app's routing configuration. It takes the name of the view function as the first argument and any additional arguments required by the URL pattern as keyword arguments. The function returns a URL that corresponds to the given view function and arguments.\n"
   ]
  },
  {
   "cell_type": "code",
   "execution_count": null,
   "id": "3653e770",
   "metadata": {},
   "outputs": [],
   "source": [
    "from flask import Flask, url_for\n",
    "\n",
    "app = Flask(__name__)\n",
    "\n",
    "@app.route('/i')\n",
    "def index():\n",
    "    return 'Hello, world!'\n",
    "\n",
    "@app.route('/user/<username>')\n",
    "def profile(username):\n",
    "    return f'Hello, {username}!'\n",
    "\n",
    "with app.test_request_context():\n",
    "    print(url_for('index'))\n",
    "    print(url_for('profile', username='Suzal Kachhadiya'))\n"
   ]
  }
 ],
 "metadata": {
  "kernelspec": {
   "display_name": "Python 3 (ipykernel)",
   "language": "python",
   "name": "python3"
  },
  "language_info": {
   "codemirror_mode": {
    "name": "ipython",
    "version": 3
   },
   "file_extension": ".py",
   "mimetype": "text/x-python",
   "name": "python",
   "nbconvert_exporter": "python",
   "pygments_lexer": "ipython3",
   "version": "3.9.13"
  }
 },
 "nbformat": 4,
 "nbformat_minor": 5
}
