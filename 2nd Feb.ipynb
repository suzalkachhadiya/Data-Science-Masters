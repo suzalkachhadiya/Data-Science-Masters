{
 "cells": [
  {
   "cell_type": "markdown",
   "id": "1c72f83c",
   "metadata": {},
   "source": [
    "# 1] Characteristics of tuple in python\n",
    "### => Yes, tuples are immutable in python.\n",
    "### => Tuple items are ordered, unchangable, and allow duplicate values. Tuple items are indexed too. "
   ]
  },
  {
   "cell_type": "markdown",
   "id": "66354a92",
   "metadata": {},
   "source": [
    "# 2] Methods of tuple in python\n",
    "## 1) count()\n",
    "## 2) index()\n",
    "### =>Tuple is a sequences of immutable values which can not be changed once they are assigned to it. You cannot add or remove values while creating Tuple in python. "
   ]
  },
  {
   "cell_type": "code",
   "execution_count": 1,
   "id": "975fbac1",
   "metadata": {},
   "outputs": [
    {
     "name": "stdout",
     "output_type": "stream",
     "text": [
      "0\n",
      "3\n"
     ]
    }
   ],
   "source": [
    "t1=(1,2,3,4,5)\n",
    "t2=(3,4,4,4,5,5,6,7)\n",
    "print(t1.count(6))\n",
    "print(t2.count(4))"
   ]
  },
  {
   "cell_type": "code",
   "execution_count": 2,
   "id": "4dc4fd8b",
   "metadata": {},
   "outputs": [
    {
     "name": "stdout",
     "output_type": "stream",
     "text": [
      "0\n",
      "1\n"
     ]
    }
   ],
   "source": [
    "t3=(\"sardar patel\",\"sardar udhamsingh\",\"shubhashchandra bose\")\n",
    "t4=(\"rajguru\",\"shaheed bhagatsingh\",\"sukhdev\")\n",
    "print(t3.index(\"sardar patel\"))\n",
    "print(t4.index(\"shaheed bhagatsingh\"))"
   ]
  },
  {
   "cell_type": "markdown",
   "id": "a2b9217e",
   "metadata": {},
   "source": [
    "# 3] Set - do not allow duplicate items"
   ]
  },
  {
   "cell_type": "code",
   "execution_count": 3,
   "id": "86b891b1",
   "metadata": {},
   "outputs": [
    {
     "data": {
      "text/plain": [
       "{1, 2, 3, 4}"
      ]
     },
     "execution_count": 3,
     "metadata": {},
     "output_type": "execute_result"
    }
   ],
   "source": [
    "given_list=[1, 1, 1, 2, 1, 3, 1, 4, 2, 1, 2, 2, 2, 3, 2, 4, 3, 1, 3, 2, 3, 3, 3, 4, 4, 1, 4, 2, 4, 3, 4, 4]\n",
    "s1=set(given_list)\n",
    "s1"
   ]
  },
  {
   "cell_type": "markdown",
   "id": "0540ec4f",
   "metadata": {},
   "source": [
    "# 4] union() and update()\n",
    "### => update() adds all the missing elements to the set on which it is called whereas set. union() creates a new set."
   ]
  },
  {
   "cell_type": "code",
   "execution_count": 4,
   "id": "120d0dc4",
   "metadata": {},
   "outputs": [
    {
     "name": "stdout",
     "output_type": "stream",
     "text": [
      "{'cherry', 'apple', 'microsoft', 'banana', 'google'}\n"
     ]
    }
   ],
   "source": [
    "x = {\"apple\", \"banana\", \"cherry\"}\n",
    "y = {\"google\", \"microsoft\", \"apple\"}\n",
    "\n",
    "z = x.union(y)\n",
    "\n",
    "print(z)"
   ]
  },
  {
   "cell_type": "code",
   "execution_count": 5,
   "id": "f171f40c",
   "metadata": {},
   "outputs": [
    {
     "name": "stdout",
     "output_type": "stream",
     "text": [
      "{1, 2, 3, 4, 5, 'c', 'a', 'b'}\n"
     ]
    }
   ],
   "source": [
    "set1={1,2,3}\n",
    "set2={1,2,3,4,5}\n",
    "set3=(\"a\",\"b\",\"c\")\n",
    "set1.update(set2)\n",
    "set1.update(set3)\n",
    "print(set1)"
   ]
  },
  {
   "cell_type": "markdown",
   "id": "09f96b9d",
   "metadata": {},
   "source": [
    "# 5] Dictionary\n",
    "### => Ordered\n",
    "### => Dictionary are used to store data in key:value pairs. Do not allow duplicate key value, and changeable."
   ]
  },
  {
   "cell_type": "code",
   "execution_count": 6,
   "id": "6632a29b",
   "metadata": {},
   "outputs": [
    {
     "name": "stdout",
     "output_type": "stream",
     "text": [
      "{'brand': 'Ford', 'model': 'Mustang', 'year': 1964}\n",
      "{'brand': 'Ford', 'model': 'Mustang', 'year': 1964, 'price': 100000}\n"
     ]
    }
   ],
   "source": [
    "d1={ \"brand\": \"Ford\",\n",
    "  \"model\": \"Mustang\",\n",
    "  \"year\": 1964}\n",
    "print(d1)\n",
    "d1[\"price\"]=100000\n",
    "print(d1)"
   ]
  },
  {
   "cell_type": "markdown",
   "id": "f1ce5d7d",
   "metadata": {},
   "source": [
    "# 6] Nested Dictionary\n",
    "### => Yes, we can create a nested Dictionary"
   ]
  },
  {
   "cell_type": "code",
   "execution_count": 7,
   "id": "d3522178",
   "metadata": {},
   "outputs": [
    {
     "name": "stdout",
     "output_type": "stream",
     "text": [
      "{'ford': {'model1': 'Mustang', 'model2': 'GT'}, 'BMW': 'X5'}\n"
     ]
    }
   ],
   "source": [
    "d2={\"ford\":{\"model1\":\"Mustang\",\"model2\":\"GT\"},\"BMW\":\"X5\"}\n",
    "print(d2)"
   ]
  },
  {
   "cell_type": "markdown",
   "id": "04bd659b",
   "metadata": {},
   "source": [
    "# 7] Use of setdefault()"
   ]
  },
  {
   "cell_type": "code",
   "execution_count": 8,
   "id": "20f1dfc5",
   "metadata": {},
   "outputs": [
    {
     "data": {
      "text/plain": [
       "{'language': 'python',\n",
       " 'course': 'data science masters',\n",
       " 'Topics': ['python', 'machine learning', 'deep learning']}"
      ]
     },
     "execution_count": 8,
     "metadata": {},
     "output_type": "execute_result"
    }
   ],
   "source": [
    "given_dicQ7={\"language\":\"python\",\"course\":\"data science masters\"}\n",
    "given_dicQ7.setdefault(\"Topics\",[\"python\",\"machine learning\",\"deep learning\"])\n",
    "given_dicQ7"
   ]
  },
  {
   "cell_type": "markdown",
   "id": "eb1fb253",
   "metadata": {},
   "source": [
    "# 8] View objects of Dictionaries\n",
    "## 1) Keys\n",
    "## 2) Values\n",
    "## 3) Items\n"
   ]
  },
  {
   "cell_type": "code",
   "execution_count": 16,
   "id": "ab310d98",
   "metadata": {},
   "outputs": [
    {
     "name": "stdout",
     "output_type": "stream",
     "text": [
      "dict_keys(['Sport', 'Teams'])\n",
      "\n",
      "dict_values(['Cricket', ['India', 'Australia', 'England', 'South Africa', 'Sri Lanka', 'New Zealand']])\n",
      "\n",
      "dict_items([('Sport', 'Cricket'), ('Teams', ['India', 'Australia', 'England', 'South Africa', 'Sri Lanka', 'New Zealand'])])\n",
      "\n"
     ]
    }
   ],
   "source": [
    "given_dicQ8={'Sport': 'Cricket' , 'Teams': ['India', 'Australia', 'England', 'South Africa', 'Sri Lanka', 'New Zealand']}\n",
    "print(given_dicQ8.keys(),end=\"\\n\\n\")\n",
    "print(given_dicQ8.values(),end=\"\\n\\n\")\n",
    "print(given_dicQ8.items(),end=\"\\n\\n\")"
   ]
  }
 ],
 "metadata": {
  "kernelspec": {
   "display_name": "Python 3 (ipykernel)",
   "language": "python",
   "name": "python3"
  },
  "language_info": {
   "codemirror_mode": {
    "name": "ipython",
    "version": 3
   },
   "file_extension": ".py",
   "mimetype": "text/x-python",
   "name": "python",
   "nbconvert_exporter": "python",
   "pygments_lexer": "ipython3",
   "version": "3.9.13"
  }
 },
 "nbformat": 4,
 "nbformat_minor": 5
}
