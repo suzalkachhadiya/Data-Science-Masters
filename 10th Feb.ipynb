{
 "cells": [
  {
   "cell_type": "markdown",
   "id": "5278ffd9",
   "metadata": {},
   "source": [
    "# 1] Which function is used to open a file? What are the different modes of opening a file? Explain each mode of file opening.\n",
    "### => open()"
   ]
  },
  {
   "cell_type": "markdown",
   "id": "2340b6d6",
   "metadata": {},
   "source": [
    "## 1) r\n",
    "#### => Open a file for reading. (default)"
   ]
  },
  {
   "cell_type": "markdown",
   "id": "97d65c9d",
   "metadata": {},
   "source": [
    "## 2) w\n",
    "#### => Open a file for writing. Creates a new file if it does not exist or truncates the file if it exists."
   ]
  },
  {
   "cell_type": "markdown",
   "id": "91bde60f",
   "metadata": {},
   "source": [
    "## 3) x\n",
    "#### => Open a file for exclusive creation. If the file already exists, the operation fails."
   ]
  },
  {
   "cell_type": "markdown",
   "id": "5356b158",
   "metadata": {},
   "source": [
    "## 4) a\n",
    "#### => Open a file for appending at the end of the file without truncating it. Creates a new file if it does not exist."
   ]
  },
  {
   "cell_type": "markdown",
   "id": "c028488c",
   "metadata": {},
   "source": [
    "## 5) t\n",
    "#### => Open in text mode. (default)"
   ]
  },
  {
   "cell_type": "markdown",
   "id": "d2707f41",
   "metadata": {},
   "source": [
    "## 6) b\n",
    "#### => Open in binary mode."
   ]
  },
  {
   "cell_type": "markdown",
   "id": "edd3d6c6",
   "metadata": {},
   "source": [
    "## 7) +\n",
    "#### => Open a file for updating (reading and writing)"
   ]
  },
  {
   "cell_type": "markdown",
   "id": "18bf50ab",
   "metadata": {},
   "source": [
    "# 2] Why close() function is used? Why is it important to close a file?\n",
    "### => The close() method closes an open file.\n",
    "### => You should always close your files, in some cases, due to buffering, changes made to a file may not show until you close the file."
   ]
  },
  {
   "cell_type": "markdown",
   "id": "7ecedcfe",
   "metadata": {},
   "source": [
    "# 3] Write a python program to create a text file. Write ‘I want to become a Data Scientist’ in that file. Then close the file. Open this file and read the content of the file."
   ]
  },
  {
   "cell_type": "code",
   "execution_count": 1,
   "id": "48d3dfc2",
   "metadata": {},
   "outputs": [],
   "source": [
    "f=open(\"10thfebass.txt\",\"w\")"
   ]
  },
  {
   "cell_type": "code",
   "execution_count": 2,
   "id": "07bd59dd",
   "metadata": {},
   "outputs": [
    {
     "data": {
      "text/plain": [
       "33"
      ]
     },
     "execution_count": 2,
     "metadata": {},
     "output_type": "execute_result"
    }
   ],
   "source": [
    "f.write(\"I want to become a data scientist\")"
   ]
  },
  {
   "cell_type": "code",
   "execution_count": 3,
   "id": "3387ff4b",
   "metadata": {},
   "outputs": [],
   "source": [
    "f.close()"
   ]
  },
  {
   "cell_type": "code",
   "execution_count": 4,
   "id": "5c313ca7",
   "metadata": {},
   "outputs": [
    {
     "data": {
      "text/plain": [
       "'I want to become a data scientist'"
      ]
     },
     "execution_count": 4,
     "metadata": {},
     "output_type": "execute_result"
    }
   ],
   "source": [
    "data=open(\"10thfebass.txt\",\"r\")\n",
    "data.read()\n",
    "# data.close()"
   ]
  },
  {
   "cell_type": "markdown",
   "id": "86ee262e",
   "metadata": {},
   "source": [
    "# 4] Explain the following with python code: read(), readline() and readlines()."
   ]
  },
  {
   "cell_type": "code",
   "execution_count": 9,
   "id": "bee59339",
   "metadata": {},
   "outputs": [],
   "source": [
    "data1=open(\"10thfebass.txt\",\"w\")\n",
    "data1.write(\"I want to become a data scinetist. \\n I will give my best to become a data scientist. \\n I am learning data science from pwskills.\")\n",
    "data1.close()"
   ]
  },
  {
   "cell_type": "code",
   "execution_count": 10,
   "id": "433b35e3",
   "metadata": {},
   "outputs": [
    {
     "data": {
      "text/plain": [
       "'I want to become a data scinetist. \\n I will give my best to become a data scientist. \\n I am learning data science from pwskills.'"
      ]
     },
     "execution_count": 10,
     "metadata": {},
     "output_type": "execute_result"
    }
   ],
   "source": [
    "data2=open(\"10thfebass.txt\",\"r\")\n",
    "data2.seek(0)\n",
    "data2.read()\n",
    "# data2.seek(0)"
   ]
  },
  {
   "cell_type": "code",
   "execution_count": 13,
   "id": "6bc3938e",
   "metadata": {},
   "outputs": [
    {
     "data": {
      "text/plain": [
       "'I want to become a data scinetist. \\n'"
      ]
     },
     "execution_count": 13,
     "metadata": {},
     "output_type": "execute_result"
    }
   ],
   "source": [
    "data2.seek(0)\n",
    "data2.readline()"
   ]
  },
  {
   "cell_type": "code",
   "execution_count": 14,
   "id": "b683f1cb",
   "metadata": {},
   "outputs": [
    {
     "data": {
      "text/plain": [
       "['I want to become a data scinetist. \\n',\n",
       " ' I will give my best to become a data scientist. \\n',\n",
       " ' I am learning data science from pwskills.']"
      ]
     },
     "execution_count": 14,
     "metadata": {},
     "output_type": "execute_result"
    }
   ],
   "source": [
    "data2.seek(0)\n",
    "data2.readlines(0)"
   ]
  },
  {
   "cell_type": "markdown",
   "id": "c31fcd84",
   "metadata": {},
   "source": [
    "# 5] Explain why with statement is used with open(). What is the advantage of using with statement and open() together?"
   ]
  },
  {
   "cell_type": "markdown",
   "id": "95f2ee12",
   "metadata": {},
   "source": [
    "### => The with statement works with the open() function to open a file. Unlike open() where you have to close the file with the close() method, the with statement closes the file for you without you telling it to. This is because the with statement calls 2 built-in methods behind the scene – __enter()__ and __exit()__."
   ]
  },
  {
   "cell_type": "markdown",
   "id": "223d733a",
   "metadata": {},
   "source": [
    "# 6] Explain the write() and writelines() functions. Give a suitable example."
   ]
  },
  {
   "cell_type": "markdown",
   "id": "40ea995d",
   "metadata": {},
   "source": [
    "### => The only difference between the write() and writelines() is that write() is used to write a string to an already opened file while writelines() method is used to write a list of strings in an opened file."
   ]
  },
  {
   "cell_type": "code",
   "execution_count": 17,
   "id": "59187ce4",
   "metadata": {},
   "outputs": [
    {
     "name": "stdout",
     "output_type": "stream",
     "text": [
      "Enter the name of the employee: suzal\n",
      "Enter the name of the employee: tapan\n",
      "Enter the name of the employee: harshil\n",
      "Data is written into the file.\n"
     ]
    }
   ],
   "source": [
    "file = open(\"Employees.txt\", \"w\")\n",
    "\n",
    "for i in range(3):\n",
    "    name = input(\"Enter the name of the employee: \")\n",
    "    file.write(name)\n",
    "    file.write(\"\\n\")\n",
    "\t\n",
    "file.close()\n",
    "\n",
    "print(\"Data is written into the file.\")\n"
   ]
  },
  {
   "cell_type": "code",
   "execution_count": 18,
   "id": "4c2e9466",
   "metadata": {},
   "outputs": [
    {
     "name": "stdout",
     "output_type": "stream",
     "text": [
      "Enter the name of the employee: suzal\n",
      "Enter the name of the employee: tapan\n",
      "Enter the name of the employee: harshil\n",
      "Data is written into the file.\n"
     ]
    }
   ],
   "source": [
    "file1 = open(\"Employees.txt\", \"w\")\n",
    "lst = []\n",
    "for i in range(3):\n",
    "\tname = input(\"Enter the name of the employee: \")\n",
    "\tlst.append(name + '\\n')\n",
    "\t\n",
    "file1.writelines(lst)\n",
    "file1.close()\n",
    "print(\"Data is written into the file.\")\n"
   ]
  }
 ],
 "metadata": {
  "kernelspec": {
   "display_name": "Python 3 (ipykernel)",
   "language": "python",
   "name": "python3"
  },
  "language_info": {
   "codemirror_mode": {
    "name": "ipython",
    "version": 3
   },
   "file_extension": ".py",
   "mimetype": "text/x-python",
   "name": "python",
   "nbconvert_exporter": "python",
   "pygments_lexer": "ipython3",
   "version": "3.9.13"
  }
 },
 "nbformat": 4,
 "nbformat_minor": 5
}
