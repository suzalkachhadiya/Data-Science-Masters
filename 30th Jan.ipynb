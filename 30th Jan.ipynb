{
 "cells": [
  {
   "cell_type": "markdown",
   "id": "237f0952-04f9-46c8-8980-96650bd3fef5",
   "metadata": {},
   "source": [
    "# 1] Program to display grade"
   ]
  },
  {
   "cell_type": "code",
   "execution_count": 6,
   "id": "32e28845-a63f-4222-ab14-63e2a143ddbc",
   "metadata": {},
   "outputs": [
    {
     "name": "stdin",
     "output_type": "stream",
     "text": [
      " 91\n"
     ]
    },
    {
     "name": "stdout",
     "output_type": "stream",
     "text": [
      "A\n"
     ]
    }
   ],
   "source": [
    "percentage=int(input())\n",
    "if percentage>=90:\n",
    "    print(\"A\")\n",
    "elif percentage>80 and percentage<=90:\n",
    "    print(\"B\")\n",
    "elif percentage>=60 and percentage<=80:\n",
    "    print(\"C\")\n",
    "elif percentage<60 and percentage>=0:\n",
    "    print(\"D\")\n",
    "else :print(\"Enter valid percentage:\")"
   ]
  },
  {
   "cell_type": "markdown",
   "id": "d2c08bbb-12e0-4d3a-9ed5-5bb8539f2ba1",
   "metadata": {},
   "source": [
    "# 2] Program to display road tax to be paid"
   ]
  },
  {
   "cell_type": "code",
   "execution_count": 10,
   "id": "1f858a0e-4676-4efd-868e-981e8edddb36",
   "metadata": {},
   "outputs": [
    {
     "name": "stdin",
     "output_type": "stream",
     "text": [
      " 1200\n"
     ]
    },
    {
     "name": "stdout",
     "output_type": "stream",
     "text": [
      "tax to be paid: 60.0\n"
     ]
    }
   ],
   "source": [
    "cost_price=int(input())\n",
    "tax=0\n",
    "if cost_price>100000:\n",
    "    tax+=cost_price*0.15\n",
    "elif cost_price<=100000 and cost_price>50000:\n",
    "    tax+=cost_price*0.1\n",
    "elif cost_price<=50000:\n",
    "    tax+=cost_price*0.05\n",
    "print(\"tax to be paid:\",tax)"
   ]
  },
  {
   "cell_type": "markdown",
   "id": "8cab6e37-decf-438e-b78e-62fcb920b191",
   "metadata": {},
   "source": [
    "# 3] program to display monuments of the city"
   ]
  },
  {
   "cell_type": "code",
   "execution_count": 14,
   "id": "220f246d-43bd-4337-a1d4-cf04625a57a9",
   "metadata": {},
   "outputs": [
    {
     "name": "stdin",
     "output_type": "stream",
     "text": [
      " aGRA\n"
     ]
    },
    {
     "name": "stdout",
     "output_type": "stream",
     "text": [
      "Taj Mahal\n"
     ]
    }
   ],
   "source": [
    "city=input()\n",
    "if city.lower() == \"delhi\":\n",
    "    print(\"Red Fort\")\n",
    "elif city.lower() == \"agra\":\n",
    "    print(\"Taj Mahal\")\n",
    "elif city.lower() == \"jaipur\":\n",
    "    print(\"Jal Mahal\")\n",
    "else: print(\"Enter valid city name:\")"
   ]
  },
  {
   "cell_type": "markdown",
   "id": "fad21a0e-c14a-40e7-982f-74dff26c28eb",
   "metadata": {},
   "source": [
    "# 4] Program to count number devisible by 3 before less than 10"
   ]
  },
  {
   "cell_type": "code",
   "execution_count": 17,
   "id": "7977afeb-9686-4a04-94be-5bb832e3a828",
   "metadata": {},
   "outputs": [
    {
     "name": "stdin",
     "output_type": "stream",
     "text": [
      " 45\n"
     ]
    },
    {
     "name": "stdout",
     "output_type": "stream",
     "text": [
      "2\n"
     ]
    }
   ],
   "source": [
    "num=int(input())\n",
    "count=0\n",
    "while num>10:\n",
    "    num/=3\n",
    "    count+=1\n",
    "print(count)"
   ]
  },
  {
   "cell_type": "markdown",
   "id": "5f08aa7a-a512-446d-9d52-3b5cfb9ca0a7",
   "metadata": {},
   "source": [
    "# 5] Why and when to use while loop in python give a detailed description with example\n",
    "###    -> When we don't know that how many times we want to do iteration and we know only specific condition to do iteration,we use while loop\n",
    "##      Ex:- Count digits in given number"
   ]
  },
  {
   "cell_type": "code",
   "execution_count": 22,
   "id": "15aa1699-3f8f-49b2-9b7f-ad1af71b6526",
   "metadata": {},
   "outputs": [
    {
     "name": "stdin",
     "output_type": "stream",
     "text": [
      " 5678\n"
     ]
    },
    {
     "name": "stdout",
     "output_type": "stream",
     "text": [
      "4\n"
     ]
    }
   ],
   "source": [
    "num=int(input())\n",
    "digits=0\n",
    "while num>0:\n",
    "    num//=10\n",
    "    digits+=1\n",
    "print(digits)"
   ]
  },
  {
   "cell_type": "markdown",
   "id": "8f04ae9c-548c-4364-9d8b-9affb1e35a8d",
   "metadata": {},
   "source": [
    "# 6] Patterns using while loops"
   ]
  },
  {
   "cell_type": "code",
   "execution_count": 25,
   "id": "9cd423dc-c73c-4ae7-a080-c9cc09e64505",
   "metadata": {},
   "outputs": [
    {
     "name": "stdout",
     "output_type": "stream",
     "text": [
      "1 \n",
      "\n",
      "2 3 \n",
      "\n",
      "4 5 6 \n",
      "\n",
      "7 8 9 10 \n",
      "\n"
     ]
    }
   ],
   "source": [
    "a=0\n",
    "k=1\n",
    "x=0\n",
    "while a<4:\n",
    "    while x<a+1:\n",
    "        print(k,end=\" \")\n",
    "        k+=1\n",
    "        x+=1\n",
    "    print(\"\\n\")\n",
    "    a+=1\n",
    "    x=0"
   ]
  },
  {
   "cell_type": "markdown",
   "id": "1029cb50-906a-4f2e-8a51-e76bf570404d",
   "metadata": {},
   "source": [
    "# 7] Reverse a while loop to display numbers from 10 to 1"
   ]
  },
  {
   "cell_type": "code",
   "execution_count": null,
   "id": "09dd6ba4-fc15-4b8e-9303-91bf400edc36",
   "metadata": {},
   "outputs": [],
   "source": [
    "x=10\n",
    "print(x)"
   ]
  }
 ],
 "metadata": {
  "kernelspec": {
   "display_name": "Python 3 (ipykernel)",
   "language": "python",
   "name": "python3"
  },
  "language_info": {
   "codemirror_mode": {
    "name": "ipython",
    "version": 3
   },
   "file_extension": ".py",
   "mimetype": "text/x-python",
   "name": "python",
   "nbconvert_exporter": "python",
   "pygments_lexer": "ipython3",
   "version": "3.10.8"
  }
 },
 "nbformat": 4,
 "nbformat_minor": 5
}
