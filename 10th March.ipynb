{
 "cells": [
  {
   "cell_type": "markdown",
   "id": "2ecd470f",
   "metadata": {},
   "source": [
    "# 1] What is Estimation Statistics? Explain point estimate and interval estimate."
   ]
  },
  {
   "cell_type": "markdown",
   "id": "aef6d872",
   "metadata": {},
   "source": [
    "### => Estimation statistics is a branch of statistics that involves using sample data to make inferences or draw conclusions about population parameters. In other words, estimation statistics involves using a sample to estimate an unknown characteristic of a population.\n",
    "### \n",
    "## 1) Point Estimate:\n",
    "### => A point estimate is a single numerical value that is used to estimate an unknown population parameter. This value is usually derived from sample data and provides an estimate of the true value of the population parameter. \n",
    "### => For example, if we wanted to estimate the average height of all college students in the India, we could take a random sample of college students and calculate the average height of the sample. This calculated average would be our point estimate of the true population average height.\n",
    "## 2) Interval Estimate:\n",
    "### => An interval estimate is a range of values within which we believe the true population parameter lies. This range is usually based on sample data and includes a margin of error. Interval estimates are useful when we need to be more precise and accurate in our estimations.\n",
    "### => For example, if we wanted to estimate the average height of all college students in the India with 95% confidence, we could take a random sample of college students and calculate the average height of the sample, along with a margin of error. This margin of error would allow us to construct an interval estimate, such as \"the true population average height is between 68 and 72 inches, with 95% confidence.\""
   ]
  },
  {
   "cell_type": "markdown",
   "id": "759b24ae",
   "metadata": {},
   "source": [
    "# 2] Write a Python function to estimate the population mean using a sample mean and standard deviation."
   ]
  },
  {
   "cell_type": "code",
   "execution_count": 1,
   "id": "a87c83bd",
   "metadata": {},
   "outputs": [],
   "source": [
    "import math\n",
    "def estimate_pop_mean(sample_mean,sample_SD,sample_size,z_value=1.96):\n",
    "    return (sample_mean-z_value*sample_SD/math.sqrt(sample_size),sample_mean+z_value*sample_SD/math.sqrt(sample_size))"
   ]
  },
  {
   "cell_type": "code",
   "execution_count": 2,
   "id": "23ca5dc9",
   "metadata": {},
   "outputs": [
    {
     "data": {
      "text/plain": [
       "(4.821077297881645, 5.178922702118355)"
      ]
     },
     "execution_count": 2,
     "metadata": {},
     "output_type": "execute_result"
    }
   ],
   "source": [
    "estimate_pop_mean(5,0.5,30)"
   ]
  },
  {
   "cell_type": "markdown",
   "id": "02f2e818",
   "metadata": {},
   "source": [
    "# 3] What is Hypothesis testing? Why is it used? State the importance of Hypothesis testing."
   ]
  },
  {
   "cell_type": "markdown",
   "id": "55ccec3d",
   "metadata": {},
   "source": [
    "### => Hypothesis testing is a statistical method used to determine whether there is enough evidence in a sample of data to infer a certain statement or hypothesis about a population parameter. It involves comparing the observed data to an assumed null hypothesis, which is a statement that assumes there is no significant difference or relationship between the sample data and the population parameter.\n",
    "#  \n",
    "### => Hypothesis testing is used in a wide range of fields and applications, including business, medicine, psychology, economics, and social sciences. It is a fundamental tool in research and helps in making data-driven decisions.\n",
    "#  \n",
    "## 1) Determines statistical significance:\n",
    "### => Hypothesis testing helps determine if the results obtained from a sample are statistically significant or if they occurred by chance. Statistical significance means that the results are unlikely to have happened by random chance, which makes the results more reliable and trustworthy.\n",
    "\n",
    "## 2) Helps in decision making:\n",
    "### => Hypothesis testing helps decision-makers to make data-driven decisions based on the available evidence. For instance, it helps businesses to determine the effectiveness of their marketing campaigns or the impact of a new product on the market."
   ]
  },
  {
   "cell_type": "markdown",
   "id": "d9bf8d39",
   "metadata": {},
   "source": [
    "# 4] Create a hypothesis that states whether the average weight of male college students is greater than the average weight of female college students."
   ]
  },
  {
   "cell_type": "markdown",
   "id": "7937be57",
   "metadata": {},
   "source": [
    "### => Null hypothesis: There is no significant difference between the average weight of male college students and the average weight of female college students.\n",
    "\n",
    "### => Alternative hypothesis: The average weight of male college students is greater than the average weight of female college students."
   ]
  },
  {
   "cell_type": "markdown",
   "id": "b38e4151",
   "metadata": {},
   "source": [
    "# 5] Write a Python script to conduct a hypothesis test on the difference between two population means, given a sample from each population."
   ]
  },
  {
   "cell_type": "code",
   "execution_count": 3,
   "id": "2b2fac18",
   "metadata": {},
   "outputs": [
    {
     "name": "stdout",
     "output_type": "stream",
     "text": [
      "we reject the null hypothesis:\n",
      "There is significance difference between the two population means\n"
     ]
    }
   ],
   "source": [
    "import scipy.stats as stats\n",
    "\n",
    "male_weights = [79.37866475, 81.6466266, 83.91458845000001, 86.1825503, 88.45051215000001]\n",
    "female_weights = [54.4310844, 56.69904625, 58.9670081, 61.23496995, 63.502931800000006]\n",
    "\n",
    "male_mean = sum(male_weights) / len(male_weights)\n",
    "male_std = stats.tstd(male_weights)\n",
    "female_mean = sum(female_weights) / len(female_weights)\n",
    "female_std = stats.tstd(female_weights)\n",
    "\n",
    "df = len(male_weights) + len(female_weights) - 2\n",
    "t_stat, p_val = stats.ttest_ind(male_weights, female_weights)\n",
    "\n",
    "if p_val<0.05:\n",
    "    print(\"we reject the null hypothesis:\\nThere is significance difference between the two population means\")\n",
    "else:\n",
    "    print(\"we fail to reject the null hypothesis\")"
   ]
  },
  {
   "cell_type": "markdown",
   "id": "a5ccb098",
   "metadata": {},
   "source": [
    "# 6] What is a null and alternative hypothesis? Give some examples."
   ]
  },
  {
   "cell_type": "markdown",
   "id": "21123653",
   "metadata": {},
   "source": [
    "### => The null hypothesis (H0) is a statement of \"no effect\" or \"no difference\" between two groups or populations. It is assumed to be true until there is sufficient evidence to reject it. \n",
    "### => The alternative hypothesis (Ha) is a statement that contradicts the null hypothesis, stating that there is a significant difference or effect between the groups or populations being compared. The alternative hypothesis is only accepted if there is enough evidence to reject the null hypothesis.\n",
    "## \n",
    "## 1) A/B testing\n",
    "### => Null hypothesis (H0): There is no difference in the conversion rates between two versions of a website or mobile app.\n",
    "### => Alternative hypothesis (Ha): There is a significant difference in the conversion rates between two versions of a website or mobile app.\n",
    "## 2) Drug testing\n",
    "### => Null hypothesis (H0): The drug has no effect on the disease or condition being treated.\n",
    "### => Alternative hypothesis (Ha): The drug has a significant effect on the disease or condition being treated.\n",
    "\n",
    "## 3) Customer satisfaction\n",
    "### => Null hypothesis (H0): There is no significant difference in customer satisfaction between two products or services.\n",
    "### => Alternative hypothesis (Ha): There is a significant difference in customer satisfaction between two products or services."
   ]
  },
  {
   "cell_type": "markdown",
   "id": "104b316c",
   "metadata": {},
   "source": [
    "# 7] Write down the steps involved in hypothesis testing."
   ]
  },
  {
   "cell_type": "markdown",
   "id": "19997690",
   "metadata": {},
   "source": [
    "## 1) State the null and alternative hypotheses:\n",
    "## 2) Select a level of significance:\n",
    "## 3) Choose a test statistic:\n",
    "## 4) Determine the critical value:\n",
    "## 5) Collect and analyze the data:\n",
    "## 6) Calculate the p-value:\n",
    "## 7) Interpret the results:\n",
    "## 8) Draw conclusions:"
   ]
  },
  {
   "cell_type": "markdown",
   "id": "f2ff3334",
   "metadata": {},
   "source": [
    "# 8] Define p-value and explain its significance in hypothesis testing."
   ]
  },
  {
   "cell_type": "markdown",
   "id": "cf6f4166",
   "metadata": {},
   "source": [
    "### => In statistics, the p-value is a measure of the strength of evidence against a null hypothesis. Specifically, it represents the probability of observing a result as extreme or more extreme than the one observed, assuming that the null hypothesis is true.\n",
    "### \n",
    "### => The p-value is compared to a predetermined significance level (usually 0.05 or 0.01) to determine whether to reject or fail to reject the null hypothesis. If the p-value is less than or equal to the significance level, the result is considered statistically significant, and the null hypothesis is rejected in favor of the alternative hypothesis. Conversely, if the p-value is greater than the significance level, the result is not statistically significant, and the null hypothesis cannot be rejected.\n",
    "### => In practical terms, the p-value provides a way to quantify the strength of evidence against the null hypothesis. The smaller the p-value, the stronger the evidence against the null hypothesis and the greater the confidence that we can have in rejecting it. On the other hand, a larger p-value suggests weaker evidence against the null hypothesis, and we may not have enough evidence to reject it."
   ]
  },
  {
   "cell_type": "markdown",
   "id": "206b9d84",
   "metadata": {},
   "source": [
    "# 9] Generate a Student's t-distribution plot using Python's matplotlib library, with the degrees of freedom parameter set to 10."
   ]
  },
  {
   "cell_type": "code",
   "execution_count": 4,
   "id": "9485ef6a",
   "metadata": {},
   "outputs": [],
   "source": [
    "import numpy as np\n",
    "import matplotlib.pyplot as plt\n",
    "# import seaborn as sns"
   ]
  },
  {
   "cell_type": "code",
   "execution_count": 5,
   "id": "0e1506e8",
   "metadata": {},
   "outputs": [
    {
     "data": {
      "image/png": "[encoded data removed]",
      "text/plain": [
       "<Figure size 640x480 with 1 Axes>"
      ]
     },
     "metadata": {},
     "output_type": "display_data"
    }
   ],
   "source": [
    "t_dist=np.random.standard_t(10,100)\n",
    "plt.hist(t_dist)\n",
    "plt.show()"
   ]
  },
  {
   "cell_type": "markdown",
   "id": "a0b609af",
   "metadata": {},
   "source": [
    "# 10] Write a Python program to calculate the two-sample t-test for independent samples, given two random samples of equal size and a null hypothesis that the population means are equal."
   ]
  },
  {
   "cell_type": "code",
   "execution_count": 6,
   "id": "b7291089",
   "metadata": {},
   "outputs": [
    {
     "name": "stdout",
     "output_type": "stream",
     "text": [
      "Fail to reject null hypothesis\n"
     ]
    }
   ],
   "source": [
    "import numpy as np\n",
    "import scipy.stats as stats\n",
    "\n",
    "sample1 = np.array([22, 28, 35, 40, 42, 50, 55, 65, 68, 72])\n",
    "sample2 = np.array([25, 30, 32, 38, 42, 45, 48, 52, 58, 62])\n",
    "\n",
    "std1 = np.std(sample1)\n",
    "mean2 = np.mean(sample2)\n",
    "std2 = np.std(sample2)\n",
    "\n",
    "df = len(sample1) + len(sample2) - 2\n",
    "t_stat, p_val = stats.ttest_ind(sample1, sample2)\n",
    "alpha = 0.05\n",
    "\n",
    "if p_val < alpha:\n",
    "    print(\"Reject null hypothesis\")\n",
    "else:\n",
    "    print(\"Fail to reject null hypothesis\")\n"
   ]
  },
  {
   "cell_type": "markdown",
   "id": "2bcbd754",
   "metadata": {},
   "source": [
    "# 11] What is Student’s t distribution? When to use the t-Distribution."
   ]
  },
  {
   "cell_type": "markdown",
   "id": "300a66fe",
   "metadata": {},
   "source": [
    "### => The t-distribution, also known as the Student’s t-distribution, is a type of probability distribution that is similar to the normal distribution with its bell shape but has heavier tails. It is used for estimating population parameters for small sample sizes or unknown variances\n",
    "### \n",
    "### => The t-distribution is commonly used in hypothesis testing and confidence interval estimation, particularly when working with small sample sizes. For example, if you are comparing the means of two small samples (each with less than 30 observations), you would use the t-distribution to calculate the test statistic and determine whether the difference between the means is statistically significant."
   ]
  },
  {
   "cell_type": "markdown",
   "id": "d4675e42",
   "metadata": {},
   "source": [
    "# 12] What is t-statistic? State the formula for t-statistic."
   ]
  },
  {
   "cell_type": "markdown",
   "id": "431d993d",
   "metadata": {},
   "source": [
    "### => In statistics, the t-statistic is the ratio of the departure of the estimated value of a parameter from its hypothesized value to its standard error. \n",
    "### \n",
    "### t statistic = [ (x - μ) / {s / sqrt(n)}]"
   ]
  },
  {
   "cell_type": "markdown",
   "id": "7d8b0f04",
   "metadata": {},
   "source": [
    "# 13] A coffee shop owner wants to estimate the average daily revenue for their shop. They take a random sample of 50 days and find the sample mean revenue to be 500 dollar with a standard deviation of 50 dollar. Estimate the population mean revenue with a 95% confidence interval."
   ]
  },
  {
   "cell_type": "code",
   "execution_count": 7,
   "id": "dc85ad09",
   "metadata": {},
   "outputs": [
    {
     "data": {
      "text/plain": [
       "(486.1407070887437, 513.8592929112564)"
      ]
     },
     "execution_count": 7,
     "metadata": {},
     "output_type": "execute_result"
    }
   ],
   "source": [
    "Q13_ans=estimate_pop_mean(500,50,50)\n",
    "Q13_ans"
   ]
  },
  {
   "cell_type": "markdown",
   "id": "abd06fb1",
   "metadata": {},
   "source": [
    "# 14] A researcher hypothesizes that a new drug will decrease blood pressure by 10 mmHg. They conduct a clinical trial with 100 patients and find that the sample mean decrease in blood pressure is 8 mmHg with a standard deviation of 3 mmHg. Test the hypothesis with a significance level of 0.05."
   ]
  },
  {
   "cell_type": "markdown",
   "id": "64680fb3",
   "metadata": {},
   "source": [
    "### => H0: µ = 10\n",
    "### => Ha: µ < 10\n",
    "### \n",
    "### t = (8 - 10) / (3 / sqrt(100)) = -4.47\n",
    "### \n",
    "### => The critical t-value is -1.660.\n",
    "### \n",
    "### => Since the calculated t-value (-4.47) is less than the critical t-value (-1.660), we can reject the null hypothesis and conclude that there is sufficient evidence to support the alternative hypothesis that the true mean decrease in blood pressure is significantly less than 10 mmHg.\n",
    "### => Therefore, we can conclude that the new drug is effective in decreasing blood pressure."
   ]
  },
  {
   "cell_type": "markdown",
   "id": "db477f0c",
   "metadata": {},
   "source": [
    "# 15] An electronics company produces a certain type of product with a mean weight of 5 pounds and a standard deviation of 0.5 pounds. A random sample of 25 products is taken, and the sample mean weight is found to be 4.8 pounds. Test the hypothesis that the true mean weight of the products is less than 5 pounds with a significance level of 0.01."
   ]
  },
  {
   "cell_type": "markdown",
   "id": "fdae8a41",
   "metadata": {},
   "source": [
    "### => H0: µ=5\n",
    "### => Ha: µ<5\n",
    "### \n",
    "### t=(4.8 - 5) / 0.5/sqrt(25) = 2\n",
    "### \n",
    "### => The critical t-value is 1.318.\n",
    "### \n",
    "### => Since the calculated value is greater than the critical value.we can reject the null hypothesis.\n",
    "### => we conclude that there is sufficient evidence to reject the null hypothesis that true mean weight of the product is less than 5 pouunds. "
   ]
  },
  {
   "cell_type": "markdown",
   "id": "591f3453",
   "metadata": {},
   "source": [
    "# 16] Two groups of students are given different study materials to prepare for a test. The first group (n1 = 30) has a mean score of 80 with a standard deviation of 10, and the second group (n2 = 40) has a mean score of 75 with a standard deviation of 8. Test the hypothesis that the population means for the two groups are equal with a significance level of 0.01."
   ]
  },
  {
   "cell_type": "markdown",
   "id": "f3ad6898",
   "metadata": {},
   "source": [
    "### => H0: µ1 = µ2\n",
    "### => H0: µ1 ≠ µ2\n",
    "### \n",
    "### => t = (x̄1 -  x̄2) / s * sqrt(1/n1 + 1/n2)\n",
    "### => s = sqrt[(n1 * s1^2 + n2 * s2^2) / n1 + n2 - 2]\n",
    "### t = 1.5089\n",
    "###  \n",
    "### The critical t-value is 2.6495.\n",
    "### \n",
    "### =>  Since the calculated value is less than the critical value.we fail to reject the null hypothesis.\n",
    "### => we conclude that there is sufficient evidence that the population means for the two groups are equal"
   ]
  },
  {
   "cell_type": "markdown",
   "id": "18b060c9",
   "metadata": {},
   "source": [
    "# 17] A marketing company wants to estimate the average number of ads watched by viewers during a TV program. They take a random sample of 50 viewers and find that the sample mean is 4 with a standard deviation of 1.5. Estimate the population mean with a 99% confidence interval."
   ]
  },
  {
   "cell_type": "code",
   "execution_count": 8,
   "id": "8ea73040",
   "metadata": {},
   "outputs": [
    {
     "data": {
      "text/plain": [
       "(3.452699351361612, 4.547300648638387)"
      ]
     },
     "execution_count": 8,
     "metadata": {},
     "output_type": "execute_result"
    }
   ],
   "source": [
    "Q17_ans=estimate_pop_mean(4,1.5,50,2.58)\n",
    "Q17_ans"
   ]
  }
 ],
 "metadata": {
  "kernelspec": {
   "display_name": "Python 3 (ipykernel)",
   "language": "python",
   "name": "python3"
  },
  "language_info": {
   "codemirror_mode": {
    "name": "ipython",
    "version": 3
   },
   "file_extension": ".py",
   "mimetype": "text/x-python",
   "name": "python",
   "nbconvert_exporter": "python",
   "pygments_lexer": "ipython3",
   "version": "3.9.13"
  }
 },
 "nbformat": 4,
 "nbformat_minor": 5
}
