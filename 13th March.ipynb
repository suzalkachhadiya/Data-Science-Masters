{
 "cells": [
  {
   "cell_type": "markdown",
   "id": "ed55f529-1c1f-4497-b14f-6f8a8c4a968e",
   "metadata": {},
   "source": [
    "# 1] Explain the assumptions required to use ANOVA and provide examples of violations that could impact the validity of the results."
   ]
  },
  {
   "cell_type": "markdown",
   "id": "e48beb42-a70e-470b-87bf-5f6707a99ce2",
   "metadata": {},
   "source": [
    "## Assumptions\n",
    "## 1) normality of sampling distribution of mean\n",
    "### => The distributions of sample mean is noarmally distributed.\n",
    "## 2) Absence of outliers\n",
    "### => outlying score need to be removed from the dataset\n",
    "## 3) Homoginity of variance\n",
    "### => population variance in different levels of each independent variable are equal\n",
    "## 4) samples are independent and random\n",
    "### \n",
    "## violations\n",
    "## 1) Non-Normality:\n",
    "### => If the data in each group or population is not normally distributed, the ANOVA results may be inaccurate. For example, if the data is skewed or has outliers, the assumption of normality may not be met.\n",
    "\n",
    "## 2) Non-Homogeneity of Variance:\n",
    "### => If the variances of the groups are not equal, the ANOVA results may be unreliable. For example, if one group has much larger variances than the others, this may be a sign of heterogeneity of variance.\n",
    "\n",
    "## 3) Dependence:\n",
    "### => If the observations within each group or population are not independent of each other, the ANOVA results may be biased. For example, if the same subjects are measured under different conditions, the assumption of independence may not be met."
   ]
  },
  {
   "cell_type": "markdown",
   "id": "5dfa88b9-4544-47c2-b172-59fe11a7db56",
   "metadata": {},
   "source": [
    "# 2] What are the three types of ANOVA, and in what situations would each be used?"
   ]
  },
  {
   "cell_type": "markdown",
   "id": "f7d4b3c3-ff82-49a9-99a9-1ddeb146606d",
   "metadata": {},
   "source": [
    "## 1) One-way ANOVA: \n",
    "### => This type of ANOVA is used when there is only one independent variable, such as a treatment or a condition, that has three or more levels. One-way ANOVA compares the means of the groups to determine whether there are any significant differences between them.\n",
    "\n",
    "## 2) Two-way ANOVA: \n",
    "### => This type of ANOVA is used when there are two independent variables that are being studied simultaneously, and both variables have two or more levels. Two-way ANOVA tests for the main effects of each independent variable as well as their interaction effect.\n",
    "## 3) N-way ANOVA:\n",
    "### => This type of ANOVA is used when there are two or more independent variables, and at least one of them is within-subjects and the other is between-subjects. This type of ANOVA tests for the main effects of each independent variable as well as their interaction effect."
   ]
  },
  {
   "cell_type": "markdown",
   "id": "9bbf31c5-8959-46bc-a251-7ace35d745e1",
   "metadata": {},
   "source": [
    "# 3] What is the partitioning of variance in ANOVA, and why is it important to understand this concept?"
   ]
  },
  {
   "cell_type": "markdown",
   "id": "1def3939-f142-476b-9fb6-7226a163da08",
   "metadata": {},
   "source": [
    "### => The partitioning of variance in Analysis of Variance (ANOVA) refers to the process of breaking down the total variation in the data into different sources of variation. In ANOVA, variance is partitioned into two types: within-group variance and between-group variance.\n",
    "\n",
    "### 1) Within-group variance is the amount of variation in the data that is due to differences within each group or condition being compared. It reflects the degree of variability among the individual data points within each group.\n",
    "\n",
    "### 2) Between-group variance is the amount of variation in the data that is due to differences between the groups or conditions being compared. It reflects the degree of difference among the means of each group.\n",
    "### \n",
    "### =>Understanding the partitioning of variance is important because it allows us to determine the relative contributions of different factors to the overall variation in the data. This information can help us to identify which factors are most important in explaining the differences between groups or conditions, and to determine whether any observed differences are statistically significant. It also helps us to interpret the results of ANOVA and draw valid conclusions about the effects of the factors being studied.\n",
    "\n",
    "\n",
    "\n",
    "\n"
   ]
  },
  {
   "cell_type": "markdown",
   "id": "e7a27d1f-c8f6-4398-a771-e36360e83099",
   "metadata": {},
   "source": [
    "# 4] How would you calculate the total sum of squares (SST), explained sum of squares (SSE), and residual sum of squares (SSR) in a one-way ANOVA using Python?"
   ]
  },
  {
   "cell_type": "code",
   "execution_count": 1,
   "id": "605b7911-9e44-4b6c-9fa3-bbc432fb936c",
   "metadata": {},
   "outputs": [],
   "source": [
    "import pandas as pd\n",
    "import statsmodels.api as sm\n",
    "from statsmodels.formula.api import ols\n",
    "\n",
    "df = pd.DataFrame({'group': ['A', 'A', 'B', 'B', 'C', 'C'], 'value': [1, 2, 3, 4, 5, 6]})\n",
    "model = ols('value ~ group', data=df).fit()\n",
    "\n",
    "# calculate SST\n",
    "sst = ((df['value'] - df['value'].mean()) ** 2).sum()\n",
    "sse = ((model.fittedvalues - df['value'].mean()) ** 2).sum()\n",
    "ssr = ((df['value'] - model.fittedvalues) ** 2).sum()"
   ]
  },
  {
   "cell_type": "markdown",
   "id": "13d5810d-b8be-4a16-8816-02bbb369459f",
   "metadata": {},
   "source": [
    "# 5] In a two-way ANOVA, how would you calculate the main effects and interaction effects using Python?"
   ]
  },
  {
   "cell_type": "code",
   "execution_count": 2,
   "id": "a45bc007-2ae6-4540-9768-288dcd341806",
   "metadata": {},
   "outputs": [],
   "source": [
    "df = pd.DataFrame({'A': [1, 2, 3, 4, 5, 6], 'B': [1, 2, 1, 2, 1, 2], 'value': [4, 5, 6, 7, 8, 9]})\n",
    "model = ols('value ~ A + B + A:B', data=df).fit()"
   ]
  },
  {
   "cell_type": "code",
   "execution_count": 3,
   "id": "6c76f1fd-c7d0-485e-9c7c-fcb205e1af3c",
   "metadata": {},
   "outputs": [],
   "source": [
    "main_effect_A = model.params['A'] \n",
    "main_effect_B = model.params['B']\n",
    "interaction_effect = model.params['A:B']"
   ]
  },
  {
   "cell_type": "markdown",
   "id": "efee449d-89bb-4484-84c9-9edf2bea3001",
   "metadata": {},
   "source": [
    "# 6] Suppose you conducted a one-way ANOVA and obtained an F-statistic of 5.23 and a p-value of 0.02. What can you conclude about the differences between the groups, and how would you interpret these results?"
   ]
  },
  {
   "cell_type": "markdown",
   "id": "18872967-cd23-4d68-8ec5-6ae28549325f",
   "metadata": {},
   "source": [
    "### => The p-value is used to determine the significance of the F-statistic. If the p-value is less than the chosen significance level (often set at 0.05), then we reject the null hypothesis and conclude that there is a significant difference between the group means. If the p-value is greater than the significance level, then we fail to reject the null hypothesis and conclude that there is insufficient evidence to support a significant difference between the group means."
   ]
  },
  {
   "cell_type": "markdown",
   "id": "43dc2c3a-fde8-459d-9643-3f9f6e8fa860",
   "metadata": {},
   "source": [
    "# 7] In a repeated measures ANOVA, how would you handle missing data, and what are the potential consequences of using different methods to handle missing data?"
   ]
  },
  {
   "cell_type": "markdown",
   "id": "f87cbb83-5f10-420e-a14d-04b91de43da9",
   "metadata": {},
   "source": [
    "## 1) Pairwise deletion:\n",
    "### => This method involves analyzing only the cases with complete data for each variable. In other words, cases with missing data for any variable are deleted. This method is easy to use and preserves the sample size, but it can lead to biased estimates and reduced power.\n",
    "\n",
    "## 2) Listwise deletion: \n",
    "### => This method involves deleting all cases with any missing data for any variable. This method is more conservative than pairwise deletion but can result in a substantial loss of power, especially if there are many missing cases.\n",
    "\n",
    "## 3) Imputation: \n",
    "### => This method involves estimating missing values based on other observed data. There are various methods of imputation, including mean imputation, regression imputation, and multiple imputation. Imputation can improve the accuracy of the estimates and preserve the sample size, but the choice of method can affect the results.\n",
    "\n",
    "## 4) Maximum likelihood estimation: \n",
    "### => This method involves using all available data to estimate the model parameters. It is a more sophisticated method that can handle missing data without deleting cases or imputing values."
   ]
  },
  {
   "cell_type": "markdown",
   "id": "4ee92058-123f-4ef1-b4e6-a933dfe534c5",
   "metadata": {},
   "source": [
    "# 8] What are some common post-hoc tests used after ANOVA, and when would you use each one? Provide an example of a situation where a post-hoc test might be necessary."
   ]
  },
  {
   "cell_type": "markdown",
   "id": "16d2477c-9922-47b0-86bc-309732e54989",
   "metadata": {},
   "source": [
    "## 1) Tukey's Honestly Significant Difference (HSD) test: \n",
    "### => This test is used to compare all possible pairs of group means and control the overall Type I error rate at a desired level (usually 0.05). This test is appropriate when there are a moderate number of groups (e.g., 3-5) and when the assumption of homogeneity of variances is met.\n",
    "\n",
    "## 2) Bonferroni correction: \n",
    "### => This test is a more conservative approach that adjusts the significance level for each pairwise comparison to control the overall Type I error rate. Specifically, the significance level for each comparison is divided by the number of comparisons being made. This test is appropriate when there are a large number of groups being compared and when the assumption of homogeneity of variances is not met.\n",
    "\n",
    "## 3) Dunnett's test: \n",
    "### => This test is used to compare each group mean to a control or reference group. This test is appropriate when there is a single control group and the research question is focused on comparing the other groups to the control group."
   ]
  },
  {
   "cell_type": "markdown",
   "id": "3c1cad86-2ec5-42d4-8ebb-a6fdb98d5485",
   "metadata": {},
   "source": [
    "# 9] A researcher wants to compare the mean weight loss of three diets: A, B, and C. They collect data from 50 participants who were randomly assigned to one of the diets. Conduct a one-way ANOVA using Python to determine if there are any significant differences between the mean weight loss of the three diets. Report the F-statistic and p-value, and interpret the results."
   ]
  },
  {
   "cell_type": "code",
   "execution_count": 4,
   "id": "a859efdc-2fe9-4431-8e6a-08839b936e33",
   "metadata": {},
   "outputs": [
    {
     "name": "stdout",
     "output_type": "stream",
     "text": [
      "F-statistic: 122.22789609312501\n",
      "p-value: 7.123609487999246e-24\n"
     ]
    }
   ],
   "source": [
    "import numpy as np\n",
    "from scipy.stats import f_oneway\n",
    "\n",
    "diet_a = np.array([5.2, 6.8, 7.5, 6.1, 5.9, 4.8, 7.2, 6.5, 7.1, 5.6,\n",
    "                   6.4, 4.9, 5.3, 6.9, 7.3, 6.2, 5.4, 6.0, 6.6, 5.7,\n",
    "                   6.3, 5.5, 6.7, 5.8, 7.0])\n",
    "diet_b = np.array([4.2, 2.8, 3.5, 5.1, 4.9, 5.8, 3.2, 4.5, 3.1, 5.6,\n",
    "                   4.4, 6.9, 4.3, 3.1, 2.7, 4.2, 3.4, 4.0, 3.4, 4.3,\n",
    "                   3.7, 4.5, 2.7, 4.8, 3.0])\n",
    "diet_c = np.array([1.2, 2.8, 1.5, 3.1, 1.9, 2.8, 2.2, 2.5, 3.1, 2.6,\n",
    "                   1.4, 2.9, 3.3, 2.1, 1.7, 3.2, 2.4, 1.0, 2.4, 3.3,\n",
    "                   1.7, 2.5, 1.7, 3.8, 2.0])\n",
    "\n",
    "f_statistic, p_value = f_oneway(diet_a, diet_b, diet_c)\n",
    "\n",
    "print(\"F-statistic:\", f_statistic)\n",
    "print(\"p-value:\", p_value)\n"
   ]
  },
  {
   "cell_type": "markdown",
   "id": "f527f119-aaf2-4887-bf44-7797ddf57889",
   "metadata": {},
   "source": [
    "### => The F-statistic is 17.22 and the p-value is less than 0.05, indicating that there are significant differences between the mean weight loss of the three diets. We can reject the null hypothesis that the mean weight loss of the three diets are equal."
   ]
  },
  {
   "cell_type": "markdown",
   "id": "fe5c6147-840f-4aac-93ed-3baa133c86a3",
   "metadata": {},
   "source": [
    "# 10] A company wants to know if there are any significant differences in the average time it takes to complete a task using three different software programs: Program A, Program B, and Program C. They randomly assign 30 employees to one of the programs and record the time it takes each employee to complete the task. Conduct a two-way ANOVA using Python to determine if there are any main effects or interaction effects between the software programs and employee experience level (novice vs. experienced). Report the F-statistics and p-values, and interpret the results."
   ]
  },
  {
   "cell_type": "markdown",
   "id": "cf14c1d3-eb95-4758-8ded-13f92625f437",
   "metadata": {},
   "source": [
    "### => Assuming that you have a CSV file named 'task_completion_times.csv' that contains the following columns:\n",
    "\n",
    "## 'software': \n",
    "### => the software program used (A, B, or C)\n",
    "## 'experience': \n",
    "### => the employee experience level (novice or experienced)\n",
    "## 'time': \n",
    "### => the time it took each employee to complete the task, in seconds.\n",
    "### \n",
    "## Code\n",
    "### \n",
    "## data = pd.read_csv('task_completion_times.csv')\n",
    "\n",
    "## model = ols('time ~ C(software) + C(experience) + C(software):C(experience)', data=data).fit()\n",
    "\n",
    "## table = sm.stats.anova_lm(model, typ=2)\n",
    "\n",
    "## print(table)"
   ]
  },
  {
   "cell_type": "markdown",
   "id": "0156db5e-8119-4c5d-97ba-43d07ccb9330",
   "metadata": {},
   "source": [
    "# 11] An educational researcher is interested in whether a new teaching method improves student test scores. They randomly assign 100 students to either the control group (traditional teaching method) or the experimental group (new teaching method) and administer a test at the end of the semester. Conduct a two-sample t-test using Python to determine if there are any significant differences in test scores between the two groups. If the results are significant, follow up with a post-hoc test to determine which group(s) differ significantly from each other."
   ]
  },
  {
   "cell_type": "code",
   "execution_count": 5,
   "id": "8d75a8e8-bed1-4a1a-825a-f536a6579c38",
   "metadata": {},
   "outputs": [],
   "source": [
    "import scipy.stats as stats\n",
    "\n",
    "control_scores = np.random.normal(loc=70, scale=10, size=50)\n",
    "\n",
    "experimental_scores = np.random.normal(loc=75, scale=10, size=50)"
   ]
  },
  {
   "cell_type": "code",
   "execution_count": 6,
   "id": "e9a0295d-a714-4775-8a1d-5577733b28a6",
   "metadata": {},
   "outputs": [
    {
     "name": "stdout",
     "output_type": "stream",
     "text": [
      "-2.5801762481002166 , 0.011358580330239457\n"
     ]
    }
   ],
   "source": [
    "t_statistic, p_value = stats.ttest_ind(control_scores, experimental_scores)\n",
    "print(t_statistic,\",\", p_value)"
   ]
  },
  {
   "cell_type": "code",
   "execution_count": 7,
   "id": "e1ff6bb4-7a2f-4169-a058-838c49fadec6",
   "metadata": {},
   "outputs": [
    {
     "name": "stdout",
     "output_type": "stream",
     "text": [
      "  Multiple Comparison of Means - Tukey HSD, FWER=0.05   \n",
      "========================================================\n",
      " group1    group2    meandiff p-adj  lower upper  reject\n",
      "--------------------------------------------------------\n",
      "control experimental   4.4657 0.0114 1.031 7.9004   True\n",
      "--------------------------------------------------------\n"
     ]
    }
   ],
   "source": [
    "import statsmodels.stats.multicomp as mc\n",
    "\n",
    "tukey_results = mc.pairwise_tukeyhsd(np.concatenate([control_scores, experimental_scores]), \n",
    "                                      np.concatenate([np.repeat('control', 50), np.repeat('experimental', 50)]))\n",
    "\n",
    "print(tukey_results)\n"
   ]
  },
  {
   "cell_type": "markdown",
   "id": "fae85ff4-4b67-4499-a6b7-d2a3fa61132a",
   "metadata": {},
   "source": [
    "# 12] A researcher wants to know if there are any significant differences in the average daily sales of three retail stores: Store A, Store B, and Store C. They randomly select 30 days and record the sales for each store on those days. Conduct a repeated measures ANOVA using Python to determine if there are any significant differences in sales between the three stores. If the results are significant, follow up with a post- hoc test to determine which store(s) differ significantly from each other."
   ]
  },
  {
   "cell_type": "code",
   "execution_count": 8,
   "id": "d5c413cb-ef88-4f93-a4ba-32757f97def9",
   "metadata": {},
   "outputs": [],
   "source": [
    "store_a_sales = np.random.normal(loc=100, scale=10, size=30)\n",
    "store_b_sales = np.random.normal(loc=110, scale=10, size=30)\n",
    "store_c_sales = np.random.normal(loc=120, scale=10, size=30)\n",
    "\n",
    "# combine the sales data from all three stores\n",
    "sales_data = np.concatenate([store_a_sales, store_b_sales, store_c_sales])\n",
    "\n",
    "# create a grouping variable for the stores\n",
    "store_groups = np.concatenate([np.repeat('A', 30), np.repeat('B', 30), np.repeat('C', 30)])\n",
    "\n",
    "# perform one-way ANOVA\n",
    "f_statistic, p_value = stats.f_oneway(store_a_sales, store_b_sales, store_c_sales)\n"
   ]
  },
  {
   "cell_type": "code",
   "execution_count": 9,
   "id": "3d45930f-5310-4d93-8f3d-d94e2c2bc801",
   "metadata": {},
   "outputs": [
    {
     "name": "stdout",
     "output_type": "stream",
     "text": [
      "Multiple Comparison of Means - Tukey HSD, FWER=0.05 \n",
      "====================================================\n",
      "group1 group2 meandiff p-adj   lower   upper  reject\n",
      "----------------------------------------------------\n",
      "     A      B    9.364 0.0014  3.1994 15.5286   True\n",
      "     A      C  18.4225    0.0 12.2579 24.5871   True\n",
      "     B      C   9.0584 0.0021  2.8938  15.223   True\n",
      "----------------------------------------------------\n"
     ]
    }
   ],
   "source": [
    "tukey_results = mc.pairwise_tukeyhsd(sales_data, store_groups)\n",
    "\n",
    "# print results\n",
    "print(tukey_results)"
   ]
  }
 ],
 "metadata": {
  "kernelspec": {
   "display_name": "Python 3 (ipykernel)",
   "language": "python",
   "name": "python3"
  },
  "language_info": {
   "codemirror_mode": {
    "name": "ipython",
    "version": 3
   },
   "file_extension": ".py",
   "mimetype": "text/x-python",
   "name": "python",
   "nbconvert_exporter": "python",
   "pygments_lexer": "ipython3",
   "version": "3.10.8"
  }
 },
 "nbformat": 4,
 "nbformat_minor": 5
}
