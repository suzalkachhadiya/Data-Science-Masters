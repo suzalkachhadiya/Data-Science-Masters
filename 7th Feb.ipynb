{
 "cells": [
  {
   "cell_type": "markdown",
   "id": "246be80b",
   "metadata": {},
   "source": [
    "# 1] To check wheather a password enter by the user is correct or not."
   ]
  },
  {
   "cell_type": "code",
   "execution_count": 1,
   "id": "07daf844",
   "metadata": {},
   "outputs": [],
   "source": [
    "def counter(st):\n",
    "    count_lower,count_upper,count_number,count_speChar=0,0,0,0\n",
    "    for i in st:\n",
    "        if i.islower():\n",
    "            count_lower=count_lower+1\n",
    "        elif i.isupper():\n",
    "            count_upper=count_upper+1\n",
    "        elif i.isdigit():\n",
    "            count_number=count_number+1 \n",
    "        else: count_speChar=count_speChar+1\n",
    "    return count_lower,count_upper,count_number,count_speChar\n",
    "        \n",
    "        "
   ]
  },
  {
   "cell_type": "code",
   "execution_count": 2,
   "id": "bb1ba744",
   "metadata": {},
   "outputs": [],
   "source": [
    "def check():\n",
    "    password=input()\n",
    "    a,b,c,d=counter(password)\n",
    "    if a>=2 and b>=2 and c>=1 and d>=1 and len(password)==10:\n",
    "        print(\"Valid Password\")\n",
    "    else: print(\"Invalid Password\")"
   ]
  },
  {
   "cell_type": "code",
   "execution_count": 3,
   "id": "422075e8",
   "metadata": {},
   "outputs": [
    {
     "name": "stdout",
     "output_type": "stream",
     "text": [
      "2aaSD%&^k1\n",
      "Valid Password\n"
     ]
    }
   ],
   "source": [
    "check()"
   ]
  },
  {
   "cell_type": "code",
   "execution_count": 4,
   "id": "d0553709",
   "metadata": {},
   "outputs": [
    {
     "name": "stdout",
     "output_type": "stream",
     "text": [
      "PQ@1#4% iot\n",
      "Invalid Password\n"
     ]
    }
   ],
   "source": [
    "check()"
   ]
  },
  {
   "cell_type": "markdown",
   "id": "285f3fd5",
   "metadata": {},
   "source": [
    "# 2] "
   ]
  },
  {
   "cell_type": "markdown",
   "id": "e26ed26e",
   "metadata": {},
   "source": [
    "## 1) Check if the string starts with a particular letter."
   ]
  },
  {
   "cell_type": "code",
   "execution_count": 16,
   "id": "317c9574",
   "metadata": {},
   "outputs": [
    {
     "name": "stdout",
     "output_type": "stream",
     "text": [
      "True\n"
     ]
    }
   ],
   "source": [
    "stQ1=\"aman\"\n",
    "letter=\"a\"\n",
    "resultQ1=(lambda x: True if x[0]==\"a\" else False)\n",
    "print(resultQ1(stQ1))"
   ]
  },
  {
   "cell_type": "markdown",
   "id": "852efeba",
   "metadata": {},
   "source": [
    "## 2) Check if the string is numeric."
   ]
  },
  {
   "cell_type": "code",
   "execution_count": 19,
   "id": "53de5558",
   "metadata": {},
   "outputs": [
    {
     "name": "stdout",
     "output_type": "stream",
     "text": [
      "False\n"
     ]
    }
   ],
   "source": [
    "stQ2=\"2920s3\"\n",
    "resultQ2=(lambda x: True if x.isnumeric() else False)\n",
    "print(resultQ2(stQ2))"
   ]
  },
  {
   "cell_type": "markdown",
   "id": "7d3cbad9",
   "metadata": {},
   "source": [
    "## 3) Sort a list of tuples having fruit names and their quantity. [(\"mango\",99),(\"orange\",80), (\"grapes\", 1000)]"
   ]
  },
  {
   "cell_type": "code",
   "execution_count": 23,
   "id": "c697c9b2",
   "metadata": {},
   "outputs": [
    {
     "name": "stdout",
     "output_type": "stream",
     "text": [
      "[('grapes', 1000), ('mango', 99), ('orange', 80)]\n",
      "[('orange', 80), ('mango', 99), ('grapes', 1000)]\n"
     ]
    }
   ],
   "source": [
    "given_listQ3=[(\"mango\",99),(\"orange\",80), (\"grapes\", 1000)]\n",
    "given_listQ3.sort(key=lambda x:x[0])\n",
    "print(given_listQ3)\n",
    "given_listQ3.sort(key=lambda x:x[1])\n",
    "print(given_listQ3)"
   ]
  },
  {
   "cell_type": "markdown",
   "id": "58db403f",
   "metadata": {},
   "source": [
    "## 4) Find the squares of numbers from 1 to 10."
   ]
  },
  {
   "cell_type": "code",
   "execution_count": 33,
   "id": "6af30a51",
   "metadata": {},
   "outputs": [
    {
     "name": "stdout",
     "output_type": "stream",
     "text": [
      "[1, 4, 9, 16, 25, 36, 49, 64, 81, 100]\n"
     ]
    }
   ],
   "source": [
    "given_listQ4=[i for i in range(1,11)]\n",
    "resultQ4=list(map(lambda x:x**2,given_listQ4))\n",
    "print(resultQ4)"
   ]
  },
  {
   "cell_type": "markdown",
   "id": "b061f03c",
   "metadata": {},
   "source": [
    "## 5) Find the cube root of numbers from 1 to 10."
   ]
  },
  {
   "cell_type": "code",
   "execution_count": 34,
   "id": "afab5a0b",
   "metadata": {},
   "outputs": [
    {
     "name": "stdout",
     "output_type": "stream",
     "text": [
      "[1, 8, 27, 64, 125, 216, 343, 512, 729, 1000]\n"
     ]
    }
   ],
   "source": [
    "given_listQ5=[i for i in range(1,11)]\n",
    "resultQ5=list(map(lambda x:x**3,given_listQ5))\n",
    "print(resultQ5)"
   ]
  },
  {
   "cell_type": "markdown",
   "id": "dc525c2d",
   "metadata": {},
   "source": [
    "## 6) Check if a given number is even."
   ]
  },
  {
   "cell_type": "code",
   "execution_count": 37,
   "id": "c6c64d74",
   "metadata": {},
   "outputs": [
    {
     "name": "stdout",
     "output_type": "stream",
     "text": [
      "True\n"
     ]
    }
   ],
   "source": [
    "given_numberQ6=5252552\n",
    "resultQ6=(lambda x: True if x%2==0 else False)\n",
    "print(resultQ6(given_numberQ6))"
   ]
  },
  {
   "cell_type": "markdown",
   "id": "0f91ef85",
   "metadata": {},
   "source": [
    "## 7) Filter odd numbers from the given list."
   ]
  },
  {
   "cell_type": "code",
   "execution_count": 41,
   "id": "4b1ab126",
   "metadata": {},
   "outputs": [
    {
     "name": "stdout",
     "output_type": "stream",
     "text": [
      "[1, 3, 5, 7, 9]\n"
     ]
    }
   ],
   "source": [
    "given_listQ7=[1,2,3,4,5,6,7,8,9,10]\n",
    "resultQ7=list(filter(lambda x:x%2!=0,given_listQ7))\n",
    "print(resultQ7)"
   ]
  },
  {
   "cell_type": "markdown",
   "id": "29178de0",
   "metadata": {},
   "source": [
    "## 8) Sort a list of integers into positive and negative integers lists."
   ]
  },
  {
   "cell_type": "code",
   "execution_count": 45,
   "id": "6b9e4373",
   "metadata": {},
   "outputs": [
    {
     "name": "stdout",
     "output_type": "stream",
     "text": [
      "[0, 1, 2, 3, 4, 5, 6, -5, -4, -3, -2, -1]\n"
     ]
    }
   ],
   "source": [
    "given_listQ8=[1,2,3,4,5,6,-1,-2,-3,-4,-5,0]\n",
    "resultQ8= sorted(filter(lambda x: x >= 0, given_listQ8))+sorted(filter(lambda x: x < 0, given_listQ8))\n",
    "print(resultQ8)"
   ]
  }
 ],
 "metadata": {
  "kernelspec": {
   "display_name": "Python 3 (ipykernel)",
   "language": "python",
   "name": "python3"
  },
  "language_info": {
   "codemirror_mode": {
    "name": "ipython",
    "version": 3
   },
   "file_extension": ".py",
   "mimetype": "text/x-python",
   "name": "python",
   "nbconvert_exporter": "python",
   "pygments_lexer": "ipython3",
   "version": "3.9.13"
  }
 },
 "nbformat": 4,
 "nbformat_minor": 5
}
