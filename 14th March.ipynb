{
 "cells": [
  {
   "cell_type": "markdown",
   "id": "ed67cedc-fc6b-42ac-ba55-7eb5a7446d24",
   "metadata": {},
   "source": [
    "# 1] Write a Python function that takes in two arrays of data and calculates the F-value for a variance ratio test. The function should return the F-value and the corresponding p-value for the test."
   ]
  },
  {
   "cell_type": "code",
   "execution_count": 1,
   "id": "30a54c2c-8862-4e74-b174-e663642d49a2",
   "metadata": {},
   "outputs": [],
   "source": [
    "import numpy as np\n",
    "from scipy.stats import f"
   ]
  },
  {
   "cell_type": "code",
   "execution_count": 2,
   "id": "62d6ae7c-b71b-41d4-8191-971c224b7653",
   "metadata": {},
   "outputs": [],
   "source": [
    "def variance_ratio_test(arr1, arr2):\n",
    "    var1 = np.var(arr1, ddof=1)\n",
    "    var2 = np.var(arr2, ddof=1)\n",
    "\n",
    "    f_value = var1 / var2 if var1 > var2 else var2 / var1\n",
    "    dof1 = len(arr1) - 1\n",
    "    dof2 = len(arr2) - 1\n",
    "    p_value = f.sf(f_value, dof1, dof2)\n",
    "\n",
    "    return f_value, p_value"
   ]
  },
  {
   "cell_type": "code",
   "execution_count": 3,
   "id": "c38dcebe-f114-45c2-8682-767ec1a7f573",
   "metadata": {},
   "outputs": [
    {
     "data": {
      "text/plain": [
       "(1.2, 0.40138586560358075)"
      ]
     },
     "execution_count": 3,
     "metadata": {},
     "output_type": "execute_result"
    }
   ],
   "source": [
    "df1=[1,2,3,4,5,6,7,8,9]\n",
    "df2=[3,7,5,6,4,5,8,1,9]\n",
    "variance_ratio_test(df1,df2)"
   ]
  },
  {
   "cell_type": "markdown",
   "id": "02cf9d13-4e42-4125-be61-57ec4635c16e",
   "metadata": {},
   "source": [
    "# 2] Given a significance level of 0.05 and the degrees of freedom for the numerator and denominator of an F-distribution, write a Python function that returns the critical F-value for a two-tailed test."
   ]
  },
  {
   "cell_type": "code",
   "execution_count": 4,
   "id": "a1850f32-7a2f-4a76-9f81-274a554117fd",
   "metadata": {},
   "outputs": [],
   "source": [
    "import scipy.stats as stat"
   ]
  },
  {
   "cell_type": "code",
   "execution_count": 5,
   "id": "d9edb0fa-8df7-4d06-8497-21997de0a0f7",
   "metadata": {},
   "outputs": [],
   "source": [
    "def critical_value(arr1, arr2):\n",
    "    var1 = np.var(arr1, ddof=1)\n",
    "    var2 = np.var(arr2, ddof=1)\n",
    "\n",
    "    f_value = var1 / var2 if var1 > var2 else var2 / var1\n",
    "    \n",
    "    dof1 = len(arr1) - 1\n",
    "    dof2 = len(arr2) - 1\n",
    "    significance_value=0.05\n",
    "    \n",
    "    return stat.f.ppf(q=1-significance_value,dfn=dof1,dfd=dof2)"
   ]
  },
  {
   "cell_type": "code",
   "execution_count": 6,
   "id": "d7e206ea-5b22-4ce5-ad84-68f951c95459",
   "metadata": {},
   "outputs": [
    {
     "data": {
      "text/plain": [
       "3.438101233373157"
      ]
     },
     "execution_count": 6,
     "metadata": {},
     "output_type": "execute_result"
    }
   ],
   "source": [
    "critical_value(df1,df2)"
   ]
  },
  {
   "cell_type": "markdown",
   "id": "9956ff4d-6c09-4d97-8a3f-d48dacd26dc7",
   "metadata": {},
   "source": [
    "# 3] Write a Python program that generates random samples from two normal distributions with known variances and uses an F-test to determine if the variances are equal. The program should output the F- value, degrees of freedom, and p-value for the test."
   ]
  },
  {
   "cell_type": "code",
   "execution_count": 7,
   "id": "e440071b-8047-4d27-b3f2-0ada63058eb8",
   "metadata": {},
   "outputs": [],
   "source": [
    "def f_test_for_variance(arr1, arr2):\n",
    "    var1 = np.var(arr1, ddof=1)\n",
    "    var2 = np.var(arr2, ddof=1)\n",
    "\n",
    "    f_value = var1 / var2 if var1 > var2 else var2 / var1\n",
    "    dof1 = len(arr1) - 1\n",
    "    dof2 = len(arr2) - 1\n",
    "    p_value = f.sf(f_value, dof1, dof2)\n",
    "\n",
    "    return f_value, p_value,(dof1+dof2)"
   ]
  },
  {
   "cell_type": "code",
   "execution_count": 8,
   "id": "4d13c306-c3fd-4026-92ed-69e886346ad1",
   "metadata": {},
   "outputs": [],
   "source": [
    "Q3_arr1 = np.random.normal(loc=80, scale=10, size=50)\n",
    "Q3_arr2 = np.random.normal(loc=100, scale=10, size=50)"
   ]
  },
  {
   "cell_type": "code",
   "execution_count": 9,
   "id": "e54b9e8d-de73-4453-b51a-1caec558de78",
   "metadata": {},
   "outputs": [
    {
     "data": {
      "text/plain": [
       "(1.0209258252506226, 0.47125514960623893, 98)"
      ]
     },
     "execution_count": 9,
     "metadata": {},
     "output_type": "execute_result"
    }
   ],
   "source": [
    "f_test_for_variance(Q3_arr1,Q3_arr2)"
   ]
  },
  {
   "cell_type": "code",
   "execution_count": 10,
   "id": "97eb9d9d-61c0-459f-bfd1-23a504276591",
   "metadata": {},
   "outputs": [
    {
     "data": {
      "text/plain": [
       "1.6072894627459253"
      ]
     },
     "execution_count": 10,
     "metadata": {},
     "output_type": "execute_result"
    }
   ],
   "source": [
    "critical_value(Q3_arr1,Q3_arr2)"
   ]
  },
  {
   "cell_type": "markdown",
   "id": "df8d08af-6645-46cc-bca1-4d87f17038a0",
   "metadata": {},
   "source": [
    "### => f value is less than critical value\n",
    "### => we conclude that there is no significant difference into the variances."
   ]
  },
  {
   "cell_type": "code",
   "execution_count": null,
   "id": "f434e266-7f6e-4b94-9426-5f4e216780d4",
   "metadata": {},
   "outputs": [],
   "source": []
  },
  {
   "cell_type": "markdown",
   "id": "18722604-5875-44fc-8199-83e16aa50162",
   "metadata": {},
   "source": [
    "# 4] The variances of two populations are known to be 10 and 15. A sample of 12 observations is taken from each population. Conduct an F-test at the 5% significance level to determine if the variances are significantly different."
   ]
  },
  {
   "cell_type": "markdown",
   "id": "3558ce02-2270-4795-9f0c-3b035a77e604",
   "metadata": {},
   "source": [
    "### => σ₁² = 10 and σ₂² = 15, and the sample sizes as n₁ = n₂ = 12\n",
    "### => s₁² = 11.2 (from the first population with σ₁² = 10 and n₁ = 12)\n",
    "### => s₂² = 16.8 (from the second population with σ₂² = 15 and n₂ = 12)\n",
    "\n",
    "### => F = s₁² / s₂² = 11.2 / 16.8 = 0.6667\n",
    "\n",
    "### => The degrees of freedom are df₁ = 11 and df₂ = 11. Using an F-distribution table, we find that the critical value for a 5% significance level and degrees of freedom (11,11) is 2.348.\n",
    "\n",
    "### => Since our calculated F-value (0.6667) is less than the critical value (2.348), we fail to reject the null hypothesis. Therefore, we can conclude that there is not enough evidence to suggest that the variances of the two populations are significantly different at the 5% level of significance."
   ]
  },
  {
   "cell_type": "markdown",
   "id": "ce0435a2-583e-412e-b5c1-dcf3c828f39f",
   "metadata": {},
   "source": [
    "# 5] A manufacturer claims that the variance of the diameter of a certain product is 0.005. A sample of 25 products is taken, and the sample variance is found to be 0.006. Conduct an F-test at the 1% significance level to determine if the claim is justified."
   ]
  },
  {
   "cell_type": "markdown",
   "id": "e9558bc2-2ea5-4a73-ac89-66e25747cb82",
   "metadata": {},
   "source": [
    "### => claimed population variance as σ₀² = 0.005 and the sample variance as s² = 0.006, with a sample size of n = 25.\n",
    "\n",
    "### => F = s² / σ₀²\n",
    "\n",
    "### => Under the null hypothesis, the test statistic F follows an F-distribution with degrees of freedom (df₁ = n - 1) and (df₂ = ∞). We will use a 1% significance level, which means that we will reject the null hypothesis if the p-value is less than 0.01.\n",
    "\n",
    "### => Let's calculate the test statistic:\n",
    "\n",
    "### => F = s² / σ₀² = 0.006 / 0.005 = 1.2\n",
    "\n",
    "### => The degrees of freedom are df₁ = 24 and df₂ = ∞. Using an F-distribution table or a statistical software, we find that the critical value for a 1% significance level and degrees of freedom (24, ∞) is 2.919.\n",
    "\n",
    "### => Since our calculated F-value (1.2) is less than the critical value (2.919), we fail to reject the null hypothesis. Therefore, we can conclude that there is not enough evidence to suggest that the claimed population variance of 0.005 is unjustified at the 1% level of significance.\n"
   ]
  },
  {
   "cell_type": "markdown",
   "id": "4a7e422c-e2f7-4cbd-9d45-74b100614fa6",
   "metadata": {},
   "source": [
    "# 6] Write a Python function that takes in the degrees of freedom for the numerator and denominator of an F-distribution and calculates the mean and variance of the distribution. The function should return the mean and variance as a tuple."
   ]
  },
  {
   "cell_type": "code",
   "execution_count": 11,
   "id": "f4479155-5a5c-4ee2-a93f-4b8c70336878",
   "metadata": {},
   "outputs": [],
   "source": [
    "import math\n",
    "\n",
    "def f_distribution_mean_var(df1, df2):\n",
    "    if df1 <= 0 or df2 <= 0:\n",
    "        raise ValueError(\"Degrees of freedom must be positive.\")\n",
    "    elif df2 == 1:\n",
    "        return math.inf, math.inf\n",
    "    else:\n",
    "        mean = df2 / (df2 - 2)\n",
    "        variance = (2 * df2**2 * (df1 + df2 - 2)) / (df1 * (df2 - 2)**2 * (df2 - 4))\n",
    "        return mean, variance"
   ]
  },
  {
   "cell_type": "code",
   "execution_count": null,
   "id": "f8fae97a-0f02-4c99-988a-55f2e26ed81b",
   "metadata": {},
   "outputs": [],
   "source": []
  },
  {
   "cell_type": "markdown",
   "id": "01f9c793-a63e-4ae7-bff9-60b98b4bf1f6",
   "metadata": {},
   "source": [
    "# 7] A random sample of 10 measurements is taken from a normal population with unknown variance. The sample variance is found to be 25. Another random sample of 15 measurements is taken from another normal population with unknown variance, and the sample variance is found to be 20. Conduct an F-test at the 10% significance level to determine if the variances are significantly different."
   ]
  },
  {
   "cell_type": "code",
   "execution_count": 12,
   "id": "d9d71094-3eec-4bc2-bbee-a444559f632c",
   "metadata": {},
   "outputs": [
    {
     "name": "stdout",
     "output_type": "stream",
     "text": [
      "Fail to reject null hypothesis, variances are not significantly different.\n"
     ]
    }
   ],
   "source": [
    "s1_sq = 25\n",
    "s2_sq = 20\n",
    "n1 = 10\n",
    "n2 = 15\n",
    "\n",
    "F = s1_sq / s2_sq\n",
    "\n",
    "df1 = n1 - 1\n",
    "df2 = n2 - 1\n",
    "p_value = 2 * (1 - stat.f.cdf(F, df1, df2))\n",
    "\n",
    "alpha = 0.1\n",
    "if p_value < alpha:\n",
    "    print(\"Reject null hypothesis, variances are significantly different.\")\n",
    "else:\n",
    "    print(\"Fail to reject null hypothesis, variances are not significantly different.\")\n"
   ]
  },
  {
   "cell_type": "markdown",
   "id": "5260178c-8826-4905-b621-0275d4396bd1",
   "metadata": {},
   "source": [
    "# 8] The following data represent the waiting times in minutes at two different restaurants on a Saturday night: Restaurant A: 24, 25, 28, 23, 22, 20, 27; Restaurant B: 31, 33, 35, 30, 32, 36. Conduct an F-test at the 5% significance level to determine if the variances are significantly different."
   ]
  },
  {
   "cell_type": "code",
   "execution_count": 13,
   "id": "64f98675-ca24-41a2-a539-fe2d2e395fbb",
   "metadata": {},
   "outputs": [
    {
     "data": {
      "text/plain": [
       "(1.4551907719609583, 0.34874078739687414)"
      ]
     },
     "execution_count": 13,
     "metadata": {},
     "output_type": "execute_result"
    }
   ],
   "source": [
    "a=[24, 25, 28, 23, 22, 20, 27]\n",
    "b=[ 31, 33, 35, 30, 32, 36]\n",
    "variance_ratio_test(a,b)"
   ]
  },
  {
   "cell_type": "code",
   "execution_count": 14,
   "id": "f0d881fb-7adb-4a16-aec2-1bb8b1c83b46",
   "metadata": {},
   "outputs": [
    {
     "data": {
      "text/plain": [
       "4.950288068694318"
      ]
     },
     "execution_count": 14,
     "metadata": {},
     "output_type": "execute_result"
    }
   ],
   "source": [
    "critical_value(a,b)"
   ]
  },
  {
   "cell_type": "markdown",
   "id": "c91aee15-104e-4967-a366-026f503f4179",
   "metadata": {},
   "source": [
    "### => f value is less than critical value, we are fail to reject null hypothesis.\n",
    "### => there is no significance difference between the variance."
   ]
  },
  {
   "cell_type": "code",
   "execution_count": null,
   "id": "be1491e1-6a68-4d7e-8974-a86fd9be502d",
   "metadata": {},
   "outputs": [],
   "source": []
  },
  {
   "cell_type": "markdown",
   "id": "f5fc6406-d0c5-47a7-a446-757903878424",
   "metadata": {},
   "source": [
    "# 9] The following data represent the test scores of two groups of students: Group A: 80, 85, 90, 92, 87, 83; Group B: 75, 78, 82, 79, 81, 84. Conduct an F-test at the 1% significance level to determine if the variances are significantly different."
   ]
  },
  {
   "cell_type": "code",
   "execution_count": 15,
   "id": "cd3ac668-4de9-44c5-b705-3f821e396001",
   "metadata": {},
   "outputs": [
    {
     "data": {
      "text/plain": [
       "(1.9442622950819677, 0.2415521774535344)"
      ]
     },
     "execution_count": 15,
     "metadata": {},
     "output_type": "execute_result"
    }
   ],
   "source": [
    "group_a=[80, 85, 90, 92, 87, 83]\n",
    "group_b=[75, 78, 82, 79, 81, 84]\n",
    "variance_ratio_test(group_a,group_b)"
   ]
  },
  {
   "cell_type": "code",
   "execution_count": 19,
   "id": "7bf72449-8b78-43c3-8e34-8b0077206fd5",
   "metadata": {},
   "outputs": [],
   "source": [
    "def critical_value_1_per(arr1, arr2):\n",
    "    var1 = np.var(arr1, ddof=1)\n",
    "    var2 = np.var(arr2, ddof=1)\n",
    "\n",
    "    f_value = var1 / var2 if var1 > var2 else var2 / var1\n",
    "    \n",
    "    dof1 = len(arr1) - 1\n",
    "    dof2 = len(arr2) - 1\n",
    "    significance_value=0.01\n",
    "    \n",
    "    return f_value,stat.f.ppf(q=1-significance_value,dfn=dof1,dfd=dof2)"
   ]
  },
  {
   "cell_type": "code",
   "execution_count": 20,
   "id": "f9476f00-b9e0-4acd-8ad2-a09428601948",
   "metadata": {},
   "outputs": [
    {
     "data": {
      "text/plain": [
       "(1.9442622950819677, 10.967020650907992)"
      ]
     },
     "execution_count": 20,
     "metadata": {},
     "output_type": "execute_result"
    }
   ],
   "source": [
    "critical_value_1_per(group_a,group_b)"
   ]
  },
  {
   "cell_type": "markdown",
   "id": "7a55df83-81ac-4ae2-ac36-8b702c96546e",
   "metadata": {},
   "source": [
    "### => f value is less than critical value, we are fail to reject null hypothesis.\n",
    "### => there is no significance difference between the variance."
   ]
  },
  {
   "cell_type": "code",
   "execution_count": null,
   "id": "3cb68a7c-76fe-451c-ac8b-e3c2b191676b",
   "metadata": {},
   "outputs": [],
   "source": []
  }
 ],
 "metadata": {
  "kernelspec": {
   "display_name": "Python 3 (ipykernel)",
   "language": "python",
   "name": "python3"
  },
  "language_info": {
   "codemirror_mode": {
    "name": "ipython",
    "version": 3
   },
   "file_extension": ".py",
   "mimetype": "text/x-python",
   "name": "python",
   "nbconvert_exporter": "python",
   "pygments_lexer": "ipython3",
   "version": "3.10.8"
  }
 },
 "nbformat": 4,
 "nbformat_minor": 5
}
