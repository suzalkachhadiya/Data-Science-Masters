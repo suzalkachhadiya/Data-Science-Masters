{
 "cells": [
  {
   "cell_type": "markdown",
   "id": "d0027e85",
   "metadata": {},
   "source": [
    "# 1] Create a python program to sort the given list of tuples based on integer value using a lambda function."
   ]
  },
  {
   "cell_type": "code",
   "execution_count": 1,
   "id": "237dc8dc",
   "metadata": {},
   "outputs": [
    {
     "data": {
      "text/plain": [
       "[('Virat Kohli', 24936),\n",
       " ('Jack Kallis', 25534),\n",
       " ('Ricky Ponting', 27483),\n",
       " ('Sachin Tendulkar', 34357)]"
      ]
     },
     "execution_count": 1,
     "metadata": {},
     "output_type": "execute_result"
    }
   ],
   "source": [
    "given_listQ1=[('Sachin Tendulkar', 34357), ('Ricky Ponting', 27483), ('Jack Kallis', 25534), ('Virat Kohli', 24936)]\n",
    "given_listQ1.sort(key=lambda x:x[1])\n",
    "given_listQ1"
   ]
  },
  {
   "cell_type": "markdown",
   "id": "bf8a446b",
   "metadata": {},
   "source": [
    "# 2] Write a Python Program to find the squares of all the numbers in the given list of integers using lambda and map functions."
   ]
  },
  {
   "cell_type": "code",
   "execution_count": 2,
   "id": "71e93098",
   "metadata": {},
   "outputs": [
    {
     "data": {
      "text/plain": [
       "[1, 4, 9, 16, 25, 36, 49, 64, 81, 100]"
      ]
     },
     "execution_count": 2,
     "metadata": {},
     "output_type": "execute_result"
    }
   ],
   "source": [
    "given_listQ2=[1, 2, 3, 4, 5, 6, 7, 8, 9, 10]\n",
    "lst=list(map(lambda x:x**2,given_listQ2))\n",
    "lst"
   ]
  },
  {
   "cell_type": "markdown",
   "id": "ea6b6892",
   "metadata": {},
   "source": [
    "# 3] Write a python program to convert the given list of integers into a tuple of strings. Use map and lambda functions."
   ]
  },
  {
   "cell_type": "code",
   "execution_count": 3,
   "id": "93cda3fb",
   "metadata": {},
   "outputs": [
    {
     "data": {
      "text/plain": [
       "('1', '2', '3', '4', '5', '6', '7', '8', '9', '10')"
      ]
     },
     "execution_count": 3,
     "metadata": {},
     "output_type": "execute_result"
    }
   ],
   "source": [
    "given_listQ3=[1, 2, 3, 4, 5, 6, 7, 8, 9, 10]\n",
    "tpl=tuple(map(lambda x:str(x),given_listQ3))\n",
    "tpl"
   ]
  },
  {
   "cell_type": "markdown",
   "id": "6282ee90",
   "metadata": {},
   "source": [
    "# 4] Write a python program using reduce function to compute the product of a list containing numbers from 1 to 25."
   ]
  },
  {
   "cell_type": "code",
   "execution_count": 4,
   "id": "e27f6263",
   "metadata": {},
   "outputs": [
    {
     "data": {
      "text/plain": [
       "15511210043330985984000000"
      ]
     },
     "execution_count": 4,
     "metadata": {},
     "output_type": "execute_result"
    }
   ],
   "source": [
    "from functools import reduce\n",
    "given_listQ4=[i for i in range(1,26)]\n",
    "reduce(lambda x,y:x*y,given_listQ4)"
   ]
  },
  {
   "cell_type": "markdown",
   "id": "ef763cf2",
   "metadata": {},
   "source": [
    "# 5] Write a python program to filter the numbers in a given list that are divisible by 2 and 3 using the filter function."
   ]
  },
  {
   "cell_type": "code",
   "execution_count": 5,
   "id": "c837d46e",
   "metadata": {},
   "outputs": [
    {
     "data": {
      "text/plain": [
       "[6, 60, 90, 120]"
      ]
     },
     "execution_count": 5,
     "metadata": {},
     "output_type": "execute_result"
    }
   ],
   "source": [
    "given_listQ5=[2, 3, 6, 9, 27, 60, 90, 120, 55, 46]\n",
    "lst1=list(filter(lambda x: (x%2==0 and x%3==0),given_listQ5))\n",
    "lst1"
   ]
  },
  {
   "cell_type": "markdown",
   "id": "ed30c85f",
   "metadata": {},
   "source": [
    "# 6] Write a python program to find palindromes in the given list of strings using lambda and filter function."
   ]
  },
  {
   "cell_type": "code",
   "execution_count": 6,
   "id": "3749cec3",
   "metadata": {},
   "outputs": [
    {
     "data": {
      "text/plain": [
       "['php', 'aba', 'radar', 'level']"
      ]
     },
     "execution_count": 6,
     "metadata": {},
     "output_type": "execute_result"
    }
   ],
   "source": [
    "given_listQ6=['python', 'php', 'aba', 'radar', 'level']\n",
    "lst2=list(filter(lambda x:x==x[::-1],given_listQ6))\n",
    "lst2"
   ]
  }
 ],
 "metadata": {
  "kernelspec": {
   "display_name": "Python 3 (ipykernel)",
   "language": "python",
   "name": "python3"
  },
  "language_info": {
   "codemirror_mode": {
    "name": "ipython",
    "version": 3
   },
   "file_extension": ".py",
   "mimetype": "text/x-python",
   "name": "python",
   "nbconvert_exporter": "python",
   "pygments_lexer": "ipython3",
   "version": "3.9.13"
  }
 },
 "nbformat": 4,
 "nbformat_minor": 5
}
