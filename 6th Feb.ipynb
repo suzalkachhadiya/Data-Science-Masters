{
 "cells": [
  {
   "cell_type": "markdown",
   "id": "bceb3ddf",
   "metadata": {},
   "source": [
    "# 1] Create a function which will take a list as an argument and return the product of all the numbers after creating a flat list."
   ]
  },
  {
   "cell_type": "code",
   "execution_count": 1,
   "id": "04754a8d",
   "metadata": {},
   "outputs": [],
   "source": [
    "from functools import reduce"
   ]
  },
  {
   "cell_type": "code",
   "execution_count": 2,
   "id": "b73e8b7b",
   "metadata": {},
   "outputs": [],
   "source": [
    "def flat_list(l):\n",
    "    lst=[]\n",
    "    for i in l:\n",
    "        if type(i)==set or type(i)==tuple or type(i)==list:\n",
    "            lst.extend(list(i))\n",
    "        elif type(i)==dict:\n",
    "            lst.extend(list(i.keys()))\n",
    "            for j  in list(i.values()):\n",
    "                if type(j)==set or type(j)==tuple or type(j)==list:\n",
    "                    lst.extend(list(j))\n",
    "                elif type(j)==int or type(j)==float: \n",
    "                    lst.append(j)\n",
    "        elif type(i)==int or type(i)==float: \n",
    "            lst.append(i)\n",
    "    flattened_list=list(filter(lambda x: type(x)==int or type(x)==float,lst))\n",
    "    print(flattened_list,end=\" \")\n",
    "    return reduce(lambda x,y:x*y,flattened_list)"
   ]
  },
  {
   "cell_type": "code",
   "execution_count": 3,
   "id": "bacb9d3b",
   "metadata": {},
   "outputs": [
    {
     "name": "stdout",
     "output_type": "stream",
     "text": [
      "[1, 2, 3, 4, 44, 55, 66, 34, 56, 78, 89, 34, 1, 2, 3, 1, 4, 34, 55, 67, 78, 89, 45, 22, 61, 34, 56] \n",
      "\n",
      "4134711838987085478833841242112000\n"
     ]
    }
   ],
   "source": [
    "given_listQ1=[1,2,3,4, [44,55,66, True], False, (34,56,78,89,34), {1,2,3,3,2,1}, {1:34, \"key2\": [55, 67, 78, 89], 4: (45,\n",
    "22, 61, 34)}, [56, 'data science'], 'Machine Learning']\n",
    "ans=flat_list(given_listQ1)\n",
    "print(\"\\n\")\n",
    "print(ans)"
   ]
  },
  {
   "cell_type": "markdown",
   "id": "52cbf97d",
   "metadata": {},
   "source": [
    "# 2] Write a python program for encrypting a message sent to you by your friend. The logic of encryption should be such that, for a the output should be z. For b, the output should be y. For c, the output should be x respectively. Also, the whitespace should be replaced with a dollar sign. Keep the punctuation marks unchanged."
   ]
  },
  {
   "cell_type": "code",
   "execution_count": 4,
   "id": "5a27b94b",
   "metadata": {},
   "outputs": [
    {
     "name": "stdout",
     "output_type": "stream",
     "text": [
      "I want to become a Data Scientist.\n",
      "i$wznt$to$yexome$z$dztz$sxientist.\n"
     ]
    }
   ],
   "source": [
    "chat=input()\n",
    "chat=chat.lower()\n",
    "chat=chat.replace(\"a\",\"z\",chat.count(\"a\"))\n",
    "chat=chat.replace(\"b\",\"y\",chat.count(\"b\"))\n",
    "chat=chat.replace(\"c\",\"x\",chat.count(\"c\"))\n",
    "chat=chat.replace(\" \",\"$\",chat.count(\" \"))\n",
    "print(chat)\n",
    "# print(s1)"
   ]
  }
 ],
 "metadata": {
  "kernelspec": {
   "display_name": "Python 3 (ipykernel)",
   "language": "python",
   "name": "python3"
  },
  "language_info": {
   "codemirror_mode": {
    "name": "ipython",
    "version": 3
   },
   "file_extension": ".py",
   "mimetype": "text/x-python",
   "name": "python",
   "nbconvert_exporter": "python",
   "pygments_lexer": "ipython3",
   "version": "3.9.13"
  }
 },
 "nbformat": 4,
 "nbformat_minor": 5
}
