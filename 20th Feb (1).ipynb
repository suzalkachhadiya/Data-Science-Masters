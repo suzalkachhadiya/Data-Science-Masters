{
 "cells": [
  {
   "cell_type": "markdown",
   "id": "839e3854",
   "metadata": {},
   "source": [
    "# 1] Explain GET and POST methods."
   ]
  },
  {
   "cell_type": "markdown",
   "id": "8ef84c66",
   "metadata": {},
   "source": [
    "### => GET and POST are two HTTP methods used for communication between clients and servers in web applications.\n",
    "### \n",
    "### => The GET method is used to retrieve information from the server. When a client makes a GET request, it sends a request to the server for a specific resource (like a web page or an image), and the server responds by sending the requested resource back to the client. GET requests are considered to be \"safe\" and \"idempotent,\" which means that they don't change anything on the server, and making the same request multiple times will have the same result.\n",
    "### => For example, if you type a URL into your web browser and hit enter, your browser will send a GET request to the server hosting that URL to retrieve the web page associated with that URL.\n",
    "### \n",
    "### => The POST method is used to send data to the server. When a client makes a POST request, it sends data (like form data or JSON data) to the server for processing. The server then processes the data and responds with a result. POST requests are considered to be \"unsafe\" and \"not idempotent,\" which means that they can change things on the server, and making the same request multiple times may have different results.\n",
    "### => For example, when you fill out a web form and click \"submit,\" your browser sends a POST request to the server with the form data you entered, and the server processes the data (like saving it to a database) and responds with a confirmation message.\n",
    "### \n",
    "### => In summary, the GET method is used to retrieve information from the server, while the POST method is used to send data to the server for processing.\n"
   ]
  },
  {
   "cell_type": "markdown",
   "id": "a719788a",
   "metadata": {},
   "source": [
    "# 2] Why is request used in Flask?"
   ]
  },
  {
   "cell_type": "markdown",
   "id": "7c494088",
   "metadata": {},
   "source": [
    "### => In Flask, the request module is used to handle HTTP requests made by a client to a Flask web application. It provides a way to access data submitted in HTTP requests, such as form data, query parameters, and headers.\n",
    "### => The request object is an instance of the Request class, which provides a variety of methods and attributes to access different parts of the HTTP request.\n",
    "\n",
    "## 1)  Access form data: \n",
    "### => If a client submits a form to your Flask application, you can access the form data using the 'request.form' dictionary. For example, 'request.form['username']' would give you the value of the 'username' field in the form.\n",
    "\n",
    "## 2) Access query parameters: \n",
    "### => If a client submits a URL with query parameters, you can access them using the 'request.args' dictionary. For example, if a client visits 'http://example.com/search?q=flask', you can access the value of the q parameter with 'request.args.get('q')'.\n",
    "\n",
    "## 3) Access headers:\n",
    "### => You can access HTTP headers sent by the client using the 'request.headers' dictionary. For example, 'request.headers.get('User-Agent')' would give you the user agent string sent by the client.\n"
   ]
  },
  {
   "cell_type": "markdown",
   "id": "eb18e689",
   "metadata": {},
   "source": [
    "# 3] Why is redirect() used in Flask?"
   ]
  },
  {
   "cell_type": "markdown",
   "id": "c796bfe3",
   "metadata": {},
   "source": [
    "### => In Flask, the 'redirect()' function is used to redirect a client to a different URL. This can be useful in a number of situations, such as when a user submits a form and you want to redirect them to a confirmation page, or when you want to enforce a certain URL structure and redirect clients to the correct URL.\n",
    "### => The 'redirect()' function takes a URL as an argument and returns a response object with a 302 status code (indicating a temporary redirect) and a 'Location' header set to the URL. When a client receives this response, it will automatically send a new request to the specified URL."
   ]
  },
  {
   "cell_type": "markdown",
   "id": "3ec68bd7",
   "metadata": {},
   "source": [
    "# 4] What are templates in Flask? Why is the render_template() function used?"
   ]
  },
  {
   "cell_type": "markdown",
   "id": "0cd62604",
   "metadata": {},
   "source": [
    "### => In Flask, templates are used to generate dynamic content for web pages. A template is a file containing HTML markup with placeholders for dynamic content, such as variables or control structures. When a client requests a web page, Flask uses a template engine to render the template with the appropriate data and generate the final HTML response.\n",
    "### \n",
    "### => To use 'templates' in Flask, you need to create a folder called templates in your Flask project directory, and put your template files in that folder. Then, you can use the 'render_template()' function to render a template with the appropriate data and return the resulting HTML response to the client.\n",
    "### => Overall, templates are a powerful feature in Flask that allow you to generate dynamic content for web pages and separate the presentation logic from the application logic. The render_template() function is a key component of using templates in Flask.\n"
   ]
  },
  {
   "cell_type": "markdown",
   "id": "9bae3153",
   "metadata": {},
   "source": [
    "# 5] Create a simple API. Use Postman to test it. Attach the screenshot of the output in the Jupyter Notebook. "
   ]
  },
  {
   "cell_type": "markdown",
   "id": "bf7b8163",
   "metadata": {},
   "source": [
    "<img src=\"apiss.png\" style=\"width:1000px;height:500px\">"
   ]
  },
  {
   "cell_type": "markdown",
   "id": "aab9b7d0",
   "metadata": {},
   "source": [
    "<img src=\"postmanAPIss.png\" style=\"width:1000px;height:500px\">"
   ]
  }
 ],
 "metadata": {
  "kernelspec": {
   "display_name": "Python 3 (ipykernel)",
   "language": "python",
   "name": "python3"
  },
  "language_info": {
   "codemirror_mode": {
    "name": "ipython",
    "version": 3
   },
   "file_extension": ".py",
   "mimetype": "text/x-python",
   "name": "python",
   "nbconvert_exporter": "python",
   "pygments_lexer": "ipython3",
   "version": "3.9.13"
  }
 },
 "nbformat": 4,
 "nbformat_minor": 5
}
