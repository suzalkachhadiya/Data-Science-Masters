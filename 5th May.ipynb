{
 "cells": [
  {
   "cell_type": "markdown",
   "id": "9d037db4-788a-4ddd-bba7-1dba7971d4db",
   "metadata": {},
   "source": [
    "# 1] What is meant by time-dependent seasonal components?\n"
   ]
  },
  {
   "cell_type": "markdown",
   "id": "4cdc0b52-a4c2-4d21-b905-96bfca1a48c3",
   "metadata": {},
   "source": [
    "### => Time-dependent seasonal components refer to seasonal patterns in a time series that change over time rather than being stable\n",
    "## 1) Magnitude of seasonality changes over time \n",
    "### => The amplitude of seasonal fluctuations increases or decreases from one year to the next. For example, the peak holiday sales in December may be higher this year compared to previous years.\n",
    "## 2) Seasonal pattern shifts over time \n",
    "### => The timing of seasonal peaks and troughs changes. For example, the lowest sales level during summer used to be in June but is now in July.\n",
    "## 3) Appearance and disappearance of seasonality \n",
    "### => A time series exhibits seasonality in certain time periods but not in other periods. For example, a new product may not have yearly seasonality initially but develops seasonal fluctuations in demand after a few years.\n",
    "## 4) Changes in seasonal duration \n",
    "### => The span of seasonal periods changes. For example, holiday demand extends over more weeks but the Thanksgiving week peak has shortened.\n",
    "## 5) Interactions with trends \n",
    "### => Upward or downward trends combine with seasonality causing changing seasonal effects."
   ]
  },
  {
   "cell_type": "markdown",
   "id": "8d375605-64f2-468e-9347-728d63a0e1b6",
   "metadata": {},
   "source": [
    "# 2] How can time-dependent seasonal components be identified in time series data?\n"
   ]
  },
  {
   "cell_type": "markdown",
   "id": "c26267d8-966e-4e78-b2f5-13a95ef541e2",
   "metadata": {},
   "source": [
    "## ) Visual inspection \n",
    "### => Plot the data by season and look for changes in pattern, amplitude and duration over time.\n",
    "## ) Seasonal subseries plot \n",
    "### => Plot each seasonal subseries (e.g. Jan data for every year) on the same plot to look for shifting seasonality.\n",
    "## ) Seasonality strength tests \n",
    "### => Statistical tests like F-test to compare seasonality strength across different time periods.\n",
    "## ) Seasonal parameter constancy test \n",
    "### => Test parameters of fitted seasonal model for structural changes over time.\n",
    "## ) Seasonal parameter estimation \n",
    "### => Estimate seasonal coefficients for rolling windows of data. Parameter instability indicates changing seasonality.\n",
    "## ) Time-varying model \n",
    "### => Fit a model that allows seasonal parameters to change over time and analyze the changing coefficients.\n",
    "## ) Spectral analysis\n",
    "### => Track changes in the seasonal frequencies and power spectrum over different time periods.\n",
    "## ) Model residuals \n",
    "### => Seasonal models with constant parameters will show changing error variance and autocorrelation if seasonality is time-dependent."
   ]
  },
  {
   "cell_type": "markdown",
   "id": "d3fe4c93-2209-49b2-826b-f6761bfd6748",
   "metadata": {},
   "source": [
    "# 3] What are the factors that can influence time-dependent seasonal components?\n"
   ]
  },
  {
   "cell_type": "markdown",
   "id": "4eeaead5-9f80-4a30-bddb-667e8341fa8f",
   "metadata": {},
   "source": [
    "## 1) Evolving demand cycles \n",
    "### => Consumer preferences and behaviors change, affecting purchasing cycles. For example, holiday demand starting earlier each year.\n",
    "## 2) New product introductions \n",
    "### => New products take time to develop seasonal sales patterns resulting in changing seasonality as the product matures.\n",
    "## 3) Market expansion \n",
    "### => Expanding to new markets exposes products to different seasonal factors causing shifting seasonal effects.\n",
    "## 4) Competitive dynamics \n",
    "### => Competitor actions lead to changes in seasonal patterns and market share over time.\n",
    "## 5) Production cycles \n",
    "### => Changes in production capacity, raw material availability etc. can alter seasonal supply patterns.\n",
    "## 6) Inventory management \n",
    "### => Varying inventory buildups and stockouts can exacerbate or dampen underlying seasonality year-to-year.\n",
    "## 7) Promotions/pricing \n",
    "### => Changing promotional strategies and pricing overtime can amplify or diminish seasonal effects.\n",
    "## 8) Calendar events \n",
    "### => Leap years, holidays falling on different weekdays, event timing causes seasonality fluctuations.\n",
    "## 9) Climate change \n",
    "### => Gradual climate shifts alter established seasonal weather and consumption patterns."
   ]
  },
  {
   "cell_type": "markdown",
   "id": "f1ccf0cb-573f-4240-9d31-9b2ee49ead48",
   "metadata": {},
   "source": [
    "# 4] How are autoregression models used in time series analysis and forecasting?\n"
   ]
  },
  {
   "cell_type": "markdown",
   "id": "8ef68568-02b8-448d-8098-57085fcb3e8d",
   "metadata": {},
   "source": [
    "### => Model the current value of a time series as a function of its own past values.\n",
    "### => Capture persistence and autocorrelation in the data.\n",
    "### => Useful for univariate time series forecasting without external predictors.\n",
    "### => AR(p) model uses p prior values to predict the next value. Order p is chosen based on autocorrelation patterns.\n",
    "### => AR models assume stationarity of the time series. Often require transformations like differencing.\n",
    "### => Can estimate uncertainty and confidence intervals of forecasts.\n",
    "### => Can be extended to ARMA and ARIMA models to add moving average and integration components.\n",
    "### => Fit via methods like OLS or maximum likelihood estimation.\n",
    "### => Versatile in handling trends, mean reversion, seasonality, cycles in data.\n",
    "### => Prone to overfitting. Order selection requires care.\n",
    "### => Assumptions of linearity, normal errors need to be validated."
   ]
  },
  {
   "cell_type": "markdown",
   "id": "d9a5b62f-c893-4bc1-a22f-43a7db32a4b0",
   "metadata": {},
   "source": [
    "# 5] How do you use autoregression models to make predictions for future time points?\n"
   ]
  },
  {
   "cell_type": "markdown",
   "id": "e18de620-c747-4108-be59-7eb61e883720",
   "metadata": {},
   "source": [
    "### => Fit an AR(p) model on the historical training data to estimate the model parameters. This captures the autocorrelation structure.\n",
    "### => The model will be of the form:\n",
    "### y(t) = c + φ1y(t-1) + ... + φpy(t-p) + error(t)\n",
    "\n",
    "### where φ1 to φp are the autoregressive coefficients estimated from the data.\n",
    "\n",
    "### => To forecast future values, we plug in the known previous p observations of the time series along with the estimated φ coefficients into the model equation.\n",
    "### => For example, to forecast 3 time steps ahead:\n",
    "### y(T+3) = c + φ1y(T+2) + φ2y(T+1) + ... + φp*y(T-p+3)\n",
    "\n",
    "### Here, T is the last observation. y(T+2), y(T+1) etc. will be the known previous values.\n",
    "\n",
    "### => We recursively substitute the previous forecasted values further back as needed if those time points are unknown.\n",
    "### => Confidence intervals can also be constructed for the forecasts based on model standard errors."
   ]
  },
  {
   "cell_type": "markdown",
   "id": "60051d8a-33fc-4f22-9fa5-3550ba4a5b75",
   "metadata": {},
   "source": [
    "# 6] What is a moving average (MA) model and how does it differ from other time series models?\n"
   ]
  },
  {
   "cell_type": "markdown",
   "id": "7ed8e9ac-c105-4c76-ba6f-08fd5ac70770",
   "metadata": {},
   "source": [
    "### => Predict current value based on a weighted moving average of past forecast errors.\n",
    "### => Errors are the actual values minus the forecasts.\n",
    "### => An MA(q) model uses the past q errors.\n",
    "### => Weights determine how much emphasis to place on recent vs older errors.\n",
    "### => Captures short-term auto-correlations and smoothing of time series.\n",
    "### => Assumes observations are a combination of random shocks and their lagged values.\n",
    "### => Differs from autoregression (AR) models which use past observations instead of past errors.\n",
    "### => Combined with AR as ARMA model to use both lagged values and errors.\n",
    "### => Suitable for series with trend or seasonality when used with ARIMA.\n",
    "### => Prone to instability if longer error lags are included."
   ]
  },
  {
   "cell_type": "markdown",
   "id": "bd867e8e-d526-4e1a-ad4f-cc43762afd06",
   "metadata": {},
   "source": [
    "# 7] What is a mixed ARMA model and how does it differ from an AR or MA model?"
   ]
  },
  {
   "cell_type": "markdown",
   "id": "84e0c64d-066f-4b1a-9fa1-ba0eb8a8b885",
   "metadata": {},
   "source": [
    "### => ARMA(p,q) has p autoregressive terms and q moving average terms.\n",
    "### => AR(p) only has autoregressive terms using p lagged values of time series.\n",
    "### => MA(q) only has moving average terms using q lagged forecast errors.\n",
    "### => ARMA(p,q) includes both p lagged values and q lagged errors as predictors.\n",
    "### => More flexible than individual AR and MA models. Can fit a wider range of time series.\n",
    "### => AR mainly models momentum/persistence. MA models short-term reversals.\n",
    "### => ARMA leverages both historical values and previous shocks for forecasting.\n",
    "### => Can handle non-stationary series, trends, seasonality when combined with differencing and orders.\n",
    "### => Tends to overfit with too many terms. Careful selection of p and q orders needed.\n",
    "### => Model selection done using ACF, PACF and information criteria like AIC, BIC."
   ]
  },
  {
   "cell_type": "code",
   "execution_count": null,
   "id": "20cc7759-feae-4259-8e0a-b0c37ec0d13c",
   "metadata": {},
   "outputs": [],
   "source": []
  }
 ],
 "metadata": {
  "kernelspec": {
   "display_name": "Python 3 (ipykernel)",
   "language": "python",
   "name": "python3"
  },
  "language_info": {
   "codemirror_mode": {
    "name": "ipython",
    "version": 3
   },
   "file_extension": ".py",
   "mimetype": "text/x-python",
   "name": "python",
   "nbconvert_exporter": "python",
   "pygments_lexer": "ipython3",
   "version": "3.10.8"
  }
 },
 "nbformat": 4,
 "nbformat_minor": 5
}
