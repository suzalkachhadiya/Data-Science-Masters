{
 "cells": [
  {
   "cell_type": "markdown",
   "id": "53ef399e-73ac-485d-8cf2-9a9469820b0a",
   "metadata": {},
   "source": [
    "# 1] What is a time series, and what are some common applications of time series analysis?\n"
   ]
  },
  {
   "cell_type": "markdown",
   "id": "ac39639a-679e-4803-9980-a5ed70b3c6e4",
   "metadata": {},
   "source": [
    "### => A time series is a sequence of data points arranged in chronological order over uniform time intervals. Some common applications of time series analysis include:\n",
    "\n",
    "## 1) Financial forecasting \n",
    "### => Analyzing stock prices, exchange rates, interest rates, sales etc. over time to forecast future values. Important for investment decisions.\n",
    "## 2) Demand forecasting \n",
    "### => Forecasting sales, inventory requirements, website traffic based on time series data to anticipate future demand.\n",
    "## 3) Resource monitoring \n",
    "### => Monitoring CPU usage, network traffic, temperature sensors over time to detect unusual patterns and prevent outages.\n",
    "## 4) Process control \n",
    "### => Monitoring industrial processes over time for early fault detection and predictive maintenance.\n",
    "## 5) Anomaly detection \n",
    "### => Detecting unusual patterns in network traffic, fraud detection, healthcare that deviate from normal behavior.\n",
    "## 6) Trend analysis \n",
    "### => Identifying increasing/decreasing trends and changes in trends over time. Useful for strategic planning.\n",
    "## 7) Seasonality analysis \n",
    "### => Analyzing and forecasting seasonal patterns in data over time like energy consumption, tourism etc."
   ]
  },
  {
   "cell_type": "markdown",
   "id": "3c5efc19-6c94-4e98-b5b3-3283f421ac1a",
   "metadata": {},
   "source": [
    "# 2] What are some common time series patterns, and how can they be identified and interpreted?\n"
   ]
  },
  {
   "cell_type": "markdown",
   "id": "13a7450e-f96d-490d-bc5f-4b51e6596e94",
   "metadata": {},
   "source": [
    "## 1) Trend \n",
    "### => Gradual long-term increase or decrease in the values over the entire time series. Can identify by visually inspecting plot or using regression. Indicates overall positive/negative change over time.\n",
    "## 2) Seasonality \n",
    "### => Periodic and repetitive patterns over fixed time intervals due to seasonal factors. Can identify by plotting data by season/month/day or using decomposition methods. Insights into recurring seasonal impacts.\n",
    "## 3) Cyclic \n",
    "### => Rises and falls that are not of fixed period. Identify by smoothing data. Indicates cyclical forces like business cycles, population levels etc.\n",
    "## 4) Stationary \n",
    "### => Time series with constant statistical properties over time like mean, variance. Assess using statistical tests for stationarity. Serves as input for many models.\n",
    "## 5) White noise \n",
    "### => Uncorrelated signal with zero autocorrelation. Assess with autocorrelation function. Indicates randomness.\n",
    "## 6) Change point \n",
    "### => Sudden change in statistical properties. Use methods like CUSUM to detect. Can identify events causing the change.\n",
    "## 7) Outlier \n",
    "### => Anomalous observations deviating from pattern. Use anomaly detection methods. Potential errors requiring investigation."
   ]
  },
  {
   "cell_type": "markdown",
   "id": "f813dcc4-7f4a-4f1b-b31c-01573ac22e3d",
   "metadata": {},
   "source": [
    "# 3] How can time series data be preprocessed before applying analysis techniques?\n"
   ]
  },
  {
   "cell_type": "markdown",
   "id": "cab54019-5a4c-48c9-a56d-994b24af6f8a",
   "metadata": {},
   "source": [
    "## 1) Handling missing data \n",
    "#### => Interpolation, imputation of missing values to create consistent data.\n",
    "## 2) Smoothing \n",
    "#### => Removing noise using moving averages, filters. Helps uncover patterns.\n",
    "## 3) Decomposition \n",
    "#### => Splitting data into trend, seasonal and residual components. Allows isolated analysis.\n",
    "## 4) Detrending \n",
    "#### => Removing trend component using differencing or regression. Useful for making data stationary.\n",
    "## 5) Normalization \n",
    "#### => Scaling data to fall in a standard range. Helps in numerical stability.\n",
    "## 6) Dimensionality reduction \n",
    "#### => Applying methods like PCA on multivariate series. Reduces noise, computational cost.\n",
    "## 7) Sampling \n",
    "#### => Upsampling or downsampling data to required frequencies.\n",
    "## 8) Outlier detection \n",
    "#### => Identifying and treating anomalous observations.\n",
    "## 9) Feature engineering \n",
    "#### => Deriving new variables like lags, rolling averages that are informative.\n",
    "## 10) Segmentation \n",
    "#### => Splitting long series into independent windows for analysis."
   ]
  },
  {
   "cell_type": "markdown",
   "id": "13fe5a03-f95c-45ba-89d4-a08977146c26",
   "metadata": {},
   "source": [
    "# 4] How can time series forecasting be used in business decision-making, and what are some common challenges and limitations?\n"
   ]
  },
  {
   "cell_type": "markdown",
   "id": "5458fde7-3d82-423b-990f-3e7a917e8449",
   "metadata": {},
   "source": [
    "## 1) Useful applications:\n",
    "\n",
    "### Sales forecasting - Anticipate future sales based on past data. Allows better planning of inventory, logistics etc.\n",
    "### Demand planning - Forecast demand for products to optimize production, resource allocation.\n",
    "### Budget planning - Forecast future costs and revenues during budget planning.\n",
    "### Capacity planning - Forecast service usage, traffic to web applications to plan infrastructure capacity.\n",
    "### Stock price prediction - Strategic decision-making for stock trading and investments.\n",
    "\n",
    "## 2) Common challenges:\n",
    "\n",
    "### Model accuracy - Forecasts may have large errors rendering them useless for decision making.\n",
    "### Ignoring domain knowledge - Black box models may not capture logical constraints, leading to infeasible forecasts.\n",
    "### Data ambiguity - Time series often have noise. Spurious patterns get modeled leading to poor predictions.\n",
    "### Changing environment - Systems change over time. Models built on old data become outdated. Requires constant monitoring and updating.\n",
    "### Long-term uncertainty - Errors accumulate over long horizons. Hard to forecast far into future."
   ]
  },
  {
   "cell_type": "markdown",
   "id": "c3ddaab9-7cee-41cb-8687-6bb0363fa8a5",
   "metadata": {},
   "source": [
    "# 5] What is ARIMA modelling, and how can it be used to forecast time series data?\n"
   ]
  },
  {
   "cell_type": "markdown",
   "id": "0c34d900-f89c-43bd-85df-72c4ae4e7308",
   "metadata": {},
   "source": [
    "### => ARIMA (Autoregressive Integrated Moving Average) is a statistical modeling approach for forecasting time series data.\n",
    "###  \n",
    "### => AR (Autoregressive) - Models the current value as a function of prior values. Captures persistence in the data.\n",
    "### => I (Integrated) - Uses differencing of raw observations to make the time series stationary. Removes non-stationarity.\n",
    "### => MA (Moving Average) - Models the current value based on residual errors from prior forecasts. Captures forecast errors.\n",
    "### => ARIMA combines the AR, I, and MA components into a single model for forecasting.\n",
    "### => The optimal ARIMA model is found by determining the suitable orders for AR (p), I (d) and MA (q) based on the data.\n",
    "### => ARIMA can model trends, cyclicality, and seasonality which are common in time series data.\n",
    "### => Provides confidence intervals along with forecasts indicating reliability.\n",
    "### => Works well with a moderately long series with at least 50+ data points.\n",
    "### => Requires time and expertise for optimal model selection and diagnostics. Automation can help."
   ]
  },
  {
   "cell_type": "markdown",
   "id": "63b8b980-2e45-4180-b282-7abd5b7d874d",
   "metadata": {},
   "source": [
    "# 6] How do Autocorrelation Function (ACF) and Partial Autocorrelation Function (PACF) plots help in identifying the order of ARIMA models?\n"
   ]
  },
  {
   "cell_type": "markdown",
   "id": "6ff0d175-3eb9-4775-9433-9e65bb5d587c",
   "metadata": {},
   "source": [
    "### => The ACF plot shows the autocorrelation between a time series and lags of itself. It helps identify the MA order q.\n",
    "### => PACF plot shows partial autocorrelation after removing lower order dependencies. It helps determine the AR order p.\n",
    "### => For AR(p) model - ACF decays exponentially while PACF cuts off after lag p.\n",
    "### => For MA(q) model - ACF cuts off after lag q while PACF decays exponentially.\n",
    "### => For mixed ARMA models, PACF and ACF show a mixture of exponential decay and cutoffs.\n",
    "### => ACF dropping to 0 at lag q indicates MA(q) may be suitable.\n",
    "### => PACF dropping to 0 at lag p indicates AR(p) may be suitable.\n",
    "### => Seasonal patterns like spikes at lags of 12, 24 etc can also be diagnosed."
   ]
  },
  {
   "cell_type": "markdown",
   "id": "d5c01b6e-bdff-4944-b49a-11b6c8f7f767",
   "metadata": {},
   "source": [
    "# 7] What are the assumptions of ARIMA models, and how can they be tested for in practice?\n"
   ]
  },
  {
   "cell_type": "markdown",
   "id": "b04e588a-543a-4711-9fc0-42d4175c76b6",
   "metadata": {},
   "source": [
    "## 1) Stationarity \n",
    "### => Time series needs to be stationary or made stationary through transformations like differencing. Stationarity can be tested using statistical tests like Dickey-Fuller, KPSS or visually through plots.\n",
    "## 2) Normality \n",
    "### => Residuals should be normally distributed. Normality can be checked via histograms, Q-Q plots, statistical tests like Shapiro-Wilk.\n",
    "## 3) Independence \n",
    "### => Residuals should be independent over time. Independence can be verified by examining the autocorrelation function and performing Ljung-Box test.\n",
    "## 4) Constant variance \n",
    "### => The variance of residuals should be constant over time. Presence of heteroscedasticity can be tested using Engle’s ARCH test.\n",
    "## 5) Parameter stability \n",
    "### => Model parameters should remain constant over the estimation period. Chow breakpoint tests and recursive estimation can check parameter stability.\n",
    "## 6) No multicollinearity \n",
    "### => Predictor variables should not be highly correlated. Collinearity diagnostics like VIF, correlation matrix should be examined."
   ]
  },
  {
   "cell_type": "markdown",
   "id": "d3e211cb-31b6-4d52-af89-144122b9489e",
   "metadata": {},
   "source": [
    "# 8] Suppose you have monthly sales data for a retail store for the past three years. Which type of time series model would you recommend for forecasting future sales, and why?\n"
   ]
  },
  {
   "cell_type": "markdown",
   "id": "c80e51f1-546a-45ca-9a50-4cf4dc3da375",
   "metadata": {},
   "source": [
    "### => Sales data usually exhibits seasonality at the monthly level due to recurring seasonal factors. ARIMA can explicitly model seasonality.\n",
    "### => Trends are also common as sales evolve over multiple years. ARIMA is able to model trends well.\n",
    "### => ARIMA does not require any additional predictor variables, only the history of the series itself. This makes it straightforward to apply.\n",
    "### => SARIMAX extends ARIMA to also incorporate the effect of external predictor variables like promotions, holidays etc. This can improve accuracy.\n",
    "### => ARIMA models are flexible and can be customized to handle a wide range of time series patterns in sales data.\n",
    "### => Maintaining prediction intervals helps quantify forecast uncertainty for informed business planning.\n",
    "### => Wide availability of automation and diagnostics makes ARIMA easier to use despite complexity."
   ]
  },
  {
   "cell_type": "markdown",
   "id": "30fc9535-48e6-4bc1-ac96-3330ac53787b",
   "metadata": {},
   "source": [
    "# 9] What are some of the limitations of time series analysis? Provide an example of a scenario where the limitations of time series analysis may be particularly relevant.\n"
   ]
  },
  {
   "cell_type": "markdown",
   "id": "e5a3eb70-d31f-46c2-a9f6-c17b49461ef7",
   "metadata": {},
   "source": [
    "## 1) Assumption of continuation of historical patterns \n",
    "### => May not hold true in changing environments.\n",
    "## 2) Uncertainty in long-term forecasts \n",
    "### => Errors accumulate and confidence decreases over longer horizons.\n",
    "## 3) Susceptibility to spurious patterns \n",
    "### => Apparent patterns may arise due to noise/randomness.\n",
    "## 4) Requires sizable history \n",
    "### => Insufficient data can lead to unreliable and unstable models.\n",
    "## 5) Not useful for one-off events \n",
    "### => Time series relies on observation of multiple occurrences.\n",
    "## 6) Risk of overfitting \n",
    "### => Excessive parameterization causes poor generalizability.\n",
    "\n",
    "## An example where these limitations are relevant is demand forecasting for new products:\n",
    "\n",
    "### => No historical sales data available, so time series techniques cannot be applied directly.\n",
    "### => Future demand depends heavily on market conditions, advertising, competition which induce structural changes. Historical patterns have little relevance.\n",
    "### => Long term forecasts for demand are highly uncertain for new products with no prior sales track record."
   ]
  },
  {
   "cell_type": "markdown",
   "id": "6e94f167-7ffd-4e7a-9449-0947fa4e3aa7",
   "metadata": {},
   "source": [
    "# 10] Explain the difference between a stationary and non-stationary time series. How does the stationarity of a time series affect the choice of forecasting model?"
   ]
  },
  {
   "cell_type": "markdown",
   "id": "f821efc2-72ea-4593-af57-9dfa19ee128a",
   "metadata": {},
   "source": [
    "## 1) Stationary time series:\n",
    "\n",
    "### =>Statistical properties like mean, variance do not change over time\n",
    "### =>Fluctuations around mean happen in a consistent fashion\n",
    "### =>Autocorrelations decay quickly as lag increases\n",
    "## 2) Non-stationary time series:\n",
    "\n",
    "### =>Mean and variance change over time\n",
    "### =>Trends and structural shifts are present\n",
    "### =>Autocorrelations decay slowly and can remain high even at large lags\n",
    "## 3) Implications for forecasting models:\n",
    "\n",
    "### =>Many statistical forecasting methods require or perform better with stationary data. E.g. ARIMA\n",
    "### =>Non-stationary series need to be transformed to make them stationary before model fitting, through differencing, power transforms etc.\n",
    "### =>Models estimated on stationary data will be stable and exhibit consistent behavior over time.\n",
    "### =>Models estimated on non-stationary data may lead to unstable coefficients and poor forecasts.\n",
    "### =>Stationarity should be tested before model selection using statistical tests, visual analysis to choose suitable transformations."
   ]
  },
  {
   "cell_type": "code",
   "execution_count": null,
   "id": "8c6f918b-f10d-487d-aed3-6a32d54677f9",
   "metadata": {},
   "outputs": [],
   "source": []
  }
 ],
 "metadata": {
  "kernelspec": {
   "display_name": "Python 3 (ipykernel)",
   "language": "python",
   "name": "python3"
  },
  "language_info": {
   "codemirror_mode": {
    "name": "ipython",
    "version": 3
   },
   "file_extension": ".py",
   "mimetype": "text/x-python",
   "name": "python",
   "nbconvert_exporter": "python",
   "pygments_lexer": "ipython3",
   "version": "3.10.8"
  }
 },
 "nbformat": 4,
 "nbformat_minor": 5
}
