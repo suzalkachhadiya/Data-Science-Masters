{
 "cells": [
  {
   "cell_type": "markdown",
   "id": "01243061",
   "metadata": {},
   "source": [
    "# 1] Function\n",
    "### => keyword used to create function is \"def\""
   ]
  },
  {
   "cell_type": "code",
   "execution_count": 1,
   "id": "853dd088",
   "metadata": {},
   "outputs": [],
   "source": [
    "def oddNumList():\n",
    "    l=[]\n",
    "    for i in range(26):\n",
    "        if i%2==1:\n",
    "            l.append(i)\n",
    "    return l"
   ]
  },
  {
   "cell_type": "code",
   "execution_count": 2,
   "id": "d9953cdc",
   "metadata": {},
   "outputs": [
    {
     "data": {
      "text/plain": [
       "[1, 3, 5, 7, 9, 11, 13, 15, 17, 19, 21, 23, 25]"
      ]
     },
     "execution_count": 2,
     "metadata": {},
     "output_type": "execute_result"
    }
   ],
   "source": [
    "x=oddNumList()\n",
    "x"
   ]
  },
  {
   "cell_type": "markdown",
   "id": "cb399418",
   "metadata": {},
   "source": [
    "# 2] *args and **kwargs\n",
    "### => When we want to take any number of input from user at runtime,we use *args.\n",
    "### => **kwargs allows us to pass a variable no. of keyword arguments to a python function."
   ]
  },
  {
   "cell_type": "code",
   "execution_count": 3,
   "id": "31c14f95",
   "metadata": {},
   "outputs": [],
   "source": [
    "def fun1(*args):\n",
    "    sum=0\n",
    "    for i in args:\n",
    "        sum+=i\n",
    "    return sum"
   ]
  },
  {
   "cell_type": "code",
   "execution_count": 4,
   "id": "91f1d789",
   "metadata": {},
   "outputs": [
    {
     "data": {
      "text/plain": [
       "15"
      ]
     },
     "execution_count": 4,
     "metadata": {},
     "output_type": "execute_result"
    }
   ],
   "source": [
    "fun1(1,2,3,4,5)"
   ]
  },
  {
   "cell_type": "code",
   "execution_count": 5,
   "id": "25cc68a7",
   "metadata": {},
   "outputs": [],
   "source": [
    "def fun2(**kwargs):\n",
    "    l=[]\n",
    "    for key,value in kwargs.items():\n",
    "        l.append((key,value))\n",
    "    return l"
   ]
  },
  {
   "cell_type": "code",
   "execution_count": 6,
   "id": "8c580fd2",
   "metadata": {},
   "outputs": [
    {
     "data": {
      "text/plain": [
       "[('India', 'Delhi'), ('Germany', 'Berlin'), ('Srilanka', 'Columbo')]"
      ]
     },
     "execution_count": 6,
     "metadata": {},
     "output_type": "execute_result"
    }
   ],
   "source": [
    "capitals=fun2(India=\"Delhi\",Germany=\"Berlin\",Srilanka=\"Columbo\")\n",
    "capitals"
   ]
  },
  {
   "cell_type": "markdown",
   "id": "dd4a95d8",
   "metadata": {},
   "source": [
    "# 3] Iterator in python\n",
    "### =>An iterator is an object that contains a countable number of values. \n",
    "## 1)_iter_()\n",
    "## 2)_next_()"
   ]
  },
  {
   "cell_type": "code",
   "execution_count": 7,
   "id": "514d4060",
   "metadata": {},
   "outputs": [],
   "source": [
    "def iterator(lst,n):\n",
    "    my_iter=iter(lst)\n",
    "    for i in range(n):\n",
    "        print(next(my_iter),end=\" \")"
   ]
  },
  {
   "cell_type": "code",
   "execution_count": 8,
   "id": "26d2aec6",
   "metadata": {},
   "outputs": [
    {
     "name": "stdout",
     "output_type": "stream",
     "text": [
      "2 4 6 8 10 "
     ]
    }
   ],
   "source": [
    "given_list=[2,4,6,8,10,12,14,16,18,20]\n",
    "iterator(given_list,5)"
   ]
  },
  {
   "cell_type": "markdown",
   "id": "ff35c9b2",
   "metadata": {},
   "source": [
    "# 4] Generator function\n",
    "### => Python Generator functions allow you to declare a function that behaves likes an iterator, allowing programmers to make an iterator in a fast, easy, and clean way.\n",
    "### => yield keyword is used to create a generator function. A type of function that is memory efficient and can be used like an iterator object."
   ]
  },
  {
   "cell_type": "code",
   "execution_count": 9,
   "id": "966cce60",
   "metadata": {},
   "outputs": [],
   "source": [
    "def sequence(x):\n",
    "    num = 1\n",
    "    n=0\n",
    "    while n<x:\n",
    "        yield num\n",
    "        num *= 2\n",
    "        n+=1"
   ]
  },
  {
   "cell_type": "code",
   "execution_count": 10,
   "id": "078d4e3c",
   "metadata": {},
   "outputs": [
    {
     "name": "stdout",
     "output_type": "stream",
     "text": [
      "1 2 4 8 16 32 64 128 256 512 "
     ]
    }
   ],
   "source": [
    "for i in sequence(10):\n",
    "    print(i,end=\" \")"
   ]
  },
  {
   "cell_type": "markdown",
   "id": "dbac216c",
   "metadata": {},
   "source": [
    "# 5] Prime numbers generator"
   ]
  },
  {
   "cell_type": "code",
   "execution_count": 11,
   "id": "713d967e",
   "metadata": {},
   "outputs": [],
   "source": [
    "def isPrime(n):\n",
    "    for i in range(2,int(n**0.5)+1):\n",
    "        if n%i==0:\n",
    "            return False\n",
    "    return True"
   ]
  },
  {
   "cell_type": "code",
   "execution_count": 12,
   "id": "b36cc78c",
   "metadata": {},
   "outputs": [],
   "source": [
    "def prime_generator():\n",
    "    n=2\n",
    "    while n<1000:\n",
    "        n+=1\n",
    "        if isPrime(n):\n",
    "            yield n"
   ]
  },
  {
   "cell_type": "code",
   "execution_count": 13,
   "id": "1a799978",
   "metadata": {},
   "outputs": [
    {
     "name": "stdout",
     "output_type": "stream",
     "text": [
      "3  5  7  11  13  17  19  23  29  31  37  41  43  47  53  59  61  67  71  73  "
     ]
    }
   ],
   "source": [
    "x=prime_generator()\n",
    "my_iter=iter(x)\n",
    "for i in range(20):\n",
    "    print(next(my_iter),end=\"  \")"
   ]
  }
 ],
 "metadata": {
  "kernelspec": {
   "display_name": "Python 3 (ipykernel)",
   "language": "python",
   "name": "python3"
  },
  "language_info": {
   "codemirror_mode": {
    "name": "ipython",
    "version": 3
   },
   "file_extension": ".py",
   "mimetype": "text/x-python",
   "name": "python",
   "nbconvert_exporter": "python",
   "pygments_lexer": "ipython3",
   "version": "3.9.13"
  }
 },
 "nbformat": 4,
 "nbformat_minor": 5
}
