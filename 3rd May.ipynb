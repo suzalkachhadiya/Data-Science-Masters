{
 "cells": [
  {
   "cell_type": "markdown",
   "id": "e7d1b5b9-13d2-4ba3-90b6-d7011dbca367",
   "metadata": {},
   "source": [
    "# 1] What is the role of feature selection in anomaly detection?\n"
   ]
  },
  {
   "cell_type": "markdown",
   "id": "968501d5-0d7b-44eb-9669-2ecb5a79be53",
   "metadata": {},
   "source": [
    "## 1) Removes Irrelevant Features:\n",
    "### => Real-world datasets often contain non-useful features that can negatively impact anomaly detection performance. Feature selection eliminates such irrelevant features.\n",
    "## 2) Reduces Noise: \n",
    "### => Noisy or redundant features can increase false positives in anomaly detection. Feature selection helps remove such noisy features.\n",
    "## 3) Improves Model Accuracy:\n",
    "### => Selecting the most informative features for anomaly detection can improve model accuracy and ROC performance.\n",
    "## 4) Enhances Interpretability: \n",
    "### => Identifying key features helps understand which attributes are indicative of anomalies, enhancing interpretability.\n",
    "## 5) Reduces Dimensionality: \n",
    "### => Lower dimensional data requires less computing resources for training models. Feature selection removes non-critical features.\n",
    "## 6) Provides Insights:\n",
    "### => Analyzing selected features gives insights into the data characteristics and anomalies.\n",
    "## 7) Simplifies Models:\n",
    "### => Simpler models with fewer features generalize better. Feature selection reduces model complexity by removing non-useful features."
   ]
  },
  {
   "cell_type": "markdown",
   "id": "480f6208-c64e-4408-81c4-2ddc404f00e5",
   "metadata": {},
   "source": [
    "# 2] What are some common evaluation metrics for anomaly detection algorithms and how are they computed?\n"
   ]
  },
  {
   "cell_type": "markdown",
   "id": "11a11752-bf42-40e2-957f-78f7418f3590",
   "metadata": {},
   "source": [
    "## 1) Precision:\n",
    "### => Measures percentage of detected anomalies that are true positives.\n",
    "\n",
    "### Precision = True Positives / (True Positives + False Positives)\n",
    "\n",
    "## 2) Recall:\n",
    "### => Calculates percentage of actual anomalies correctly detected.\n",
    "\n",
    "### Recall = True Positives / (True Positives + False Negatives)\n",
    "\n",
    "## 3) F1-score:\n",
    "### => Harmonic mean of precision and recall. Provides balanced measure of both.\n",
    "\n",
    "### F1 = 2 * (Precision * Recall) / (Precision + Recall)\n",
    "\n",
    "## 4) ROC AUC:\n",
    "### => Area under the Receiver Operating Characteristic curve. Higher is better. Does not require threshold.\n",
    "## 5) Average Precision (AP):\n",
    "### => Computes area under the precision-recall curve. Higher is better.\n",
    "## 6) Mean Absolute Error (MAE):\n",
    "### => Average absolute difference between predicted and actual anomaly scores. Lower is better.\n",
    "\n",
    "### MAE = (Sum of absolute errors) / n\n",
    "\n",
    "## 7) Root Mean Squared Error (RMSE):\n",
    "### => RMSE between predicted and actual anomaly scores. Lower is better.\n",
    "\n",
    "### RMSE = sqrt(Sum of squared errors / n)"
   ]
  },
  {
   "cell_type": "markdown",
   "id": "e0459cc5-72e3-49fc-ac50-2c04c11a038d",
   "metadata": {},
   "source": [
    "# 3] What is DBSCAN and how does it work for clustering?\n"
   ]
  },
  {
   "cell_type": "markdown",
   "id": "57019b91-0e1f-428e-9000-8b8317e24e7e",
   "metadata": {},
   "source": [
    "### => It takes two parameters - eps and minSamples.\n",
    "### => eps controls the neighborhood radius to define density, and minSamples sets the minimum number of points required to form a dense region.\n",
    "### => It begins by finding core points that have at least minSamples points within the eps radius. These serve as seeds for clusters.\n",
    "### => It expands clusters from these core points by recursively including dense neighboring points - points with at least minSamples within eps neighborhood.\n",
    "### => Points that do not belong to any cluster are marked as noise (anomalies) by DBSCAN.\n",
    "### => The main advantages of DBSCAN are it can find arbitrary shaped clusters, does not require specifying number of clusters, and identifies outliers.\n",
    "### => Key challenges are determining optimal eps and minSamples, handling varying density clusters, and computational complexity for large datasets."
   ]
  },
  {
   "cell_type": "markdown",
   "id": "ae48d737-faa3-4351-a970-b41029e222f1",
   "metadata": {},
   "source": [
    "# 4] How does the epsilon parameter affect the performance of DBSCAN in detecting anomalies?\n"
   ]
  },
  {
   "cell_type": "markdown",
   "id": "9693f341-8953-49dd-bbe5-a4b51075b208",
   "metadata": {},
   "source": [
    "### => Smaller eps values lead to smaller and more dense clusters, resulting in more points being labeled as noise/anomalies. Too small values cause meaningful clusters to be broken apart.\n",
    "### => Larger eps results in larger clusters, with more points getting absorbed. This leads to fewer anomalies being detected. Too large eps values cause distinct clusters to get merged.\n",
    "### => An optimal eps value is one that is able to separate dense clusters from sparse anomalies. Finding this balance is key for anomaly detection accuracy.\n",
    "### => For datasets with vastly different densities, a single global eps value may not work well. Variable density clusters require different neighborhood radii.\n",
    "### => Eps should be chosen based on domain knowledge of cluster sizes, average point spacing, noise in data, and acceptable anomaly rate.\n",
    "### => The eps value provides a density threshold to differentiate between anomalies and clusters. Setting it properly based on data characteristics is crucial.\n",
    "### => Performance should be evaluated across a range of eps values using metrics like Silhouette coefficient to find optimal settings."
   ]
  },
  {
   "cell_type": "markdown",
   "id": "ccf4ee38-d38c-470f-bca3-f466c692dda5",
   "metadata": {},
   "source": [
    "# 5] What are the differences between the core, border, and noise points in DBSCAN, and how do they relate to anomaly detection?\n"
   ]
  },
  {
   "cell_type": "markdown",
   "id": "fcc79385-02af-4aa5-9acf-40a0c2590048",
   "metadata": {},
   "source": [
    "## 1) Core points \n",
    "### => Have at least minPoints number of points within the epsilon radius. These are interior points of clusters.\n",
    "## 2) Border points \n",
    "### => Have fewer than minPoints within epsilon but are reachable from some core point. These lie at the edges of clusters.\n",
    "## 3) Noise points \n",
    "### => Do not have minPoints in epsilon radius and are not reachable from any core point. These are outliers or anomalies.\n",
    "### \n",
    "## The key differences:\n",
    "\n",
    "### => Core points define clusters and make up the dense interiors. Border points are extensions of clusters. Noise points are anomalies.\n",
    "### => More core and border points indicate larger and denser clusters, while more noise points signal a higher anomaly rate.\n",
    "### => Border points connect clusters together. Too high epsilon causes merger of clusters by absorbing noise into borders.\n",
    "### => Lower epsilon and minPoints lead to smaller tight clusters with more points labeled as noise."
   ]
  },
  {
   "cell_type": "markdown",
   "id": "b4683cd0-7092-4a39-a366-75fca9ed0b3a",
   "metadata": {},
   "source": [
    "# 6] How does DBSCAN detect anomalies and what are the key parameters involved in the process?\n"
   ]
  },
  {
   "cell_type": "markdown",
   "id": "1d92bb95-468d-4ea8-900c-71d755549c78",
   "metadata": {},
   "source": [
    "## 1) eps (epsilon) \n",
    "### => Maximum radius to consider surrounding points as neighbors. Used to compute density.\n",
    "## 2) minPts (minimum points) \n",
    "### => Minimum number of points required in eps neighborhood for a point to be considered a core point.\n",
    "### \n",
    "## The algorithm works as follows:\n",
    "\n",
    "### => For every point, compute number of points within the eps radius.\n",
    "### => If number of points is greater than minPts, mark as potential core point. Else, label as noise (potential anomaly).\n",
    "### => Expand clusters from core points by recursively including density-reachable points. These become cluster member points.\n",
    "### => Points that were initially marked as noise and remain unassigned to any cluster are the detected anomalies.\n",
    "## Key considerations for anomaly detection:\n",
    "\n",
    "### => Smaller eps and higher minPts will result in sparser clusters and more anomalies detected.\n",
    "### => Parameters should be set based on expected anomaly rate and noise in data.\n",
    "### => Balance between dense clusters and anomalous noise points should be achieved.\n",
    "### => Clustering accuracy metrics like Silhouette scores can help identify optimal parameter settings."
   ]
  },
  {
   "cell_type": "markdown",
   "id": "d20b750a-d96e-4bc5-bf1c-78a6e6fc6014",
   "metadata": {},
   "source": [
    "# 7] What is the make_circles package in scikit-learn used for?\n"
   ]
  },
  {
   "cell_type": "markdown",
   "id": "7d10a90d-aa6f-4e27-b9d1-a5025fed1034",
   "metadata": {},
   "source": [
    "### => Generates 2D datasets with two circular clusters.\n",
    "### => The circles can have noise added to the boundaries to make separation harder.\n",
    "### => Allows controlling number of samples, size of circles, amount of overlap, etc.\n",
    "### => Useful for creating clean datasets with known patterns to test anomaly detection, clustering and classification algorithms.\n",
    "### => Visualization of results is easy since data is 2D.\n",
    "### => Can generate labeled datasets by assigning different class labels to points from different circles.\n",
    "### => Useful for demonstrating core machine learning concepts like overfitting, underfitting, impact of noise etc.\n",
    "### => Allows benchmarking various algorithms on datasets with configurable levels of difficulty."
   ]
  },
  {
   "cell_type": "code",
   "execution_count": 17,
   "id": "eb3a6ee8-28bd-416f-826c-0609b9510041",
   "metadata": {},
   "outputs": [
    {
     "data": {
      "image/png": "[encoded data removed]",
      "text/plain": [
       "<Figure size 640x480 with 1 Axes>"
      ]
     },
     "metadata": {},
     "output_type": "display_data"
    }
   ],
   "source": [
    "from sklearn.datasets import make_circles\n",
    "import matplotlib.pyplot as plt\n",
    "\n",
    "# Generate a dataset of concentric circles\n",
    "X, y = make_circles(n_samples=100, factor=0.5, noise=0.1)\n",
    "\n",
    "# Plot the generated dataset\n",
    "plt.scatter(X[:, 0], X[:, 1], c=y, cmap=plt.cm.Spectral)\n",
    "plt.show()\n"
   ]
  },
  {
   "cell_type": "markdown",
   "id": "67145f2a-86f6-47bb-917b-531706666897",
   "metadata": {},
   "source": [
    "# 8] What are local outliers and global outliers, and how do they differ from each other?\n"
   ]
  },
  {
   "cell_type": "markdown",
   "id": "8802b9ae-4df1-4ca4-8223-8153c49f4e1a",
   "metadata": {},
   "source": [
    "## 2) Local Outliers:\n",
    "\n",
    "### => Exhibit anomalous behavior compared to their local neighborhood of data points.\n",
    "### => May not appear anomalous when considering the entire dataset globally.\n",
    "### => Detected by proximity-based and density-based anomaly detection methods.\n",
    "### => Have significantly lower density than their nearest neighbors.\n",
    "### => Example: A data point that is isolated from its nearby cluster.\n",
    "## 2) Global Outliers:\n",
    "\n",
    "### => Appear anomalous when considering the entire dataset.\n",
    "### => Deviate significantly from the global data distribution.\n",
    "### => Detected by global anomaly detection methods.\n",
    "### => Have features and values very different from most data points.\n",
    "### => Example: A data point with an extremely large value compared to rest."
   ]
  },
  {
   "cell_type": "markdown",
   "id": "70153282-3216-493b-b025-bd7646613599",
   "metadata": {},
   "source": [
    "# 9] How can local outliers be detected using the Local Outlier Factor (LOF) algorithm?\n"
   ]
  },
  {
   "cell_type": "markdown",
   "id": "d6b1ec4e-8464-48d5-8758-0d3b19b40393",
   "metadata": {},
   "source": [
    "### => For each data point, identify its k-nearest neighbors (local neighborhood).\n",
    "### => Calculate the reachability distance between the point and its neighbors. This is the maximum of the k-distance of the two points.\n",
    "### => Compute the local reachability density (LRD) of each point, which is inverse of the average reachability distance from its neighbors.\n",
    "### => Determine the local outlier factor (LOF) for each data point as the ratio of average LRD of its neighbors by its own LRD.\n",
    "### => Points with a LOF significantly greater than 1 are local outliers, as their density is much lower compared to their local neighborhood.\n",
    "### Key aspects:\n",
    "\n",
    "### => LOF captures local density relative to the k-nearest neighbors. It does not require knowing global data distribution.\n",
    "### => Points with lower local density than their neighbors get higher LOF scores making them local outliers.\n",
    "### => The k-distance neighborhood parameter controls how locally to assess outlier-ness.\n",
    "### => LOF is very effective in detecting distance-based local outliers and does not make global density assumptions."
   ]
  },
  {
   "cell_type": "markdown",
   "id": "25da32a9-5aa8-4746-9428-0faabe2742e5",
   "metadata": {},
   "source": [
    "# 10] How can global outliers be detected using the Isolation Forest algorithm?\n"
   ]
  },
  {
   "cell_type": "markdown",
   "id": "9015bbe9-5e33-4297-acb4-165331ba6511",
   "metadata": {},
   "source": [
    "### => Isolation Forest isolates observations by recursively splitting feature space to separate each point into its own partition.\n",
    "### => It builds an ensemble of isolation trees for the dataset.\n",
    "### => When building the isolation trees, instances that require fewer partitions to be isolated are highly divergent points.\n",
    "### => For a global outlier, the average path length for it to get isolated across trees will be much smaller compared to normal points.\n",
    "### => The anomaly score in Isolation Forest is calculated based on the average path length - smaller length implies higher anomaly score.\n",
    "### => Points having significantly lower average path length and higher anomaly score are flagged as global outliers.\n",
    "## Key aspects:\n",
    "\n",
    "### => Does not rely on local density, captures global deviation.\n",
    "### => Trees isolate points based on their feature values without locality assumptions.\n",
    "### => Global outliers are partitioned much faster due to being highly distinct.\n",
    "### => Simple, interpretable and intrinsically capable of detecting global outliers.\n",
    "### => So in summary, Isolation Forest can detect globally anomalous points that are distinct compared to the entire dataset by exploiting their isolation paths during tree construction."
   ]
  },
  {
   "cell_type": "markdown",
   "id": "a21dfce3-aa92-4e43-8e93-877f12a7806e",
   "metadata": {},
   "source": [
    "# 11] What are some real-world applications where local outlier detection is more appropriate than global outlier detection, and vice versa?"
   ]
  },
  {
   "cell_type": "markdown",
   "id": "0727de7b-1b46-4ddb-8b8a-e303fc328a3f",
   "metadata": {},
   "source": [
    "## 1) Local outlier detection is useful when:\n",
    "\n",
    "### => Detecting anomalies in spatial data like faulty sensors in a sensor network where locality is important.\n",
    "### => Identifying fraud in localized regions and subgroups. For example, unusual transactions in specific geographic areas.\n",
    "### => Monitoring time series data like vital signs for temporary anomalies for short durations.\n",
    "### => Finding odd observations that deviate from their local context, like defective products in a batch.\n",
    "### => Isolating sparse regions and small clusters as anomalies in highly dense datasets.\n",
    "## 2) Global outlier detection is useful when:\n",
    "\n",
    "### => Identifying extreme global deviations like patients with unprecedented symptoms in healthcare.\n",
    "### => Detecting events strongly divergent from the general population distribution. For example, rare genetic mutations.\n",
    "### => Finding outliers in data without clear locality or cluster structure.\n",
    "### => Building highly robust models by removing all globally anomalous samples.\n",
    "### => Detecting any instances that violate global assumptions or patterns."
   ]
  },
  {
   "cell_type": "code",
   "execution_count": null,
   "id": "0a95174c-39c0-4f20-b069-0625523a2eaa",
   "metadata": {},
   "outputs": [],
   "source": []
  }
 ],
 "metadata": {
  "kernelspec": {
   "display_name": "Python 3 (ipykernel)",
   "language": "python",
   "name": "python3"
  },
  "language_info": {
   "codemirror_mode": {
    "name": "ipython",
    "version": 3
   },
   "file_extension": ".py",
   "mimetype": "text/x-python",
   "name": "python",
   "nbconvert_exporter": "python",
   "pygments_lexer": "ipython3",
   "version": "3.10.8"
  }
 },
 "nbformat": 4,
 "nbformat_minor": 5
}
