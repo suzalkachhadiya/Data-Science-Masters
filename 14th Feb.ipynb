{
 "cells": [
  {
   "cell_type": "markdown",
   "id": "68854323",
   "metadata": {},
   "source": [
    "# 1] What is multithreading in python? why is it used? Name the module used to handle threads in python"
   ]
  },
  {
   "cell_type": "markdown",
   "id": "18087372",
   "metadata": {},
   "source": [
    "### => Multithreading in Python refers to the ability of a program to execute multiple threads concurrently within a single process. Each thread runs independently and can perform its own tasks simultaneously with other threads.\n",
    "\n",
    "### =>Multithreading is used to improve the performance of a program by utilizing the available system resources more efficiently. It is particularly useful when performing tasks that involve waiting for external resources like network connections, disk I/O, or user input. Instead of waiting for one task to finish before starting the next, multithreading allows multiple tasks to be executed concurrently, reducing the total time taken to complete all tasks.\n",
    "\n",
    "### => In Python, the threading module is used to handle threads."
   ]
  },
  {
   "cell_type": "markdown",
   "id": "509e8806",
   "metadata": {},
   "source": [
    "# 2] Why threading module used? write the use of the following functions:"
   ]
  },
  {
   "cell_type": "markdown",
   "id": "eaa6cc6d",
   "metadata": {},
   "source": [
    "## 1) Concurrency: \n",
    "### => The threading module allows multiple threads to execute concurrently within a single process, enabling a program to make more efficient use of system resources and to perform multiple tasks simultaneously.\n",
    "\n",
    "## 2) Responsiveness: \n",
    "### => By using threads, a program can maintain responsiveness even when performing long-running tasks such as I/O operations or waiting for external events. This can improve the overall user experience and make the program feel more interactive."
   ]
  },
  {
   "cell_type": "markdown",
   "id": "c235a55b",
   "metadata": {},
   "source": [
    "## 1) activeCount()"
   ]
  },
  {
   "cell_type": "markdown",
   "id": "31226da5",
   "metadata": {},
   "source": [
    "### => activecount() method in Python's threading module is primarily used to get the number of active threads currently running in a Python program.\n",
    "\n",
    "### => This method can be useful in scenarios where you have created multiple threads and want to keep track of the number of active threads at any given point in time. It can be helpful in monitoring the performance of your application and identifying potential performance bottlenecks."
   ]
  },
  {
   "cell_type": "markdown",
   "id": "21264009",
   "metadata": {},
   "source": [
    "## 2) currentThread()"
   ]
  },
  {
   "cell_type": "markdown",
   "id": "ae38c182",
   "metadata": {},
   "source": [
    "### => current_thread() is a method of the threading module in Python. It is used to get a reference to the currently executing thread object. \n",
    "### => current_thread() can be particularly useful in complex multi-threaded programs where you need to keep track of which threads are running at any given point in time. You can use it to identify which thread is executing a particular block of code and take appropriate actions based on that information.\n",
    "### => Overall, current_thread() is a powerful method that allows you to get detailed information about the currently executing thread and use that information to control the behavior of your program."
   ]
  },
  {
   "cell_type": "markdown",
   "id": "a028ebdf",
   "metadata": {},
   "source": [
    "## 3) enumerate()"
   ]
  },
  {
   "cell_type": "markdown",
   "id": "f8c6e30c",
   "metadata": {},
   "source": [
    "### => enumerate() is a built-in Python function that allows you to iterate over a sequence (e.g., a list, tuple, or string) and keep track of the index of each item as you iterate. The function returns an enumerate object, which generates tuples containing both the index and value of each item in the sequence.\n",
    "\n"
   ]
  },
  {
   "cell_type": "code",
   "execution_count": 1,
   "id": "9b5ab449",
   "metadata": {},
   "outputs": [
    {
     "name": "stdout",
     "output_type": "stream",
     "text": [
      "0 apple\n",
      "1 banana\n",
      "2 orange\n"
     ]
    }
   ],
   "source": [
    "fruits = ['apple', 'banana', 'orange']\n",
    "\n",
    "for index, fruit in enumerate(fruits):\n",
    "    print(index, fruit)\n"
   ]
  },
  {
   "cell_type": "markdown",
   "id": "a76414a7",
   "metadata": {},
   "source": [
    "# 3] Explain the following functions:"
   ]
  },
  {
   "cell_type": "markdown",
   "id": "f6eece83",
   "metadata": {},
   "source": [
    "## 1) run()"
   ]
  },
  {
   "cell_type": "markdown",
   "id": "830d56e8",
   "metadata": {},
   "source": [
    "### => The run() method is the entry point for a thread."
   ]
  },
  {
   "cell_type": "markdown",
   "id": "e609336f",
   "metadata": {},
   "source": [
    "## 2) start()"
   ]
  },
  {
   "cell_type": "markdown",
   "id": "f72a4932",
   "metadata": {},
   "source": [
    "### => The start() method starts a thread by calling the run method."
   ]
  },
  {
   "cell_type": "markdown",
   "id": "e42276df",
   "metadata": {},
   "source": [
    "## 3) join()"
   ]
  },
  {
   "cell_type": "markdown",
   "id": "fd436850",
   "metadata": {},
   "source": [
    "### => The join() waits for threads to terminate."
   ]
  },
  {
   "cell_type": "markdown",
   "id": "08714a52",
   "metadata": {},
   "source": [
    "## 4) isalive()"
   ]
  },
  {
   "cell_type": "markdown",
   "id": "28002ed0",
   "metadata": {},
   "source": [
    "### => The isAlive() method checks whether a thread is still executing."
   ]
  },
  {
   "cell_type": "markdown",
   "id": "dd7381ef",
   "metadata": {},
   "source": [
    "# 4] Write a python program to create two threads. Thread one must print the list of squares and thread two must print the list of cubes"
   ]
  },
  {
   "cell_type": "code",
   "execution_count": 7,
   "id": "019dec35",
   "metadata": {},
   "outputs": [],
   "source": [
    "import threading\n",
    "# lst=[1,2,3,4,5]\n",
    "def test(id):\n",
    "    if id == 1:\n",
    "        for i in [1,2,3,4,5]:\n",
    "            print(i*i,end=\" \")\n",
    "        print(\"\")\n",
    "    else:\n",
    "        for i in [1,2,3,4,5]:\n",
    "            print(i*i*i,end=\" \")\n",
    "        \n",
    "        "
   ]
  },
  {
   "cell_type": "code",
   "execution_count": 8,
   "id": "9e638315",
   "metadata": {},
   "outputs": [
    {
     "data": {
      "text/plain": [
       "[<Thread(Thread-9, initial)>, <Thread(Thread-10, initial)>]"
      ]
     },
     "execution_count": 8,
     "metadata": {},
     "output_type": "execute_result"
    }
   ],
   "source": [
    "thred=[threading.Thread(target=test,args=(i,)) for i in [1,2]]\n",
    "thred"
   ]
  },
  {
   "cell_type": "code",
   "execution_count": 9,
   "id": "9edfb8dd",
   "metadata": {},
   "outputs": [
    {
     "name": "stdout",
     "output_type": "stream",
     "text": [
      "1 4 9 16 25 \n",
      "1 8 27 64 125 "
     ]
    }
   ],
   "source": [
    "for t in thred:\n",
    "    t.start()"
   ]
  },
  {
   "cell_type": "markdown",
   "id": "2f5f054a",
   "metadata": {},
   "source": [
    "# 5] State advantages and disadvantages of multithreading"
   ]
  },
  {
   "cell_type": "markdown",
   "id": "b8d88457",
   "metadata": {},
   "source": [
    "# Advantages:\n",
    "## 1) Increased Performance:\n",
    "### => Multithreading can significantly improve the performance of a program by allowing it to perform multiple tasks simultaneously. This is particularly useful for programs that perform multiple I/O operations or compute-intensive tasks.\n",
    "## 2) Resource Sharing:\n",
    "### => Multiple threads can share the same resources, such as memory and I/O devices, which reduces the overall resource usage and increases the efficiency of the program.\n",
    "## 3) Responsiveness: \n",
    "### => Multithreaded programs can be more responsive to user input because they can continue to perform other tasks while waiting for user input.\n",
    "## 4) Simplifies Programming:\n",
    "### => Multithreading can simplify the programming of complex tasks by breaking them down into smaller, more manageable threads.\n",
    "## 5) Reduced Costs: \n",
    "### => Multithreading can reduce the overall cost of a program by reducing the need for additional hardware or software."
   ]
  },
  {
   "cell_type": "markdown",
   "id": "4229ab55",
   "metadata": {},
   "source": [
    "# Disadvantages:\n",
    "## 1)Complexity: \n",
    "### => Multithreading can add complexity to the program, making it more difficult to design, test, and debug.\n",
    "## 2) Synchronization Issues:\n",
    "### => Multithreading can create synchronization issues, such as race conditions, deadlocks, and livelocks, which can be difficult to resolve.\n",
    "## 3) Resource Overhead: \n",
    "### =>Multithreading can create additional overhead due to the need for synchronization and communication between threads, which can reduce the overall performance of the program.\n",
    "## 4) Bugs are Hard to Reproduce:\n",
    "### => Multithreading bugs can be hard to reproduce and diagnose because they may occur only under specific timing conditions.\n",
    "## 5) Security Issues:\n",
    "### => Multithreading can create security issues, such as data races and vulnerabilities that can be exploited by attackers."
   ]
  },
  {
   "cell_type": "markdown",
   "id": "95f966ef",
   "metadata": {},
   "source": [
    "# 6] Explain deadlocks and race conditions."
   ]
  },
  {
   "cell_type": "markdown",
   "id": "722afb7a",
   "metadata": {},
   "source": [
    "# deadlock\n",
    "### => Deadlocks can occur in Python multithreading when two or more threads are blocked, waiting for each other to release a resource. A common cause of deadlocks in Python multithreading is when multiple threads attempt to acquire the same set of locks in different orders."
   ]
  },
  {
   "cell_type": "markdown",
   "id": "f9b679d0",
   "metadata": {},
   "source": [
    "### => To avoid deadlocks in Python multithreading, it's important to carefully manage shared resources and ensure that locks are acquired in a consistent order. One way to avoid deadlocks is to use a \"lock hierarchy\" in which locks are always acquired in a specific order. Another approach is to use \"thread-safe\" data structures, which are designed to work correctly in multithreaded environments without requiring explicit locking."
   ]
  },
  {
   "cell_type": "markdown",
   "id": "6424b227",
   "metadata": {},
   "source": [
    "# race condition\n",
    "### => A race condition is a common issue that can occur in Python multithreading when two or more threads access shared data or resources simultaneously, and the outcome depends on the timing and order of thread execution. A race condition can lead to unexpected or incorrect behavior in a program."
   ]
  },
  {
   "cell_type": "markdown",
   "id": "fa07f409",
   "metadata": {},
   "source": [
    "### => To avoid race conditions in Python multithreading, it's important to carefully manage shared data and resources using synchronization mechanisms such as locks or semaphores. For example, the threading.Lock() class can be used to ensure that only one thread at a time can access a shared resource."
   ]
  },
  {
   "cell_type": "code",
   "execution_count": null,
   "id": "25cd5327",
   "metadata": {},
   "outputs": [],
   "source": []
  }
 ],
 "metadata": {
  "kernelspec": {
   "display_name": "Python 3 (ipykernel)",
   "language": "python",
   "name": "python3"
  },
  "language_info": {
   "codemirror_mode": {
    "name": "ipython",
    "version": 3
   },
   "file_extension": ".py",
   "mimetype": "text/x-python",
   "name": "python",
   "nbconvert_exporter": "python",
   "pygments_lexer": "ipython3",
   "version": "3.9.13"
  }
 },
 "nbformat": 4,
 "nbformat_minor": 5
}
